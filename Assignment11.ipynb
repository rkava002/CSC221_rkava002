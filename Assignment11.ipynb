{
  "nbformat": 4,
  "nbformat_minor": 0,
  "metadata": {
    "colab": {
      "provenance": [],
      "authorship_tag": "ABX9TyN4TwW+4nO7PkB/xr4ApWEQ",
      "include_colab_link": true
    },
    "kernelspec": {
      "name": "python3",
      "display_name": "Python 3"
    },
    "language_info": {
      "name": "python"
    }
  },
  "cells": [
    {
      "cell_type": "markdown",
      "metadata": {
        "id": "view-in-github",
        "colab_type": "text"
      },
      "source": [
        "<a href=\"https://colab.research.google.com/github/rkava002/CSC221_rkava002/blob/main/Assignment11.ipynb\" target=\"_parent\"><img src=\"https://colab.research.google.com/assets/colab-badge.svg\" alt=\"Open In Colab\"/></a>"
      ]
    },
    {
      "cell_type": "code",
      "source": [
        "#RYAN KAVANAUGH\n",
        "#ASSIGNMENT11"
      ],
      "metadata": {
        "id": "My0PUDCUXcEH"
      },
      "execution_count": null,
      "outputs": []
    },
    {
      "cell_type": "code",
      "source": [
        "class Dog():\n",
        "  \"\"\"A simple attempt to model a dog.\"\"\"\n",
        "  def __init__(self, name, age):\n",
        "    \"\"\"Initialize name and age attributes.\"\"\"\n",
        "    self.name = name\n",
        "    self.age = age\n",
        "\n",
        "  def sit(self):\n",
        "    \"\"\"Simulate a dog sitting in response to a command.\"\"\"\n",
        "    print(self.name.title() + \" is now sitting.\")\n",
        "  def roll_over(self):\n",
        "    \"\"\"Simulate rolling over in response to a command.\"\"\"\n",
        "    print(self.name.title() + \" rolled over!\")"
      ],
      "metadata": {
        "id": "2YdZnz4IOx11"
      },
      "execution_count": null,
      "outputs": []
    },
    {
      "cell_type": "code",
      "source": [
        "#class Dog():\n",
        "# --snip--\n",
        "\n",
        "my_dog = Dog('willie', 6)\n",
        "\n",
        "print(f\"My dog's name is  {my_dog.name}.\")\n",
        "print(f\"My dog is {my_dog.age} years old.\")"
      ],
      "metadata": {
        "colab": {
          "base_uri": "https://localhost:8080/",
          "height": 250
        },
        "id": "jgkvxzR0PPWK",
        "outputId": "8c7fddaf-ca8e-437d-fa91-7396985bf4a8"
      },
      "execution_count": null,
      "outputs": [
        {
          "output_type": "error",
          "ename": "NameError",
          "evalue": "ignored",
          "traceback": [
            "\u001b[0;31m---------------------------------------------------------------------------\u001b[0m",
            "\u001b[0;31mNameError\u001b[0m                                 Traceback (most recent call last)",
            "\u001b[0;32m<ipython-input-12-36fce3bed4d7>\u001b[0m in \u001b[0;36m<cell line: 4>\u001b[0;34m()\u001b[0m\n\u001b[1;32m      2\u001b[0m \u001b[0;31m# --snip--\u001b[0m\u001b[0;34m\u001b[0m\u001b[0;34m\u001b[0m\u001b[0m\n\u001b[1;32m      3\u001b[0m \u001b[0;34m\u001b[0m\u001b[0m\n\u001b[0;32m----> 4\u001b[0;31m \u001b[0mmy_dog\u001b[0m \u001b[0;34m=\u001b[0m \u001b[0mDog\u001b[0m\u001b[0;34m(\u001b[0m\u001b[0;34m'willie'\u001b[0m\u001b[0;34m,\u001b[0m \u001b[0;36m6\u001b[0m\u001b[0;34m)\u001b[0m\u001b[0;34m\u001b[0m\u001b[0;34m\u001b[0m\u001b[0m\n\u001b[0m\u001b[1;32m      5\u001b[0m \u001b[0;34m\u001b[0m\u001b[0m\n\u001b[1;32m      6\u001b[0m \u001b[0mprint\u001b[0m\u001b[0;34m(\u001b[0m\u001b[0;34mf\"My dog's name is  {my_dog.name}.\"\u001b[0m\u001b[0;34m)\u001b[0m\u001b[0;34m\u001b[0m\u001b[0;34m\u001b[0m\u001b[0m\n",
            "\u001b[0;31mNameError\u001b[0m: name 'Dog' is not defined"
          ]
        }
      ]
    },
    {
      "cell_type": "code",
      "source": [
        "#class Dog():\n",
        "# --snip--\n",
        "\n",
        "#my_dog = Dog('willie', 6)\n",
        "my_dog.sit()\n",
        "my_dog.roll_over()"
      ],
      "metadata": {
        "colab": {
          "base_uri": "https://localhost:8080/",
          "height": 232
        },
        "id": "r4UPv3gbPkoh",
        "outputId": "80d5afcb-6234-43df-b272-e3938f7be0b7"
      },
      "execution_count": null,
      "outputs": [
        {
          "output_type": "error",
          "ename": "NameError",
          "evalue": "ignored",
          "traceback": [
            "\u001b[0;31m---------------------------------------------------------------------------\u001b[0m",
            "\u001b[0;31mNameError\u001b[0m                                 Traceback (most recent call last)",
            "\u001b[0;32m<ipython-input-13-e05b9e971ed2>\u001b[0m in \u001b[0;36m<cell line: 5>\u001b[0;34m()\u001b[0m\n\u001b[1;32m      3\u001b[0m \u001b[0;34m\u001b[0m\u001b[0m\n\u001b[1;32m      4\u001b[0m \u001b[0;31m#my_dog = Dog('willie', 6)\u001b[0m\u001b[0;34m\u001b[0m\u001b[0;34m\u001b[0m\u001b[0m\n\u001b[0;32m----> 5\u001b[0;31m \u001b[0mmy_dog\u001b[0m\u001b[0;34m.\u001b[0m\u001b[0msit\u001b[0m\u001b[0;34m(\u001b[0m\u001b[0;34m)\u001b[0m\u001b[0;34m\u001b[0m\u001b[0;34m\u001b[0m\u001b[0m\n\u001b[0m\u001b[1;32m      6\u001b[0m \u001b[0mmy_dog\u001b[0m\u001b[0;34m.\u001b[0m\u001b[0mroll_over\u001b[0m\u001b[0;34m(\u001b[0m\u001b[0;34m)\u001b[0m\u001b[0;34m\u001b[0m\u001b[0;34m\u001b[0m\u001b[0m\n",
            "\u001b[0;31mNameError\u001b[0m: name 'my_dog' is not defined"
          ]
        }
      ]
    },
    {
      "cell_type": "code",
      "source": [
        "#class Dog():\n",
        "# --snip--\n",
        "#my_dog = Dog('willie', 6)\n",
        "your_dog = Dog('lucy', 3)\n",
        "\n",
        "print(f\"My dog's name is {my_dog.name}.\")\n",
        "print(f\"My dog is {my_dog.age} years old.\")\n",
        "my_dog.sit()\n",
        "\n",
        "print(f\"\\nYour dog's name is {your_dog.name}.\")\n",
        "print(f\"Your dog is {your_dog.age} years old.\")\n",
        "your_dog.sit()"
      ],
      "metadata": {
        "colab": {
          "base_uri": "https://localhost:8080/",
          "height": 143
        },
        "id": "pP2dHiIYQFY2",
        "outputId": "5a9b5307-4fc4-4716-cd3e-45819bc0b20e"
      },
      "execution_count": null,
      "outputs": [
        {
          "output_type": "error",
          "ename": "SyntaxError",
          "evalue": "ignored",
          "traceback": [
            "\u001b[0;36m  File \u001b[0;32m\"<ipython-input-9-67041b4aabdc>\"\u001b[0;36m, line \u001b[0;32m2\u001b[0m\n\u001b[0;31m    --snip--\u001b[0m\n\u001b[0m            ^\u001b[0m\n\u001b[0;31mSyntaxError\u001b[0m\u001b[0;31m:\u001b[0m invalid syntax\n"
          ]
        }
      ]
    },
    {
      "cell_type": "code",
      "source": [
        "class Dog():\n",
        " --snip--\n",
        "my_dog = Dog('willie', 6)\n",
        "your_dog = Dog('lucy', 3)\n",
        "print(\"My dog's name is \" + my_dog.name.title() + \".\")\n",
        "print(\"My dog is \" + str(my_dog.age) + \" years old.\")\n",
        "my_dog.sit()"
      ],
      "metadata": {
        "id": "XaDIb56-Pn8L"
      },
      "execution_count": null,
      "outputs": []
    },
    {
      "cell_type": "code",
      "source": [
        "#9.1\n",
        "class Restaurant:\n",
        "    def __init__(self, restaurant_name, cuisine_type):\n",
        "        self.restaurant_name = restaurant_name\n",
        "        self.cuisine_type = cuisine_type\n",
        "\n",
        "    def describe_restaurant(self):\n",
        "        print(f\"Restaurant Name: {self.restaurant_name}\")\n",
        "        print(f\"Cuisine Type: {self.cuisine_type}\")\n",
        "\n",
        "    def open_restaurant(self):\n",
        "        print(f\"{self.restaurant_name} is now open!\")\n",
        "\n",
        "# Creating an instance\n",
        "restaurant = Restaurant(\"Best Bites\", \"Italian\")\n",
        "\n",
        "# Printing attributes individually\n",
        "print(f\"Restaurant Name: {restaurant.restaurant_name}\")\n",
        "print(f\"Cuisine Type: {restaurant.cuisine_type}\")\n",
        "\n",
        "# Calling methods\n",
        "restaurant.describe_restaurant()\n",
        "restaurant.open_restaurant()"
      ],
      "metadata": {
        "colab": {
          "base_uri": "https://localhost:8080/"
        },
        "id": "mFeh2z0bLBTD",
        "outputId": "6d15aa9b-2d61-4abe-828d-f94ea4c5960f"
      },
      "execution_count": null,
      "outputs": [
        {
          "output_type": "stream",
          "name": "stdout",
          "text": [
            "Restaurant Name: Best Bites\n",
            "Cuisine Type: Italian\n",
            "Restaurant Name: Best Bites\n",
            "Cuisine Type: Italian\n",
            "Best Bites is now open!\n"
          ]
        }
      ]
    },
    {
      "cell_type": "code",
      "source": [
        "#9.2\n",
        "# Creating three instances\n",
        "restaurant1 = Restaurant(\"Tasty Tacos\", \"Mexican\")\n",
        "restaurant2 = Restaurant(\"Sushi Delight\", \"Japanese\")\n",
        "restaurant3 = Restaurant(\"Burger Haven\", \"American\")\n",
        "\n",
        "# Calling describe_restaurant() for each instance\n",
        "restaurant1.describe_restaurant()\n",
        "restaurant2.describe_restaurant()\n",
        "restaurant3.describe_restaurant()"
      ],
      "metadata": {
        "colab": {
          "base_uri": "https://localhost:8080/"
        },
        "id": "Xlg0vz7_LBby",
        "outputId": "8452eea1-06f8-42c1-da30-05e6154f2d47"
      },
      "execution_count": null,
      "outputs": [
        {
          "output_type": "stream",
          "name": "stdout",
          "text": [
            "Restaurant Name: Tasty Tacos\n",
            "Cuisine Type: Mexican\n",
            "Restaurant Name: Sushi Delight\n",
            "Cuisine Type: Japanese\n",
            "Restaurant Name: Burger Haven\n",
            "Cuisine Type: American\n"
          ]
        }
      ]
    },
    {
      "cell_type": "code",
      "source": [
        "#9.3\n",
        "class User:\n",
        "    def __init__(self, first_name, last_name, age, email):\n",
        "        self.first_name = first_name\n",
        "        self.last_name = last_name\n",
        "        self.age = age\n",
        "        self.email = email\n",
        "\n",
        "    def describe_user(self):\n",
        "        print(f\"User: {self.first_name} {self.last_name}\")\n",
        "        print(f\"Age: {self.age}\")\n",
        "        print(f\"Email: {self.email}\")\n",
        "\n",
        "    def greet_user(self):\n",
        "        print(f\"Hello, {self.first_name}! Welcome back.\")\n",
        "\n",
        "# Creating instances for different users\n",
        "user1 = User(\"Ryan\", \"Kavanaugh\", 20, \"rkava002@plattsburgh.edu\")\n",
        "user2 = User(\"Bob\", \"Smith\", 30, \"Bob.smith@gmail.com\")\n",
        "user3 = User(\"Smith\", \"Bob\", 22, \"Smith.bob@gamil.com\")\n",
        "\n",
        "# Calling methods for each user\n",
        "user1.describe_user()\n",
        "user1.greet_user()\n",
        "\n",
        "user2.describe_user()\n",
        "user2.greet_user()\n",
        "\n",
        "user3.describe_user()\n",
        "user3.greet_user()"
      ],
      "metadata": {
        "colab": {
          "base_uri": "https://localhost:8080/"
        },
        "id": "dpPfSzuCLJ5g",
        "outputId": "33e1ad99-bc70-463e-a6f9-302db5992b74"
      },
      "execution_count": null,
      "outputs": [
        {
          "output_type": "stream",
          "name": "stdout",
          "text": [
            "User: Ryan Kavanaugh\n",
            "Age: 20\n",
            "Email: rkava002@plattsburgh.edu\n",
            "Hello, Ryan! Welcome back.\n",
            "User: Bob Smith\n",
            "Age: 30\n",
            "Email: Bob.smith@gmail.com\n",
            "Hello, Bob! Welcome back.\n",
            "User: Smith Bob\n",
            "Age: 22\n",
            "Email: Smith.bob@gamil.com\n",
            "Hello, Smith! Welcome back.\n"
          ]
        }
      ]
    },
    {
      "cell_type": "code",
      "source": [
        "class Car:\n",
        " \"\"\"A simple attempt to represent a car.\"\"\"\n",
        "\n",
        "    def __init__(self, make, model, year):\n",
        "      \"\"\"Initialize attributes to describe a car.\"\"\"\n",
        "      self.make = make\n",
        "      self.model = model\n",
        "      self.year = year\n",
        "    def get_descriptive_name(self):\n",
        "      \"\"\"Return a neatly formatted descriptive name.\"\"\"\n",
        "      long_name = f\"{self.year} {self.make} {self.model}\"\n",
        "        return long_name.title()\n",
        "\n",
        "my_new_car = Car('audi', 'a4', 2024)\n",
        "print(my_new_car.get_descriptive_name())"
      ],
      "metadata": {
        "colab": {
          "base_uri": "https://localhost:8080/",
          "height": 143
        },
        "id": "I22oqCPAPoBS",
        "outputId": "09983521-c7b4-4c96-b1ba-de48ee66c808"
      },
      "execution_count": null,
      "outputs": [
        {
          "output_type": "error",
          "ename": "IndentationError",
          "evalue": "ignored",
          "traceback": [
            "\u001b[0;36m  File \u001b[0;32m\"<ipython-input-20-11c6052319ce>\"\u001b[0;36m, line \u001b[0;32m4\u001b[0m\n\u001b[0;31m    def __init__(self, make, model, year):\u001b[0m\n\u001b[0m    ^\u001b[0m\n\u001b[0;31mIndentationError\u001b[0m\u001b[0;31m:\u001b[0m unexpected indent\n"
          ]
        }
      ]
    },
    {
      "cell_type": "code",
      "source": [
        "class Car():\n",
        "\n",
        "    def __init__(self, make, model, year):\n",
        "      \"\"\"Initialize attributes to describe a car.\"\"\"\n",
        "      self.make = make\n",
        "      self.model = model\n",
        "      self.year = year\n",
        "      self.odometer_reading = 0\n",
        "\n",
        "    def get_descriptive_name(self):\n",
        "      #--snip--\n",
        "\n",
        "    def read_odometer(self):\n",
        "      \"\"\"Print a statement showing the car's mileage.\"\"\"\n",
        "      print(f\"This car has {self.odometer_reading} miles on it.\")\n",
        "\n",
        "my_new_car = Car('audi', 'a4', 2024)\n",
        "print(my_new_car.get_descriptive_name())\n",
        "my_new_car.read_odometer()"
      ],
      "metadata": {
        "colab": {
          "base_uri": "https://localhost:8080/",
          "height": 143
        },
        "id": "KVykS6WPUczk",
        "outputId": "0df8bd57-d664-42d0-c86b-1d1e8895d30c"
      },
      "execution_count": null,
      "outputs": [
        {
          "output_type": "error",
          "ename": "IndentationError",
          "evalue": "ignored",
          "traceback": [
            "\u001b[0;36m  File \u001b[0;32m\"<ipython-input-22-437de28d94f3>\"\u001b[0;36m, line \u001b[0;32m13\u001b[0m\n\u001b[0;31m    def read_odometer(self):\u001b[0m\n\u001b[0m    ^\u001b[0m\n\u001b[0;31mIndentationError\u001b[0m\u001b[0;31m:\u001b[0m expected an indented block after function definition on line 10\n"
          ]
        }
      ]
    },
    {
      "cell_type": "code",
      "source": [
        "class Car():\n",
        "    --snip--\n",
        "\n",
        "my_new_car = Car('audi', 'a4', 2016)\n",
        "print(my_new_car.get_descriptive_name())\n",
        "\n",
        "my_new_car.odometer_reading = 23\n",
        "my_new_car.read_odometer()"
      ],
      "metadata": {
        "colab": {
          "base_uri": "https://localhost:8080/",
          "height": 143
        },
        "id": "rLF1Err3PoEA",
        "outputId": "a2dcda98-cb34-4b6d-d507-660c312624a7"
      },
      "execution_count": null,
      "outputs": [
        {
          "output_type": "error",
          "ename": "SyntaxError",
          "evalue": "ignored",
          "traceback": [
            "\u001b[0;36m  File \u001b[0;32m\"<ipython-input-23-9cecd5fc5a7f>\"\u001b[0;36m, line \u001b[0;32m2\u001b[0m\n\u001b[0;31m    --snip--\u001b[0m\n\u001b[0m            ^\u001b[0m\n\u001b[0;31mSyntaxError\u001b[0m\u001b[0;31m:\u001b[0m invalid syntax\n"
          ]
        }
      ]
    },
    {
      "cell_type": "code",
      "source": [
        "class Car():\n",
        "    --snip--\n",
        "\n",
        "    def update_odometer(self, mileage):\n",
        "      \"\"\"Set the odometer reading to the given value.\"\"\"\n",
        "      self.odometer_reading = mileage\n",
        "\n",
        "my_new_car = Car('audi', 'a4', 2016)\n",
        "print(my_new_car.get_descriptive_name())\n",
        "\n",
        "my_new_car.update_odometer(23)\n",
        "my_new_car.read_odometer()"
      ],
      "metadata": {
        "id": "kzXp3TUBPoGh"
      },
      "execution_count": null,
      "outputs": []
    },
    {
      "cell_type": "code",
      "source": [
        "class Car():\n",
        "    --snip--\n",
        "\n",
        "    def update_odometer(self, mileage):\n",
        "    \"\"\"\n",
        "    Set the odometer reading to the given value.\n",
        "    Reject the change if it attempts to roll the odometer back.\n",
        "    \"\"\"\n",
        "    if mileage >= self.odometer_reading:\n",
        "      self.odometer_reading = mileage\n",
        "    else:\n",
        "      print(\"You can't roll back an odometer!\")"
      ],
      "metadata": {
        "colab": {
          "base_uri": "https://localhost:8080/",
          "height": 143
        },
        "id": "FM_myV_tPoI0",
        "outputId": "75dcb97c-137f-43ac-9a45-397ab644e569"
      },
      "execution_count": null,
      "outputs": [
        {
          "output_type": "error",
          "ename": "SyntaxError",
          "evalue": "ignored",
          "traceback": [
            "\u001b[0;36m  File \u001b[0;32m\"<ipython-input-24-88e365797192>\"\u001b[0;36m, line \u001b[0;32m2\u001b[0m\n\u001b[0;31m    --snip--\u001b[0m\n\u001b[0m            ^\u001b[0m\n\u001b[0;31mSyntaxError\u001b[0m\u001b[0;31m:\u001b[0m invalid syntax\n"
          ]
        }
      ]
    },
    {
      "cell_type": "code",
      "source": [
        "class Car():\n",
        "    --snip--\n",
        "\n",
        "    def update_odometer(self, mileage):\n",
        "      --snip--\n",
        "\n",
        "    def increment_odometer(self, miles):\n",
        "      \"\"\"Add the given amount to the odometer reading.\"\"\"\n",
        "      self.odometer_reading += miles\n",
        "\n",
        "my_used_car = Car('subaru', 'outback', 2019)\n",
        "print(my_used_car.get_descriptive_name())\n",
        "\n",
        "my_used_car.update_odometer(23_500)\n",
        "my_used_car.read_odometer()\n",
        "\n",
        "my_used_car.increment_odometer(100)\n",
        "my_used_car.read_odometer()"
      ],
      "metadata": {
        "id": "H9BK8vATPoLB"
      },
      "execution_count": null,
      "outputs": []
    },
    {
      "cell_type": "code",
      "source": [
        "class Car():\n",
        "    \"\"\"A simple attempt to represent a car.\"\"\"\n",
        "\n",
        "    def __init__(self, make, model, year):\n",
        "      self.make = make\n",
        "      self.model = model\n",
        "      self.year = year\n",
        "      self.odometer_reading = 0\n",
        "\n",
        "    def get_descriptive_name(self):\n",
        "      long_name = f\"{self.year} {self.make} {self.model}\"\n",
        "      return long_name.title()\n",
        "\n",
        "    def read_odometer(self):\n",
        "    print(f\"This car has {self.odometer_reading} miles on it.\")\n",
        "\n",
        "    def update_odometer(self, mileage):\n",
        "      if mileage >= self.odometer_reading:\n",
        "        self.odometer_reading = mileage\n",
        "      else:\n",
        "        print(\"You can't roll back an odometer!\")\n",
        "\n",
        "    def increment_odometer(self, miles):\n",
        "      self.odometer_reading += miles\n",
        "\n",
        "class ElectricCar(Car):\n",
        " \"\"\"Represent aspects of a car, specific to electric vehicles.\"\"\"\n",
        "    def __init__(self, make, model, year):\n",
        "      \"\"\"Initialize attributes of the parent class.\"\"\"\n",
        "      super().__init__(make, model, year)\n",
        "\n",
        "my_leaf = ElectricCar('nissan', 'leaf', 2024)\n",
        "print(my_leaf.get_descriptive_name())"
      ],
      "metadata": {
        "id": "GOydUWXlXMgh"
      },
      "execution_count": null,
      "outputs": []
    },
    {
      "cell_type": "code",
      "source": [
        "class Car():\n",
        "    --snip--\n",
        "class ElectricCar(Car):\n",
        "\"\"\"Represent aspects of a car, specific to electric vehicles.\"\"\"\n",
        "\n",
        "    def __init__(self, make, model, year):\n",
        "      \"\"\"\n",
        "      Initialize attributes of the parent class.\n",
        "      Then initialize attributes specific to an electric car.\n",
        "      \"\"\"\n",
        "      super().__init__(make, model, year)\n",
        "      self.battery_size = 40\n",
        "\n",
        "      def describe_battery(self):\n",
        "        \"\"\"Print a statement describing the battery size.\"\"\"\n",
        "        print(\"This car has a \" + str(self.battery_size) + \"-kWh battery.\")\n",
        "\n",
        "my_leaf = ElectricCar('nissan', 'leaf', 2024)\n",
        "print(my_leaf.get_descriptive_name())\n",
        "my_leaf.describe_battery()"
      ],
      "metadata": {
        "id": "bGoAAwZXXW7m"
      },
      "execution_count": null,
      "outputs": []
    },
    {
      "cell_type": "code",
      "source": [
        "def ElectricCar(Car):\n",
        "    --snip--\n",
        "    def fill_gas_tank():\n",
        "      \"\"\"Electric cars don't have gas tanks.\"\"\"\n",
        "      print(\"This car doesn't need a gas tank!\")"
      ],
      "metadata": {
        "id": "-U7-ZKp1XW-V"
      },
      "execution_count": null,
      "outputs": []
    },
    {
      "cell_type": "code",
      "source": [
        "class Car():\n",
        "    --snip--\n",
        "\n",
        "class Battery():\n",
        "    \"\"\"A simple attempt to model a battery for an electric car.\"\"\"\n",
        "\n",
        "    def __init__(self, battery_size=40):\n",
        "      \"\"\"Initialize the battery's attributes.\"\"\"\n",
        "      self.battery_size = battery_size\n",
        "\n",
        "    def describe_battery(self):\n",
        "      \"\"\"Print a statement describing the battery size.\"\"\"\n",
        "      print(f\"This car has a {self.battery_size} -kWh battery.\")\n",
        "\n",
        "\n",
        "class ElectricCar(Car):\n",
        "    \"\"\"Represent aspects of a car, specific to electric vehicles.\"\"\"\n",
        "    def __init__(self, make, model, year):\n",
        "      \"\"\"\n",
        "      Initialize attributes of the parent class.\n",
        "      Then initialize attributes specific to an electric car.\n",
        "      \"\"\"\n",
        "      super().__init__(make, model, year)\n",
        "      self.battery = Battery()\n",
        "\n",
        "my_leaf = ElectricCar('nissan', 'leaf', 2024)\n",
        "print(my_leaf.get_descriptive_name())\n",
        "my_leaf.battery.describe_battery()"
      ],
      "metadata": {
        "id": "wTKr3riCZinA"
      },
      "execution_count": null,
      "outputs": []
    },
    {
      "cell_type": "code",
      "source": [
        "class Car():\n",
        "    --snip--\n",
        "\n",
        "class Battery():\n",
        "    --snip--\n",
        "\n",
        "    def get_range(self):\n",
        "      \"\"\"Print a statement about the range this battery provides.\"\"\"\n",
        "      if self.battery_size == 40:\n",
        "        range = 150\n",
        "      elif self.battery_size == 65:\n",
        "        range = 225\n",
        "\n",
        "      print (f\"This car can go about {range} miles on a full charge\")\n",
        "\n",
        "class ElectricCar (Car):\n",
        "    --snip--\n",
        "\n",
        "my_leaf = ElectricCar('nissan', 'leaf', 2024)\n",
        "print(my_leaf.get_descriptive_name())\n",
        "my_leaf.battery.describe_battery()\n",
        "my_leaf.battery.get_range()"
      ],
      "metadata": {
        "id": "fiZHpH9YZjJk"
      },
      "execution_count": null,
      "outputs": []
    },
    {
      "cell_type": "code",
      "source": [
        "#9.6\n",
        "class IceCreamStand(Restaurant):\n",
        "    def __init__(self, restaurant_name, cuisine_type, flavors):\n",
        "        super().__init__(restaurant_name, cuisine_type)\n",
        "        self.flavors = flavors\n",
        "\n",
        "    def display_flavors(self):\n",
        "        print(\"Available Ice Cream Flavors:\")\n",
        "        for flavor in self.flavors:\n",
        "            print(f\"- {flavor}\")\n",
        "\n",
        "# Creating an instance of IceCreamStand\n",
        "ice_cream_stand = IceCreamStand(\"Sweet Scoops\", \"Dessert\", [\"Vanilla\", \"Chocolate\", \"Strawberry\", \"Mint Chip\"])\n",
        "\n",
        "# Calling the display_flavors method\n",
        "ice_cream_stand.display_flavors()\n"
      ],
      "metadata": {
        "colab": {
          "base_uri": "https://localhost:8080/"
        },
        "id": "53iE657_LJ8S",
        "outputId": "678c76e1-4ec5-4295-ba78-9bd54a197b17"
      },
      "execution_count": null,
      "outputs": [
        {
          "output_type": "stream",
          "name": "stdout",
          "text": [
            "Available Ice Cream Flavors:\n",
            "- Vanilla\n",
            "- Chocolate\n",
            "- Strawberry\n",
            "- Mint Chip\n"
          ]
        }
      ]
    },
    {
      "cell_type": "code",
      "source": [
        "#9.7\n",
        "class Admin(User):\n",
        "    def __init__(self, first_name, last_name, age, email, privileges):\n",
        "        super().__init__(first_name, last_name, age, email)\n",
        "        self.privileges = privileges\n",
        "\n",
        "    def show_privileges(self):\n",
        "        print(\"Admin Privileges:\")\n",
        "        for privilege in self.privileges:\n",
        "            print(f\"- {privilege}\")\n",
        "\n",
        "# Creating an instance of Admin\n",
        "admin_user = Admin(\"Admin\", \"User\", 35, \"admin@example.com\", [\"can add post\", \"can delete post\", \"can ban user\"])\n",
        "\n",
        "# Calling the show_privileges method\n",
        "admin_user.show_privileges()\n"
      ],
      "metadata": {
        "colab": {
          "base_uri": "https://localhost:8080/"
        },
        "id": "k9V4lIjoLJ-h",
        "outputId": "2100841c-ee70-4669-c959-8934ba8f28e3"
      },
      "execution_count": null,
      "outputs": [
        {
          "output_type": "stream",
          "name": "stdout",
          "text": [
            "Admin Privileges:\n",
            "- can add post\n",
            "- can delete post\n",
            "- can ban user\n"
          ]
        }
      ]
    },
    {
      "cell_type": "code",
      "source": [
        "class Car():\n",
        "    \"\"\"A simple attempt to represent a car.\"\"\"\n",
        "\n",
        "    def __init__(self, make, model, year):\n",
        "      \"\"\"Initialize attributes to describe a car.\"\"\"\n",
        "      self.make = make\n",
        "      self.model = model\n",
        "      self.year = year\n",
        "      self.odometer_reading = 0\n",
        "\n",
        "    def get_descriptive_name(self):\n",
        "      \"\"\"Return a neatly formatted descriptive name.\"\"\"\n",
        "      long_name = f\"{self.year} {self.make} {self.model}\"\n",
        "      return long_name.title()\n",
        "\n",
        "    def read_odometer(self):\n",
        "      \"\"\"Print a statement showing the car's mileage.\"\"\"\n",
        "      print(f\"This car has {self.odometer_reading} miles on it.\")\n",
        "\n",
        "    def update_odometer(self, mileage):\n",
        "      \"\"\"\n",
        "      Set the odometer reading to the given value.\n",
        "      Reject the change if it attempts to roll the odometer back.\n",
        "      \"\"\"\n",
        "      if mileage >= self.odometer_reading:\n",
        "        self.odometer_reading = mileage\n",
        "      else:\n",
        "        print(\"You can't roll back an odometer!\")\n",
        "\n",
        "    def increment_odometer(self, miles):\n",
        "      \"\"\"Add the given amount to the odometer reading.\"\"\"\n",
        "      self.odometer_reading += miles"
      ],
      "metadata": {
        "id": "O8QNMPqGZjMA"
      },
      "execution_count": null,
      "outputs": []
    },
    {
      "cell_type": "code",
      "source": [
        "from car import Car\n",
        "\n",
        "my_new_car = Car('audi', 'a4', 2024)\n",
        "print(my_new_car.get_descriptive_name())\n",
        "my_new_car.odometer_reading = 23\n",
        "my_new_car.read_odometer()"
      ],
      "metadata": {
        "id": "_vKaroBLZjRV"
      },
      "execution_count": null,
      "outputs": []
    },
    {
      "cell_type": "code",
      "source": [
        "class Car():\n",
        "    --snip--\n",
        "\n",
        "class Battery():\n",
        "    \"\"\"A simple attempt to model a battery for an electric car.\"\"\"\n",
        "    def __init__(self, battery_size=60):\n",
        "      \"\"\"Initialize the batteery's attributes.\"\"\"\n",
        "      self.battery_size = battery_size\n",
        "    def describe_battery(self):\n",
        "      \"\"\"Print a statement describing the battery size.\"\"\"\n",
        "      print(f\"This car has a {self.battery_size} -kWh battery.\")\n",
        "\n",
        "    def get_range(self):\n",
        "      \"\"\"Print a statement about the range this battery provides.\"\"\"\n",
        "      if self.battery_size == 40:\n",
        "        range = 150\n",
        "      elif self.battery_size == 65:\n",
        "        range = 225\n",
        "\n",
        "      print(f\"This car can go about {range} miles on a full charge.\")\n",
        "\n",
        "class ElectricCar(Car):\n",
        "    \"\"\"Models aspects of a car, specific to electric vehicles.\"\"\"\n",
        "    def __init__(self, make, model, year):\n",
        "      \"\"\"\n",
        "      Initialize attributes of the parent class.\n",
        "      Then initialize attributes specific to an electric car.\n",
        "      \"\"\"\n",
        "      super().__init__(make, model, year)\n",
        "      self.battery = Battery()"
      ],
      "metadata": {
        "id": "StVWtCsxccIg"
      },
      "execution_count": null,
      "outputs": []
    },
    {
      "cell_type": "code",
      "source": [
        "from car import ElectricCar\n",
        "\n",
        "my_leaf = ElectricCar('nissan', 'leaf', 2024)\n",
        "print(my_leaf.get_descriptive_name())\n",
        "my_leaf.battery.describe_battery()\n",
        "my_leaf.battery.get_range()"
      ],
      "metadata": {
        "id": "a5Gf8igVdjRR"
      },
      "execution_count": null,
      "outputs": []
    },
    {
      "cell_type": "code",
      "source": [
        "from car import Car, ElectricCar\n",
        "my_mustang = Car('ford', 'mustang', 2024)\n",
        "print(my_mustang.get_descriptive_name())\n",
        "my_leaf = ElectricCar('nissan', 'leaf', 2024)\n",
        "print(my_leaf.get_descriptive_name())"
      ],
      "metadata": {
        "id": "eQnBpFV8djVS"
      },
      "execution_count": null,
      "outputs": []
    },
    {
      "cell_type": "code",
      "source": [
        "import car\n",
        "\n",
        "my_mustang = car.Car('ford', 'mustang', 2024)\n",
        "print(my_mustang.get_descriptive_name())\n",
        "\n",
        "my_leaf = car.ElectricCar('nissan', 'leaf', 2024)\n",
        "print(my_leaf.get_descriptive_name())"
      ],
      "metadata": {
        "id": "BeUo6c7rdjX5"
      },
      "execution_count": null,
      "outputs": []
    },
    {
      "cell_type": "code",
      "source": [
        "from car import Car\n",
        "from electric_car import ElectricCar\n",
        "\n",
        "\n",
        "my_mustang = Car('ford', 'mustang', 2024)\n",
        "print(my_mustang.get_descriptive_name())\n",
        "\n",
        "my_leaf = ElectricCar('nissan', 'leaf', 2024)\n",
        "print(my_leaf.get_descriptive_name())"
      ],
      "metadata": {
        "id": "RjLziDg8ebfK"
      },
      "execution_count": null,
      "outputs": []
    }
  ]
}