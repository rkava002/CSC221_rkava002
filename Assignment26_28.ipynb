{
  "nbformat": 4,
  "nbformat_minor": 0,
  "metadata": {
    "colab": {
      "provenance": [],
      "authorship_tag": "ABX9TyP5i/AfNW7rlDlXm6Xpu2eA",
      "include_colab_link": true
    },
    "kernelspec": {
      "name": "python3",
      "display_name": "Python 3"
    },
    "language_info": {
      "name": "python"
    }
  },
  "cells": [
    {
      "cell_type": "markdown",
      "metadata": {
        "id": "view-in-github",
        "colab_type": "text"
      },
      "source": [
        "<a href=\"https://colab.research.google.com/github/rkava002/CSC221_rkava002/blob/main/Assignment26_28.ipynb\" target=\"_parent\"><img src=\"https://colab.research.google.com/assets/colab-badge.svg\" alt=\"Open In Colab\"/></a>"
      ]
    },
    {
      "cell_type": "code",
      "source": [
        "#RyanKavanaugh\n",
        "#CSC221A"
      ],
      "metadata": {
        "id": "PulxDsgAeDfR"
      },
      "execution_count": null,
      "outputs": []
    },
    {
      "cell_type": "code",
      "execution_count": null,
      "metadata": {
        "colab": {
          "base_uri": "https://localhost:8080/"
        },
        "id": "mMF8hXXyd_IZ",
        "outputId": "5bb07fa7-4ec7-4ff3-cce1-ac75a7207282"
      },
      "outputs": [
        {
          "output_type": "stream",
          "name": "stdout",
          "text": [
            "42 3.14 Hello, World!\n"
          ]
        }
      ],
      "source": [
        "#1\n",
        "int_var = 42\n",
        "float_var = 3.14\n",
        "string_var = \"Hello, World!\"\n",
        "\n",
        "print(int_var, float_var, string_var)\n"
      ]
    },
    {
      "cell_type": "code",
      "source": [
        "#2\n",
        "something = \"awesome\"\n",
        "formatted_string = f'Something like this with {something} in it.'\n",
        "print(formatted_string)\n"
      ],
      "metadata": {
        "colab": {
          "base_uri": "https://localhost:8080/"
        },
        "id": "1uQpNzUzeCsX",
        "outputId": "b968fb4e-7273-43d1-a560-7938473b9d41"
      },
      "execution_count": null,
      "outputs": [
        {
          "output_type": "stream",
          "name": "stdout",
          "text": [
            "Something like this with awesome in it.\n"
          ]
        }
      ]
    },
    {
      "cell_type": "code",
      "source": [
        "#3\n",
        "example_string = \"hello, world\"\n",
        "print(example_string.capitalize())\n",
        "print(example_string.upper())\n",
        "print(example_string.replace(\"world\", \"Colab\"))"
      ],
      "metadata": {
        "colab": {
          "base_uri": "https://localhost:8080/"
        },
        "id": "Q1FAX5CZeCu8",
        "outputId": "42fb239a-f2a0-42d8-d7aa-10d6815b2578"
      },
      "execution_count": null,
      "outputs": [
        {
          "output_type": "stream",
          "name": "stdout",
          "text": [
            "Hello, world\n",
            "HELLO, WORLD\n",
            "hello, Colab\n"
          ]
        }
      ]
    },
    {
      "cell_type": "code",
      "source": [
        "#4\n",
        "my_list = [1, 2, 3, 4, 5]\n",
        "print(sum(my_list))"
      ],
      "metadata": {
        "colab": {
          "base_uri": "https://localhost:8080/"
        },
        "id": "kJWvBs74eCxs",
        "outputId": "dc6f1bc7-40da-4dba-eaed-060d4b75ba0e"
      },
      "execution_count": null,
      "outputs": [
        {
          "output_type": "stream",
          "name": "stdout",
          "text": [
            "15\n"
          ]
        }
      ]
    },
    {
      "cell_type": "code",
      "source": [
        "#5\n",
        "list_of_lists = [[1, 2, 3], [4, 5, 6], [7, 8, 9]]\n",
        "print(list_of_lists[1][2])\n"
      ],
      "metadata": {
        "colab": {
          "base_uri": "https://localhost:8080/"
        },
        "id": "cfPAbAoXeC0L",
        "outputId": "ea2fb0ed-510f-4319-f9de-9c2a2fb9e7f9"
      },
      "execution_count": null,
      "outputs": [
        {
          "output_type": "stream",
          "name": "stdout",
          "text": [
            "6\n"
          ]
        }
      ]
    },
    {
      "cell_type": "code",
      "source": [
        "#6\n",
        "original_list = [3, 1, 4, 1, 5, 9, 2]\n",
        "sorted_list = sorted(original_list)\n",
        "print(sorted_list)\n",
        "print(original_list)"
      ],
      "metadata": {
        "colab": {
          "base_uri": "https://localhost:8080/"
        },
        "id": "1X0RY69neC2n",
        "outputId": "bbf7dfa4-33f0-411d-9db7-706ecc638491"
      },
      "execution_count": null,
      "outputs": [
        {
          "output_type": "stream",
          "name": "stdout",
          "text": [
            "[1, 1, 2, 3, 4, 5, 9]\n",
            "[3, 1, 4, 1, 5, 9, 2]\n"
          ]
        }
      ]
    },
    {
      "cell_type": "code",
      "source": [
        "#7\n",
        "for i in range(5):\n",
        "    print(i)"
      ],
      "metadata": {
        "colab": {
          "base_uri": "https://localhost:8080/"
        },
        "id": "XDZSuZ_PeC5G",
        "outputId": "b8970889-ca16-4210-8bd6-dd8ea11abc80"
      },
      "execution_count": null,
      "outputs": [
        {
          "output_type": "stream",
          "name": "stdout",
          "text": [
            "0\n",
            "1\n",
            "2\n",
            "3\n",
            "4\n"
          ]
        }
      ]
    },
    {
      "cell_type": "code",
      "source": [
        "#8\n",
        "squares_not_mult_of_seven = [x**2 for x in range(1, 1001) if x % 7 != 0]\n",
        "print(squares_not_mult_of_seven[:10])\n"
      ],
      "metadata": {
        "colab": {
          "base_uri": "https://localhost:8080/"
        },
        "id": "mvhLQLlSeC7e",
        "outputId": "6059904f-7c33-46d2-d84f-d4e928642926"
      },
      "execution_count": null,
      "outputs": [
        {
          "output_type": "stream",
          "name": "stdout",
          "text": [
            "[1, 4, 9, 16, 25, 36, 64, 81, 100, 121]\n"
          ]
        }
      ]
    },
    {
      "cell_type": "code",
      "source": [
        "#9\n",
        "def sieve_of_eratosthenes(n):\n",
        "    primes = []\n",
        "    is_prime = [True] * (n + 1)\n",
        "    is_prime[0] = is_prime[1] = False\n",
        "\n",
        "    for i in range(2, int(n**0.5) + 1):\n",
        "        if is_prime[i]:\n",
        "            primes.append(i)\n",
        "            for j in range(i*i, n + 1, i):\n",
        "                is_prime[j] = False\n",
        "\n",
        "    primes.extend(i for i in range(int(n**0.5) + 1, n + 1) if is_prime[i])\n",
        "    return primes\n",
        "\n",
        "primes_up_to_1000 = sieve_of_eratosthenes(1000)\n",
        "print(primes_up_to_1000[:10])\n"
      ],
      "metadata": {
        "colab": {
          "base_uri": "https://localhost:8080/"
        },
        "id": "JLTID7zxeC9z",
        "outputId": "ac5ee042-56d9-417c-a6f6-5496ebdccf33"
      },
      "execution_count": null,
      "outputs": [
        {
          "output_type": "stream",
          "name": "stdout",
          "text": [
            "[2, 3, 5, 7, 11, 13, 17, 19, 23, 29]\n"
          ]
        }
      ]
    },
    {
      "cell_type": "code",
      "source": [
        "#10\n",
        "def my_prime_generator(N):\n",
        "    primes = sieve_of_eratosthenes(N)\n",
        "    for prime in primes:\n",
        "        yield prime\n",
        "\n",
        "for x in my_prime_generator(200):\n",
        "    print(x)\n"
      ],
      "metadata": {
        "colab": {
          "base_uri": "https://localhost:8080/"
        },
        "id": "Qo2BLCETeDCg",
        "outputId": "640d3699-7748-4595-b5b9-e59033918522"
      },
      "execution_count": null,
      "outputs": [
        {
          "output_type": "stream",
          "name": "stdout",
          "text": [
            "2\n",
            "3\n",
            "5\n",
            "7\n",
            "11\n",
            "13\n",
            "17\n",
            "19\n",
            "23\n",
            "29\n",
            "31\n",
            "37\n",
            "41\n",
            "43\n",
            "47\n",
            "53\n",
            "59\n",
            "61\n",
            "67\n",
            "71\n",
            "73\n",
            "79\n",
            "83\n",
            "89\n",
            "97\n",
            "101\n",
            "103\n",
            "107\n",
            "109\n",
            "113\n",
            "127\n",
            "131\n",
            "137\n",
            "139\n",
            "149\n",
            "151\n",
            "157\n",
            "163\n",
            "167\n",
            "173\n",
            "179\n",
            "181\n",
            "191\n",
            "193\n",
            "197\n",
            "199\n"
          ]
        }
      ]
    },
    {
      "cell_type": "code",
      "source": [
        "#11\n",
        "import random\n",
        "\n",
        "random_integers = [random.randint(1, 100) for _ in range(1000)]\n",
        "print(\"Min:\", min(random_integers))\n",
        "print(\"Max:\", max(random_integers))\n",
        "print(\"Sum:\", sum(random_integers))\n",
        "print(\"Average:\", sum(random_integers) / len(random_integers))\n"
      ],
      "metadata": {
        "colab": {
          "base_uri": "https://localhost:8080/"
        },
        "id": "cRKi4jU3eDAK",
        "outputId": "e8924fe5-89f4-4ba5-e10d-0dee48fe159d"
      },
      "execution_count": null,
      "outputs": [
        {
          "output_type": "stream",
          "name": "stdout",
          "text": [
            "Min: 1\n",
            "Max: 100\n",
            "Sum: 50621\n",
            "Average: 50.621\n"
          ]
        }
      ]
    },
    {
      "cell_type": "code",
      "source": [
        "#12\n",
        "def classify_number(number):\n",
        "    if number > 0:\n",
        "        return \"Positive\"\n",
        "    elif number < 0:\n",
        "        return \"Negative\"\n",
        "    else:\n",
        "        return \"Zero\"\n",
        "\n",
        "print(classify_number(-5))\n"
      ],
      "metadata": {
        "colab": {
          "base_uri": "https://localhost:8080/"
        },
        "id": "EsfglOL4eDFF",
        "outputId": "e9c77dff-9bed-42cd-938c-7c9d195d9eb5"
      },
      "execution_count": null,
      "outputs": [
        {
          "output_type": "stream",
          "name": "stdout",
          "text": [
            "Negative\n"
          ]
        }
      ]
    },
    {
      "cell_type": "code",
      "source": [
        "#13\n",
        "# - Indentations should be 4 spaces (I expected tabs to be acceptable).\n",
        "# - Limit all lines to a maximum of 79 characters for docstrings and comments.\n",
        "# - Imports should usually be on separate lines and should be grouped."
      ],
      "metadata": {
        "id": "gypjo_MSeDHd"
      },
      "execution_count": null,
      "outputs": []
    },
    {
      "cell_type": "code",
      "source": [
        "#14\n",
        "%%file testfile.txt\n",
        "Amy, cat\n",
        "Fred, dog\n",
        "Hunter, dog\n",
        "Peena, parakeet\n",
        "Rover, dog\n"
      ],
      "metadata": {
        "colab": {
          "base_uri": "https://localhost:8080/"
        },
        "id": "v2VmonnFeDJo",
        "outputId": "c2a72104-8de7-4e25-a492-f02316640add"
      },
      "execution_count": null,
      "outputs": [
        {
          "output_type": "stream",
          "name": "stdout",
          "text": [
            "Writing testfile.txt\n"
          ]
        }
      ]
    },
    {
      "cell_type": "code",
      "source": [
        "#15\n",
        "pet_dict = {}\n",
        "with open(\"testfile.txt\", \"r\") as file:\n",
        "    for line in file:\n",
        "        name, pet_type = line.strip().split(\", \")\n",
        "        pet_dict[name] = pet_type\n",
        "\n",
        "print(pet_dict)"
      ],
      "metadata": {
        "colab": {
          "base_uri": "https://localhost:8080/"
        },
        "id": "aH-pb7WUeDMA",
        "outputId": "bae9c491-f60f-4498-b6c6-6e52618a9a6b"
      },
      "execution_count": null,
      "outputs": [
        {
          "output_type": "stream",
          "name": "stdout",
          "text": [
            "{'Amy': 'cat', 'Fred': 'dog', 'Hunter': 'dog', 'Peena': 'parakeet', 'Rover': 'dog'}\n"
          ]
        }
      ]
    },
    {
      "cell_type": "code",
      "source": [
        "#16\n",
        "unique_pet_types = set(pet_dict.values())\n",
        "print(unique_pet_types)\n"
      ],
      "metadata": {
        "colab": {
          "base_uri": "https://localhost:8080/"
        },
        "id": "2SVKcL9deDOW",
        "outputId": "d4037f65-ad34-44c9-889a-f73fed672dce"
      },
      "execution_count": null,
      "outputs": [
        {
          "output_type": "stream",
          "name": "stdout",
          "text": [
            "{'dog', 'parakeet', 'cat'}\n"
          ]
        }
      ]
    },
    {
      "cell_type": "code",
      "source": [
        "#17\n",
        "number = 80\n",
        "while number >= 16:\n",
        "    print(number)\n",
        "    number -= 8"
      ],
      "metadata": {
        "colab": {
          "base_uri": "https://localhost:8080/"
        },
        "id": "LHarJAiyeDRD",
        "outputId": "8a5be529-1909-4e2d-b1e0-d27ad918663a"
      },
      "execution_count": null,
      "outputs": [
        {
          "output_type": "stream",
          "name": "stdout",
          "text": [
            "80\n",
            "72\n",
            "64\n",
            "56\n",
            "48\n",
            "40\n",
            "32\n",
            "24\n",
            "16\n"
          ]
        }
      ]
    },
    {
      "cell_type": "code",
      "source": [
        "#18\n",
        "def min_max_sum_tuple(a, b, c):\n",
        "    return min(a, b, c), max(a, b, c), a + b + c\n",
        "\n",
        "print(min_max_sum_tuple(3, 1, 4))"
      ],
      "metadata": {
        "colab": {
          "base_uri": "https://localhost:8080/"
        },
        "id": "FrZ0HMnoeDTX",
        "outputId": "d7cc2acb-9b39-4334-dda3-e96fabba90ac"
      },
      "execution_count": null,
      "outputs": [
        {
          "output_type": "stream",
          "name": "stdout",
          "text": [
            "(1, 4, 8)\n"
          ]
        }
      ]
    },
    {
      "cell_type": "code",
      "source": [
        "#19\n",
        "def min_max_sum_tuple(*numbers):\n",
        "    return min(numbers), max(numbers), sum(numbers)\n",
        "\n",
        "print(min_max_sum_tuple(3, 1, 4, 5, 9))\n"
      ],
      "metadata": {
        "colab": {
          "base_uri": "https://localhost:8080/"
        },
        "id": "neNb02J3eDVp",
        "outputId": "4f943dcd-6025-4768-9ad4-932db84be2c1"
      },
      "execution_count": null,
      "outputs": [
        {
          "output_type": "stream",
          "name": "stdout",
          "text": [
            "(1, 9, 22)\n"
          ]
        }
      ]
    },
    {
      "cell_type": "code",
      "source": [
        "#20\n",
        "def traceroo(func):\n",
        "    def wrapper(*args, **kwargs):\n",
        "        print(f\"Calling {func.__name__} with arguments {args} and keyword arguments {kwargs}\")\n",
        "        result = func(*args, **kwargs)\n",
        "        print(f\"{func.__name__} returned {result}\")\n",
        "        return result\n",
        "    return wrapper\n",
        "\n",
        "def example_function(a, b):\n",
        "    return a + b\n",
        "\n",
        "example_function(2, 3)\n"
      ],
      "metadata": {
        "colab": {
          "base_uri": "https://localhost:8080/"
        },
        "id": "3FgZDfJkeDYG",
        "outputId": "52b3035e-5d59-42eb-97fb-03c4d0905a6e"
      },
      "execution_count": null,
      "outputs": [
        {
          "output_type": "execute_result",
          "data": {
            "text/plain": [
              "5"
            ]
          },
          "metadata": {},
          "execution_count": 20
        }
      ]
    },
    {
      "cell_type": "code",
      "source": [
        "#21\n",
        "class MyClass:\n",
        "    def __init__(self, value):\n",
        "        self.value = value\n",
        "\n",
        "    def __repr__(self):\n",
        "        return f\"MyClass({self.value})\"\n",
        "\n",
        "    def __str__(self):\n",
        "        return f\"Instance of MyClass with value: {self.value}\"\n",
        "\n",
        "    def __add__(self, other):\n",
        "        return MyClass(self.value + other.value)\n",
        "\n",
        "obj1 = MyClass(5)\n",
        "obj2 = MyClass(10)\n",
        "print(repr(obj1))\n",
        "print(str(obj1))\n",
        "result_obj = obj1 + obj2\n",
        "print(result_obj)\n"
      ],
      "metadata": {
        "colab": {
          "base_uri": "https://localhost:8080/"
        },
        "id": "ia1kk7KYeDam",
        "outputId": "98570ed2-0aa0-433f-f4a4-bcb39f2f9ae5"
      },
      "execution_count": null,
      "outputs": [
        {
          "output_type": "stream",
          "name": "stdout",
          "text": [
            "MyClass(5)\n",
            "Instance of MyClass with value: 5\n",
            "Instance of MyClass with value: 15\n"
          ]
        }
      ]
    },
    {
      "cell_type": "code",
      "source": [
        "#22\n",
        "import math\n",
        "\n",
        "birthdate = \"0904\"\n",
        "pi_digits = str(math.pi)\n",
        "\n",
        "if birthdate in pi_digits:\n",
        "    print(f\"Yes, my birth date {birthdate} is in the digits of pi at index {pi_digits.find(birthdate)}\")\n",
        "else:\n",
        "    print(f\"No, my birth date {birthdate} is not in the digits of pi.\")"
      ],
      "metadata": {
        "colab": {
          "base_uri": "https://localhost:8080/"
        },
        "id": "1OZCuS3HeDc8",
        "outputId": "9783b02c-459e-4fb7-cd70-9143b2e4fdfe"
      },
      "execution_count": null,
      "outputs": [
        {
          "output_type": "stream",
          "name": "stdout",
          "text": [
            "No, my birth date 0904 is not in the digits of pi.\n"
          ]
        }
      ]
    },
    {
      "cell_type": "code",
      "source": [
        "%%file final_functions.py\n",
        "\n",
        "def classify_number(number):\n",
        "    if number > 0:\n",
        "        return \"Positive\"\n",
        "    elif number < 0:\n",
        "        return \"Negative\"\n",
        "    else:\n",
        "        return \"Zero\"\n",
        "\n",
        "def min_max_sum_tuple(*numbers):\n",
        "    return min(numbers), max(numbers), sum(numbers)\n",
        "\n",
        "def traceroo(func):\n",
        "    def wrapper(*args, **kwargs):\n",
        "        print(f\"Calling {func.__name__} with arguments {args} and keyword arguments {kwargs}\")\n",
        "        result = func(*args, **kwargs)\n",
        "        print(f\"{func.__name__} returned {result}\")\n",
        "        return result\n",
        "    return wrapper\n"
      ],
      "metadata": {
        "colab": {
          "base_uri": "https://localhost:8080/"
        },
        "id": "9CRriBB3idEH",
        "outputId": "f10a1671-d711-436b-a77d-a38bcbcac9bb"
      },
      "execution_count": null,
      "outputs": [
        {
          "output_type": "stream",
          "name": "stdout",
          "text": [
            "Writing final_functions.py\n"
          ]
        }
      ]
    },
    {
      "cell_type": "code",
      "source": [
        "%%file final.py\n",
        "from final_functions import classify_number, min_max_sum_tuple, traceroo\n",
        "\n",
        "# Example usage\n",
        "number_classification = classify_number(-5)\n",
        "print(f\"Number classification: {number_classification}\")\n",
        "\n",
        "result_tuple = min_max_sum_tuple(3, 1, 4, 5, 9)\n",
        "print(f\"Min, Max, Sum tuple: {result_tuple}\")\n",
        "\n",
        "@traceroo\n",
        "def example_function(a, b):\n",
        "    return a + b\n",
        "\n",
        "example_result = example_function(2, 3)\n",
        "print(f\"Example function result: {example_result}\")\n"
      ],
      "metadata": {
        "colab": {
          "base_uri": "https://localhost:8080/"
        },
        "id": "kE6xZ6p4ih69",
        "outputId": "165c1737-1c42-4c6b-a623-98811b7e3739"
      },
      "execution_count": null,
      "outputs": [
        {
          "output_type": "stream",
          "name": "stdout",
          "text": [
            "Writing final.py\n"
          ]
        }
      ]
    },
    {
      "cell_type": "code",
      "source": [
        "%%file test_final.py\n",
        "from final_functions import classify_number, min_max_sum_tuple, traceroo\n",
        "\n",
        "def test_classify_number():\n",
        "    assert classify_number(-5) == \"Negative\"\n",
        "    assert classify_number(0) == \"Zero\"\n",
        "    assert classify_number(5) == \"Positive\"\n",
        "\n",
        "def test_min_max_sum_tuple():\n",
        "    assert min_max_sum_tuple(3, 1, 4, 5, 9) == (1, 9, 22)\n",
        "    assert min_max_sum_tuple(-2, 0, 2) == (-2, 2, 0)\n",
        "\n",
        "def test_traceroo(capsys):\n",
        "    @traceroo\n",
        "    def example_function(a, b):\n",
        "        return a + b\n",
        "\n",
        "    result = example_function(2, 3)\n",
        "\n",
        "    captured = capsys.readouterr()\n",
        "    assert \"Calling example_function with arguments (2, 3)\" in captured.out\n",
        "    assert \"example_function returned 5\" in captured.out\n",
        "    assert result == 5\n"
      ],
      "metadata": {
        "colab": {
          "base_uri": "https://localhost:8080/"
        },
        "id": "AOTAsImOiiQZ",
        "outputId": "0e58a735-de56-4c90-9305-a331dde4b33c"
      },
      "execution_count": null,
      "outputs": [
        {
          "output_type": "stream",
          "name": "stdout",
          "text": [
            "Writing test_final.py\n"
          ]
        }
      ]
    },
    {
      "cell_type": "code",
      "source": [
        "# Running final.py\n",
        "!python final.py\n",
        "\n",
        "# Running pytest for test_final.py\n",
        "!pip install pytest\n",
        "!pytest test_final.py\n"
      ],
      "metadata": {
        "colab": {
          "base_uri": "https://localhost:8080/"
        },
        "id": "HukvKTXniiSn",
        "outputId": "044e84f1-b0e8-4e71-92af-3ae8eed91153"
      },
      "execution_count": null,
      "outputs": [
        {
          "output_type": "stream",
          "name": "stdout",
          "text": [
            "Number classification: Negative\n",
            "Min, Max, Sum tuple: (1, 9, 22)\n",
            "Calling example_function with arguments (2, 3) and keyword arguments {}\n",
            "example_function returned 5\n",
            "Example function result: 5\n",
            "Requirement already satisfied: pytest in /usr/local/lib/python3.10/dist-packages (7.4.3)\n",
            "Requirement already satisfied: iniconfig in /usr/local/lib/python3.10/dist-packages (from pytest) (2.0.0)\n",
            "Requirement already satisfied: packaging in /usr/local/lib/python3.10/dist-packages (from pytest) (23.2)\n",
            "Requirement already satisfied: pluggy<2.0,>=0.12 in /usr/local/lib/python3.10/dist-packages (from pytest) (1.3.0)\n",
            "Requirement already satisfied: exceptiongroup>=1.0.0rc8 in /usr/local/lib/python3.10/dist-packages (from pytest) (1.2.0)\n",
            "Requirement already satisfied: tomli>=1.0.0 in /usr/local/lib/python3.10/dist-packages (from pytest) (2.0.1)\n",
            "\u001b[1m======================================= test session starts ========================================\u001b[0m\n",
            "platform linux -- Python 3.10.12, pytest-7.4.3, pluggy-1.3.0\n",
            "rootdir: /content\n",
            "plugins: anyio-3.7.1\n",
            "collected 3 items                                                                                  \u001b[0m\n",
            "\n",
            "test_final.py \u001b[32m.\u001b[0m\u001b[32m.\u001b[0m\u001b[32m.\u001b[0m\u001b[32m                                                                            [100%]\u001b[0m\n",
            "\n",
            "\u001b[32m======================================== \u001b[32m\u001b[1m3 passed\u001b[0m\u001b[32m in 0.02s\u001b[0m\u001b[32m =========================================\u001b[0m\n"
          ]
        }
      ]
    }
  ]
}