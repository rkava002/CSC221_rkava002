{
  "nbformat": 4,
  "nbformat_minor": 0,
  "metadata": {
    "colab": {
      "provenance": [],
      "include_colab_link": true
    },
    "kernelspec": {
      "name": "python3",
      "display_name": "Python 3"
    },
    "language_info": {
      "name": "python"
    }
  },
  "cells": [
    {
      "cell_type": "markdown",
      "metadata": {
        "id": "view-in-github",
        "colab_type": "text"
      },
      "source": [
        "<a href=\"https://colab.research.google.com/github/rkava002/CSC221_rkava002/blob/main/Assignment20.ipynb\" target=\"_parent\"><img src=\"https://colab.research.google.com/assets/colab-badge.svg\" alt=\"Open In Colab\"/></a>"
      ]
    },
    {
      "cell_type": "markdown",
      "source": [
        "# Assignment 20\n",
        "## CSC 221\n",
        "- PLEASE INSERT YOUR NAME HERE!\n",
        "\n",
        "### Instructions:\n",
        "Fill in each code cell below the question. We are following along in Chapter 4 of Python Distilled."
      ],
      "metadata": {
        "id": "IAOUzGWE1eDx"
      }
    },
    {
      "cell_type": "code",
      "execution_count": null,
      "metadata": {
        "id": "Gnj3su7i5-lx",
        "colab": {
          "base_uri": "https://localhost:8080/"
        },
        "outputId": "40bf34bf-2970-4d26-f986-6806fd060e17"
      },
      "outputs": [
        {
          "output_type": "stream",
          "name": "stdout",
          "text": [
            "19\n",
            "44.5\n",
            "asdfg13\n"
          ]
        }
      ],
      "source": [
        "# 4.1 Essential Concepts\n",
        "\n",
        "# When we write \"a + b\" in Python, the interpreter tries to execute a.__add__(b)\n",
        "\n",
        "# Show that this is true by trying the following:\n",
        "a = 6\n",
        "b = 31.5\n",
        "c = 'asdfg'\n",
        "a1 = a.__add__(13)\n",
        "b1 = b.__add__(13)\n",
        "c1 = c.__add__('13')\n",
        "print(a1)\n",
        "print(b1)\n",
        "print(c1)\n",
        "\n",
        "# What are the types of a, b, and c?\n",
        "print(type(a))  # <class 'int'>\n",
        "print(type(b))  # <class 'float'>\n",
        "print(type(c))  # <class 'str'>\n",
        "\n",
        "\n",
        "# Explain the results\n",
        "# The `__add__` method is used for addition in Python, and it concatenates strings in the case of a string.\n",
        "# For integers and floats, it performs the regular addition. The types of a, b, and c are int, float, and str, respectively.\n",
        "\n",
        "\n"
      ]
    },
    {
      "cell_type": "code",
      "source": [
        "# 4.2 through 4.4 will be covered in the next assignment\n"
      ],
      "metadata": {
        "id": "w2uYd3DO2do6"
      },
      "execution_count": null,
      "outputs": []
    },
    {
      "cell_type": "code",
      "source": [
        "# 4.5 str and repr\n",
        "# How many categpries of printing are shown below for a datetime object?\n",
        "# There are two categories of printing shown below for a datetime object. These categories are determined by the methods used for string representation\n",
        "# What in the Pythion code makes each one get callled?\n",
        "#The choice between __str__ and __repr__ is determined by the formatting syntax and the use of the !s and !r conversion flags in f-strings\n",
        "\n",
        "from datetime import date\n",
        "d = date(2023, 11, 7)\n",
        "\n",
        "#print(d)\n",
        "#print(f'{d}')\n",
        "#print(f'{d!s}')\n",
        "#print(f'{d!r}')\n",
        "#print(str(d))\n",
        "#print(repr(d))\n",
        "#print(d.__str__())\n",
        "#print(d.__repr__())\n"
      ],
      "metadata": {
        "id": "Aa3ylzmV2wNF"
      },
      "execution_count": null,
      "outputs": []
    },
    {
      "cell_type": "code",
      "source": [
        "# 4.6 First-Class Objects\n",
        "# What is the significance of all objects being \"first-class\" in Python?\n",
        "# In Python, all objects are \"first-class,\" meaning they can be:\n",
        "# 1. Assigned to a variable\n",
        "# 2. Passed as an argument to a function\n",
        "# 3. Returned from a function\n",
        "# 4. Stored in data structures\n",
        "# Explain by typing in the code to create and use the 'items' dictionary shown in section 4.6.\n",
        "items = {\n",
        "    'number' : 42\n",
        "    'text' : \"Hello World\"\n",
        "}\n",
        "\n",
        "items ['func'] = abs\n",
        "import math\n",
        "items['mod']   = math\n",
        "items['error'] = ValueError\n",
        "nums =[1,2,3,4]\n",
        "items['append'] = nums.append\n",
        "\n",
        "items['func'](-45)\n",
        "items['mod'].sqrt(4)\n",
        "\n",
        "try:\n",
        "    x = int('a lot')\n",
        "except items ['error'] as e:\n",
        "    print (\"Coulnt convert\")\n",
        "\n",
        "items['append'](100)\n",
        "nums\n",
        "\n",
        "# Explain by typing in the code to create and use the 'items' dictionary shown in section 4.6.\n",
        "# Explain each of the lines starting with '>>>' in the section.\n",
        "items = {\n",
        "    'number' : 42\n",
        "    'text' : \"Hello World\"\n",
        "}\n",
        "\n",
        "items ['func'] = abs\n",
        "import math\n",
        "items['mod']   = math\n",
        "items['error'] = ValueError\n",
        "nums =[1,2,3,4]\n",
        "items['append'] = nums.append\n",
        "\n",
        "items['func'](-45) #executes abs(-45)\n",
        "items['mod'].sqrt(4) #execute math.sqrt(4)\n",
        "\n",
        "try:\n",
        "    x = int('a lot')\n",
        "except items ['error'] as e: #same as: except Value error as e\n",
        "    print (\"Coulnt convert\")\n",
        "\n",
        "items['append'](100) #executes nums.append(100)\n",
        "nums"
      ],
      "metadata": {
        "id": "9LRpP06Vsw6n",
        "colab": {
          "base_uri": "https://localhost:8080/",
          "height": 143
        },
        "outputId": "2c73077e-dc9a-4927-be6a-f2392f96f6af"
      },
      "execution_count": 5,
      "outputs": [
        {
          "output_type": "error",
          "ename": "SyntaxError",
          "evalue": "ignored",
          "traceback": [
            "\u001b[0;36m  File \u001b[0;32m\"<ipython-input-5-fd47cb3ce5fe>\"\u001b[0;36m, line \u001b[0;32m10\u001b[0m\n\u001b[0;31m    'text' : \"Hello World\"\u001b[0m\n\u001b[0m           ^\u001b[0m\n\u001b[0;31mSyntaxError\u001b[0m\u001b[0;31m:\u001b[0m invalid syntax\n"
          ]
        }
      ]
    },
    {
      "cell_type": "code",
      "source": [
        "# 4.7 Using None\n",
        "# Write a function that takes two parameters and returns their sum if they are\n",
        "#  integers or returns None if either one is not.\n",
        "def sum_integers(a, b):\n",
        "    if isinstance(a, int) and isinstance(b, int):\n",
        "        return a + b\n",
        "    else:\n",
        "        return None\n",
        "\n",
        "\n",
        "# Put in some test code to show that your function works\n",
        "\n",
        "# INSERT YOUR CODE HERE\n",
        "result1 = sum_integers(3, 4)\n",
        "result2 = sum_integers(2, 'hello')\n",
        "\n",
        "print(result1)\n",
        "print(result2)"
      ],
      "metadata": {
        "id": "dUhRWGnCtewU",
        "outputId": "60066300-a8b9-4ccc-9e36-11a31788f153",
        "colab": {
          "base_uri": "https://localhost:8080/"
        }
      },
      "execution_count": 1,
      "outputs": [
        {
          "output_type": "stream",
          "name": "stdout",
          "text": [
            "7\n",
            "None\n"
          ]
        }
      ]
    },
    {
      "cell_type": "code",
      "source": [
        "# 4.9 Object Protocol\n",
        "# Create a simple object that has methods for:\n",
        "#  __new__\n",
        "#  __init__\n",
        "#  __del__\n",
        "#  __repr__\n",
        "#  __str__\n",
        "\n",
        "# Put in some test code to show how and when each of these 'magic' functions gets called.\n",
        "\n",
        "# INSERT YOUR CODE HERE\n",
        "class SimpleObject:\n",
        "    def __new__(cls):\n",
        "        print(\"__new__ method is called\")\n",
        "        return super().__new__(cls)\n",
        "\n",
        "    def __init__(self):\n",
        "        print(\"__init__ method is called\")\n",
        "\n",
        "    def __del__(self):\n",
        "        print(\"__del__ method is called\")\n",
        "\n",
        "    def __repr__(self):\n",
        "        return \"__repr__ method is called\"\n",
        "\n",
        "    def __str__(self):\n",
        "        return \"__str__ method is called\"\n",
        "\n",
        "# Put in some test code to show how and when each of these 'magic' functions gets called.\n",
        "obj = SimpleObject()\n",
        "print(obj)\n",
        "print(repr(obj))\n",
        "del obj\n"
      ],
      "metadata": {
        "id": "4M-CQevEt2xQ",
        "colab": {
          "base_uri": "https://localhost:8080/"
        },
        "outputId": "96912082-0e94-4b57-ed8a-eca99bfc3b46"
      },
      "execution_count": 2,
      "outputs": [
        {
          "output_type": "stream",
          "name": "stdout",
          "text": [
            "__new__ method is called\n",
            "__init__ method is called\n",
            "__str__ method is called\n",
            "__repr__ method is called\n",
            "__del__ method is called\n"
          ]
        }
      ]
    }
  ]
}