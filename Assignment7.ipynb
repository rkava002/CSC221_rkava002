{
  "nbformat": 4,
  "nbformat_minor": 0,
  "metadata": {
    "colab": {
      "provenance": [],
      "authorship_tag": "ABX9TyMv8/KL7utEzV0MERMZJEbC",
      "include_colab_link": true
    },
    "kernelspec": {
      "name": "python3",
      "display_name": "Python 3"
    },
    "language_info": {
      "name": "python"
    }
  },
  "cells": [
    {
      "cell_type": "markdown",
      "metadata": {
        "id": "view-in-github",
        "colab_type": "text"
      },
      "source": [
        "<a href=\"https://colab.research.google.com/github/rkava002/CSC221_rkava002/blob/main/Assignment7.ipynb\" target=\"_parent\"><img src=\"https://colab.research.google.com/assets/colab-badge.svg\" alt=\"Open In Colab\"/></a>"
      ]
    },
    {
      "cell_type": "code",
      "execution_count": null,
      "metadata": {
        "id": "j-BhubE-Gu26"
      },
      "outputs": [],
      "source": [
        "#RYAN KAVANAUGH"
      ]
    },
    {
      "cell_type": "code",
      "source": [
        "#ASSIGNMENT7"
      ],
      "metadata": {
        "id": "cK3qVSm1G0aQ"
      },
      "execution_count": null,
      "outputs": []
    },
    {
      "cell_type": "code",
      "source": [
        "alien_0 = {'color': 'green', 'points':5}\n",
        "print(alien_0['color'])\n",
        "print(alien_0['points'])"
      ],
      "metadata": {
        "colab": {
          "base_uri": "https://localhost:8080/"
        },
        "id": "QJEOWj7IG6TF",
        "outputId": "ba6615c7-aad1-41cc-ab3a-92505616e2ed"
      },
      "execution_count": 1,
      "outputs": [
        {
          "output_type": "stream",
          "name": "stdout",
          "text": [
            "green\n",
            "5\n"
          ]
        }
      ]
    },
    {
      "cell_type": "code",
      "source": [
        "alien_0 = {'color': 'green', 'points':5}\n",
        "\n",
        "\n",
        "new_points = alien_0['points']\n",
        "print (f\"You just earned {new_points} points!\")"
      ],
      "metadata": {
        "colab": {
          "base_uri": "https://localhost:8080/"
        },
        "id": "nvo96meeIBhC",
        "outputId": "8dcb536d-abad-49e0-a075-f2313064fc07"
      },
      "execution_count": 2,
      "outputs": [
        {
          "output_type": "stream",
          "name": "stdout",
          "text": [
            "You just earned 5 points!\n"
          ]
        }
      ]
    },
    {
      "cell_type": "code",
      "source": [
        "alien_0 = {'color': 'green', 'points': 5}\n",
        "print(alien_0)\n",
        "\n",
        "alien_0 ['x_position'] = 0\n",
        "alien_0 ['y_position'] = 25\n",
        "print (alien_0)\n"
      ],
      "metadata": {
        "colab": {
          "base_uri": "https://localhost:8080/"
        },
        "id": "kSRt1jeOIX2Y",
        "outputId": "1fea5b5b-477d-4b50-f4a5-0e872cbdc479"
      },
      "execution_count": 3,
      "outputs": [
        {
          "output_type": "stream",
          "name": "stdout",
          "text": [
            "{'color': 'green', 'points': 5}\n",
            "{'color': 'green', 'points': 5, 'x_position': 0, 'y_position': 25}\n"
          ]
        }
      ]
    },
    {
      "cell_type": "code",
      "source": [
        "alien_0 = {}\n",
        "\n",
        "alien_0['color'] = 'green'\n",
        "alien_0 ['points'] = 5\n",
        "\n",
        "print(alien_0)"
      ],
      "metadata": {
        "colab": {
          "base_uri": "https://localhost:8080/"
        },
        "id": "TT9KYqxEI2YI",
        "outputId": "88676e08-f38c-488e-99d1-e03517f3d877"
      },
      "execution_count": 4,
      "outputs": [
        {
          "output_type": "stream",
          "name": "stdout",
          "text": [
            "{'color': 'green', 'points': 5}\n"
          ]
        }
      ]
    },
    {
      "cell_type": "code",
      "source": [
        "alien_0 = {'color': 'green'}\n",
        "print(f\"The alien is {alien_0['color']}.\")\n",
        "alien_0['color'] = 'yellow'\n",
        "print(f\"The alien is now {alien_0['color']}.\")"
      ],
      "metadata": {
        "colab": {
          "base_uri": "https://localhost:8080/"
        },
        "id": "8gvjj8U6JPs8",
        "outputId": "4737b9e8-3a7f-4a14-9845-b6359a16c02c"
      },
      "execution_count": 6,
      "outputs": [
        {
          "output_type": "stream",
          "name": "stdout",
          "text": [
            "The alien is green.\n",
            "The alien is now yellow.\n",
            "The alien is green.\n",
            "The alien is now yellow.\n"
          ]
        }
      ]
    },
    {
      "cell_type": "code",
      "source": [
        "alien_0 = {'color': 'green', 'points': 5}\n",
        "print(alien_0)\n",
        "\n",
        "del alien_0['points']\n",
        "print (alien_0)"
      ],
      "metadata": {
        "colab": {
          "base_uri": "https://localhost:8080/"
        },
        "id": "Mtex1tUoJ_2y",
        "outputId": "2271028c-d873-4919-f8ec-b09896789153"
      },
      "execution_count": 7,
      "outputs": [
        {
          "output_type": "stream",
          "name": "stdout",
          "text": [
            "{'color': 'green', 'points': 5}\n",
            "{'color': 'green'}\n"
          ]
        }
      ]
    },
    {
      "cell_type": "code",
      "source": [
        "favorite_languages = {\n",
        "    'jen' : 'python',\n",
        "    'sarah' : 'c',\n",
        "    'edward' : 'rust',\n",
        "    'phil' : 'python'\n",
        "    }"
      ],
      "metadata": {
        "id": "l3DcBeTqKQtn"
      },
      "execution_count": null,
      "outputs": []
    },
    {
      "cell_type": "code",
      "source": [
        "favorite_languages = {\n",
        "    'jen' : 'python',\n",
        "    'sarah' : 'c',\n",
        "    'edward' : 'rust',\n",
        "    'phil' : 'python'\n",
        "    }\n",
        "\n",
        "language = favorite_languages['sarah'].title()\n",
        "print(f\"Sarah's favorite language is {language}.\")"
      ],
      "metadata": {
        "colab": {
          "base_uri": "https://localhost:8080/"
        },
        "id": "pQnOcSSvK51t",
        "outputId": "2339dc97-d8f5-4d50-dcae-6ad3cbd1eeee"
      },
      "execution_count": 8,
      "outputs": [
        {
          "output_type": "stream",
          "name": "stdout",
          "text": [
            "Sarah's favorite language is C.\n"
          ]
        }
      ]
    },
    {
      "cell_type": "code",
      "source": [
        "alien_0 = {'color' : 'green', 'speed' : 'slow'}\n",
        "\n",
        "point_value = alien_0.get('points', 'No point value assigned.')\n",
        "print (point_value)"
      ],
      "metadata": {
        "colab": {
          "base_uri": "https://localhost:8080/"
        },
        "id": "vvLolexMLNRC",
        "outputId": "d02c9ab8-2f68-4407-c242-aaff289f39f5"
      },
      "execution_count": 9,
      "outputs": [
        {
          "output_type": "stream",
          "name": "stdout",
          "text": [
            "No point value assigned.\n"
          ]
        }
      ]
    },
    {
      "cell_type": "code",
      "source": [
        "# 6.1\n",
        "\n",
        "tanner = {'first_name' : 'Tanner', 'last_name' : 'Estes', 'age' : '20', 'city' : 'Plattsburgh'}\n",
        "print(tanner['first_name'])\n",
        "print(tanner['last_name'])\n",
        "print(tanner['age'])\n",
        "print(tanner['city'])"
      ],
      "metadata": {
        "colab": {
          "base_uri": "https://localhost:8080/"
        },
        "id": "MsX9GP1RLpZi",
        "outputId": "d831b9f5-75c0-4ccd-dc8f-eac43ae1a8b0"
      },
      "execution_count": 10,
      "outputs": [
        {
          "output_type": "stream",
          "name": "stdout",
          "text": [
            "Tanner\n",
            "Estes\n",
            "20\n",
            "Plattsburgh\n"
          ]
        }
      ]
    },
    {
      "cell_type": "code",
      "source": [
        " #6.2\n",
        "\n",
        " numbers = {'Tanner': 15, 'Riley' : 6, 'Shaheer' : 7, 'Ryan' : 17, 'Mikey': 4}\n",
        " print(numbers['Tanner'])\n",
        " print(numbers['Riley'])\n",
        " print(numbers['Shaheer'])\n",
        " print(numbers['Ryan'])\n",
        " print(numbers['Mikey'])"
      ],
      "metadata": {
        "colab": {
          "base_uri": "https://localhost:8080/"
        },
        "id": "k4OY6d3RMfCU",
        "outputId": "d6fe0607-5afe-4a0f-d69c-3caf53c72d0f"
      },
      "execution_count": 11,
      "outputs": [
        {
          "output_type": "stream",
          "name": "stdout",
          "text": [
            "15\n",
            "6\n",
            "7\n",
            "17\n",
            "4\n"
          ]
        }
      ]
    },
    {
      "cell_type": "code",
      "source": [
        "words = {\n",
        "    'print' : 'print a value',\n",
        "    'title' : 'capitalize the first letter',\n",
        "    'input' : 'asks for an input',\n",
        "    'len' : 'prints the length of the string',\n",
        "    'del' : 'deletes part of a string'\n",
        "     }\n",
        "print ('print')\n",
        "print(words['print'])\n",
        "print ('title')\n",
        "print(words['title'])\n",
        "print ('input')\n",
        "print(words['input'])\n",
        "print ('len')\n",
        "print(words['len'])\n",
        "print ('del')\n",
        "print(words['del'])"
      ],
      "metadata": {
        "colab": {
          "base_uri": "https://localhost:8080/"
        },
        "id": "wooFvx9GNhZ5",
        "outputId": "73717762-5725-4332-cd80-75ed97567d5b"
      },
      "execution_count": 16,
      "outputs": [
        {
          "output_type": "stream",
          "name": "stdout",
          "text": [
            "print\n",
            "print a value\n",
            "title\n",
            "capitalize the first letter\n",
            "input\n",
            "asks for an input\n",
            "len\n",
            "prints the length of the string\n",
            "del\n",
            "deletes part of a string\n"
          ]
        }
      ]
    },
    {
      "cell_type": "code",
      "source": [
        "user_0 = {\n",
        "    'username' : 'efermi',\n",
        "    'first' : 'enrico',\n",
        "    'last' : 'fermi'\n",
        "    }"
      ],
      "metadata": {
        "id": "iVdIsV8nR20d"
      },
      "execution_count": null,
      "outputs": []
    },
    {
      "cell_type": "code",
      "source": [
        "user_0 = {\n",
        "    'username' : 'efermi',\n",
        "    'first' : 'enrico',\n",
        "    'last' : 'fermi'\n",
        "    }\n",
        "for key, value in user_0.items():\n",
        "  print(f\"\\nKey: {key}\")\n",
        "  print(f\"Value: {value}\")"
      ],
      "metadata": {
        "colab": {
          "base_uri": "https://localhost:8080/"
        },
        "id": "TGkwDNLQS4RP",
        "outputId": "52b838e0-00d1-48b6-ca20-5860124e5521"
      },
      "execution_count": 29,
      "outputs": [
        {
          "output_type": "stream",
          "name": "stdout",
          "text": [
            "\n",
            "Key: username\n",
            "Value: efermi\n",
            "\n",
            "Key: first\n",
            "Value: enrico\n",
            "\n",
            "Key: last\n",
            "Value: fermi\n"
          ]
        }
      ]
    },
    {
      "cell_type": "code",
      "source": [
        "#6.4\n",
        "words = {\n",
        "    'print' : 'print a value',\n",
        "    'title' : 'capitalize the first letter',\n",
        "    'input' : 'asks for an input',\n",
        "    'len' : 'prints the length of the string',\n",
        "    'del' : 'deletes part of a string',\n",
        "    'range' : 'gives a range of numbers',\n",
        "    'append' : 'adds s value to a list',\n",
        "    'remove' : 'removes a value from a list',\n",
        "    'if' : 'if this is happening do this',\n",
        "    'sort' : 'sorts the values in a list in alphabetical order'\n",
        "     }\n",
        "for word, value in words.items():\n",
        "  print(f\"\\nKey: {word}\")\n",
        "  print(f\"Value: {value}\")\n"
      ],
      "metadata": {
        "colab": {
          "base_uri": "https://localhost:8080/"
        },
        "id": "Z3_jSVWcPh4l",
        "outputId": "769b3c97-80c4-4eda-910f-21ba5a402bed"
      },
      "execution_count": 33,
      "outputs": [
        {
          "output_type": "stream",
          "name": "stdout",
          "text": [
            "\n",
            "Key: print\n",
            "Value: print a value\n",
            "\n",
            "Key: title\n",
            "Value: capitalize the first letter\n",
            "\n",
            "Key: input\n",
            "Value: asks for an input\n",
            "\n",
            "Key: len\n",
            "Value: prints the length of the string\n",
            "\n",
            "Key: del\n",
            "Value: deletes part of a string\n",
            "\n",
            "Key: range\n",
            "Value: gives a range of numbers\n",
            "\n",
            "Key: append\n",
            "Value: adds s value to a list\n",
            "\n",
            "Key: remove\n",
            "Value: removes a value from a list\n",
            "\n",
            "Key: if\n",
            "Value: if this is happening do this\n",
            "\n",
            "Key: sort\n",
            "Value: sorts the values in a list in alphabetical order\n"
          ]
        }
      ]
    },
    {
      "cell_type": "code",
      "source": [
        "alien_0 = {'color': 'green', 'points': 5}\n",
        "alien_1 = {'color': 'yellow', 'points': 10}\n",
        "alien_2 = {'color': 'red', 'points': 15}\n",
        "\n",
        "aliens = [alien_0, alien_1, alien_2]\n",
        "\n",
        "for alien in aliens:\n",
        "  print(alien)"
      ],
      "metadata": {
        "colab": {
          "base_uri": "https://localhost:8080/"
        },
        "id": "4WTp8zG1Rulp",
        "outputId": "929e3556-3269-4300-9bf0-d9e640668c0e"
      },
      "execution_count": 35,
      "outputs": [
        {
          "output_type": "stream",
          "name": "stdout",
          "text": [
            "{'color': 'green', 'points': 5}\n",
            "{'color': 'yellow', 'points': 10}\n",
            "{'color': 'red', 'points': 15}\n"
          ]
        }
      ]
    },
    {
      "cell_type": "code",
      "source": [
        "pizza = {\n",
        "    'crust' : 'thick',\n",
        "    'toppings' : ['mushrooms', 'extra cheese'],\n",
        "    }\n",
        "print (f\"You ordered a {pizza['crust']}-crust pizza\" \" with the following toppings:\")\n",
        "\n",
        "for topping in pizza ['toppings']:\n",
        "  print (f\"\\t{topping}\")"
      ],
      "metadata": {
        "colab": {
          "base_uri": "https://localhost:8080/"
        },
        "id": "D6VrRnW9W2fv",
        "outputId": "35d45216-dd97-4cc7-f456-2b4c5a62c450"
      },
      "execution_count": 38,
      "outputs": [
        {
          "output_type": "stream",
          "name": "stdout",
          "text": [
            "You ordered a thick-crust pizza with the following toppings:\n",
            "\tmushrooms\n",
            "\textra cheese\n"
          ]
        }
      ]
    },
    {
      "cell_type": "code",
      "source": [
        "users = {\n",
        "    'aeinstein' : {\n",
        "\n",
        "        'first' : 'albert',\n",
        "        'last' : 'einstein',\n",
        "        'location' : 'princeton',\n",
        "      },\n",
        "    'mcurie' : {\n",
        "        'first' : 'marie',\n",
        "        'last' : 'curie',\n",
        "        'location' : 'paris',\n",
        "      },\n",
        "    }\n",
        "\n",
        "for username, user_info in users.items():\n",
        "  print(f\"\\nUsername: {username}\")\n",
        "  full_name = f\"{user_info['first']}{user_info['last']}\"\n",
        "  location = user_info['location']\n",
        "\n",
        "  print(f\"\\tFull name: {full_name.title()}\")\n",
        "  print(f\"\\tLocation: {location.title()}\")"
      ],
      "metadata": {
        "colab": {
          "base_uri": "https://localhost:8080/"
        },
        "id": "skL-BKspYMEE",
        "outputId": "ccd5cf86-744d-4b41-ea3c-07306752c7e0"
      },
      "execution_count": 40,
      "outputs": [
        {
          "output_type": "stream",
          "name": "stdout",
          "text": [
            "\n",
            "Username: aeinstein\n",
            "\tFull name: Alberteinstein\n",
            "\tLocation: Princeton\n",
            "\n",
            "Username: mcurie\n",
            "\tFull name: Mariecurie\n",
            "\tLocation: Paris\n"
          ]
        }
      ]
    },
    {
      "cell_type": "code",
      "source": [
        "#6.11\n",
        "\n",
        "cities = {\n",
        "    'Plattsburgh' : {\n",
        "        'country' : 'USA',\n",
        "        'population' : '20,000',\n",
        "        'fact' : 'I grew up in Plattsburgh',\n",
        "      },\n",
        "    'Albany' : {\n",
        "        'country' : 'USA',\n",
        "        'population' : '100,000',\n",
        "        'fact' : 'I went to many soccer touraments when I was younger in Albany',\n",
        "      },\n",
        "    'Burlington' : {\n",
        "        'country' : 'USA',\n",
        "        'population' : '45,000',\n",
        "        'fact' : 'Burlington is where my Aunt lives',\n",
        "      },\n",
        "    }\n",
        "\n",
        "for city, city_info in users.items():\n",
        "  print(f\"\\nCity: {city}\")\n",
        "  location = city_info['country']\n",
        "  population = city_info['population']\n",
        "  fact = city_info['fact']\n",
        "\n",
        "  print(f\"\\tlocation: {location.title()}\")\n",
        "  print(f\"\\population: {population.title()}\")\n",
        "  print(f\"\\fact: {fact.title()}\")\n",
        "\n",
        "#I do not understand what could be possily wrong with this because I followed the program above exactly. Dont undertsand how its saying country isnt a key when it is one.\n",
        "#not sure hopw to fix it and i have been working on this assignment for hours"
      ],
      "metadata": {
        "colab": {
          "base_uri": "https://localhost:8080/",
          "height": 286
        },
        "id": "pM9v0pRbYC95",
        "outputId": "329d11b8-3cad-49a5-fb1b-a6706718e86c"
      },
      "execution_count": 50,
      "outputs": [
        {
          "output_type": "stream",
          "name": "stdout",
          "text": [
            "\n",
            "City: aeinstein\n"
          ]
        },
        {
          "output_type": "error",
          "ename": "KeyError",
          "evalue": "ignored",
          "traceback": [
            "\u001b[0;31m---------------------------------------------------------------------------\u001b[0m",
            "\u001b[0;31mKeyError\u001b[0m                                  Traceback (most recent call last)",
            "\u001b[0;32m<ipython-input-50-3cabee53c597>\u001b[0m in \u001b[0;36m<cell line: 21>\u001b[0;34m()\u001b[0m\n\u001b[1;32m     21\u001b[0m \u001b[0;32mfor\u001b[0m \u001b[0mcity\u001b[0m\u001b[0;34m,\u001b[0m \u001b[0mcity_info\u001b[0m \u001b[0;32min\u001b[0m \u001b[0musers\u001b[0m\u001b[0;34m.\u001b[0m\u001b[0mitems\u001b[0m\u001b[0;34m(\u001b[0m\u001b[0;34m)\u001b[0m\u001b[0;34m:\u001b[0m\u001b[0;34m\u001b[0m\u001b[0;34m\u001b[0m\u001b[0m\n\u001b[1;32m     22\u001b[0m   \u001b[0mprint\u001b[0m\u001b[0;34m(\u001b[0m\u001b[0;34mf\"\\nCity: {city}\"\u001b[0m\u001b[0;34m)\u001b[0m\u001b[0;34m\u001b[0m\u001b[0;34m\u001b[0m\u001b[0m\n\u001b[0;32m---> 23\u001b[0;31m   \u001b[0mlocation\u001b[0m \u001b[0;34m=\u001b[0m \u001b[0mcity_info\u001b[0m\u001b[0;34m[\u001b[0m\u001b[0;34m'country'\u001b[0m\u001b[0;34m]\u001b[0m\u001b[0;34m\u001b[0m\u001b[0;34m\u001b[0m\u001b[0m\n\u001b[0m\u001b[1;32m     24\u001b[0m   \u001b[0mpopulation\u001b[0m \u001b[0;34m=\u001b[0m \u001b[0mcity_info\u001b[0m\u001b[0;34m[\u001b[0m\u001b[0;34m'population'\u001b[0m\u001b[0;34m]\u001b[0m\u001b[0;34m\u001b[0m\u001b[0;34m\u001b[0m\u001b[0m\n\u001b[1;32m     25\u001b[0m   \u001b[0mfact\u001b[0m \u001b[0;34m=\u001b[0m \u001b[0mcity_info\u001b[0m\u001b[0;34m[\u001b[0m\u001b[0;34m'fact'\u001b[0m\u001b[0;34m]\u001b[0m\u001b[0;34m\u001b[0m\u001b[0;34m\u001b[0m\u001b[0m\n",
            "\u001b[0;31mKeyError\u001b[0m: 'country'"
          ]
        }
      ]
    },
    {
      "cell_type": "code",
      "source": [
        "#6.12\n",
        "pizza = {\n",
        "    'crust' : 'thick',\n",
        "    'toppings' : ['mushrooms', 'extra cheese', 'pepperoni', 'bacon', 'ham', 'peppers'],\n",
        "    'size' : 'large'\n",
        "    }\n",
        "print (f\"You ordered a {pizza['crust']}-crust pizza\" \" with the following toppings:\")\n",
        "\n",
        "for topping in pizza ['toppings']:\n",
        "  print (f\"\\t{topping}\")\n",
        "\n",
        "print (f\"What size pizza would you like?\")\n",
        "for size in pizza ['size']:\n",
        "  print (f\"{size}\")"
      ],
      "metadata": {
        "colab": {
          "base_uri": "https://localhost:8080/"
        },
        "id": "SwQl8u3SeKYL",
        "outputId": "fbc9fb1c-303a-4b15-ed88-fb5addbd5b51"
      },
      "execution_count": 56,
      "outputs": [
        {
          "output_type": "stream",
          "name": "stdout",
          "text": [
            "You ordered a thick-crust pizza with the following toppings:\n",
            "\tmushrooms\n",
            "\textra cheese\n",
            "\tpepperoni\n",
            "\tbacon\n",
            "\tham\n",
            "\tpeppers\n",
            "What size pizza would you like?\n",
            "l\n",
            "a\n",
            "r\n",
            "g\n",
            "e\n"
          ]
        }
      ]
    }
  ]
}