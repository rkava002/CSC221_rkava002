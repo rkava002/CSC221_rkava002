{
  "nbformat": 4,
  "nbformat_minor": 0,
  "metadata": {
    "colab": {
      "provenance": [],
      "include_colab_link": true
    },
    "kernelspec": {
      "name": "python3",
      "display_name": "Python 3"
    },
    "language_info": {
      "name": "python"
    }
  },
  "cells": [
    {
      "cell_type": "markdown",
      "metadata": {
        "id": "view-in-github",
        "colab_type": "text"
      },
      "source": [
        "<a href=\"https://colab.research.google.com/github/rkava002/CSC221_rkava002/blob/main/Assignmnet14.ipynb\" target=\"_parent\"><img src=\"https://colab.research.google.com/assets/colab-badge.svg\" alt=\"Open In Colab\"/></a>"
      ]
    },
    {
      "cell_type": "code",
      "execution_count": null,
      "metadata": {
        "id": "rvU89d5MR4xm"
      },
      "outputs": [],
      "source": [
        "#BASIC CALCULATOR\n",
        "total = 0\n",
        "while True:\n",
        "  number = float(input(\"Enter a number: \"))\n",
        "  operator = input(\"Enter an operator (+, -, *, /): \")\n",
        "\n",
        "  if operator == '+':\n",
        "    total += number\n",
        "  elif operator == '-':\n",
        "    total -= number\n",
        "  elif operator == '*':\n",
        "    total *= number\n",
        "  elif operator == '/':\n",
        "    total /= number\n",
        "  else:\n",
        "    print(\"Invalid operator.\")\n",
        "  print(\"Current total:\",total)"
      ]
    },
    {
      "cell_type": "code",
      "source": [
        "#1\n",
        "#NEW CALCULATOR\n",
        "total = 0\n",
        "\n",
        "while True:\n",
        "    try:\n",
        "        user_input = input(\"Enter a calculation (number op number): \")\n",
        "        if not user_input:\n",
        "            break\n",
        "\n",
        "        # Split the user input by space to get the numbers and operator\n",
        "        num1, operator, num2 = user_input.split(' ')\n",
        "\n",
        "        num1 = float(num1)\n",
        "        num2 = float(num2)\n",
        "\n",
        "        if operator == '+':\n",
        "            total = num1 + num2\n",
        "        elif operator == '-':\n",
        "            total = num1 - num2\n",
        "        elif operator == '*':\n",
        "            total = num1 * num2\n",
        "        elif operator == '/':\n",
        "            try:\n",
        "                total = num1 / num2\n",
        "            except ZeroDivisionError:\n",
        "                print(\"Division by zero is not allowed.\")\n",
        "                continue\n",
        "        else:\n",
        "            print(\"Invalid operator.\")\n",
        "\n",
        "        print(f\"{num1} {operator} {num2} = {total}\")\n",
        "\n",
        "    except ValueError:\n",
        "        print(\"Invalid input. Please enter a valid calculation (number op number).\")\n",
        "\n",
        "print(\"Final total:\", total)"
      ],
      "metadata": {
        "colab": {
          "base_uri": "https://localhost:8080/",
          "height": 578
        },
        "id": "GiuUYT3USY_0",
        "outputId": "7a088439-1970-4e2a-f7e9-d5d5332a8144"
      },
      "execution_count": null,
      "outputs": [
        {
          "output_type": "stream",
          "name": "stdout",
          "text": [
            "Enter a calculation (number op number): '10+10\"\n",
            "Invalid input. Please enter a valid calculation (number op number).\n",
            "Enter a calculation (number op number): 10+10\n",
            "Invalid input. Please enter a valid calculation (number op number).\n",
            "Enter a calculation (number op number): '10 + 10'\n",
            "Invalid input. Please enter a valid calculation (number op number).\n",
            "Enter a calculation (number op number): 10 + 10\n",
            "10.0 + 10.0 = 20.0\n",
            "Enter a calculation (number op number): 21 * 10\n",
            "21.0 * 10.0 = 210.0\n"
          ]
        },
        {
          "output_type": "error",
          "ename": "KeyboardInterrupt",
          "evalue": "ignored",
          "traceback": [
            "\u001b[0;31m---------------------------------------------------------------------------\u001b[0m",
            "\u001b[0;31mKeyboardInterrupt\u001b[0m                         Traceback (most recent call last)",
            "\u001b[0;32m<ipython-input-3-0574412c8a42>\u001b[0m in \u001b[0;36m<cell line: 4>\u001b[0;34m()\u001b[0m\n\u001b[1;32m      4\u001b[0m \u001b[0;32mwhile\u001b[0m \u001b[0;32mTrue\u001b[0m\u001b[0;34m:\u001b[0m\u001b[0;34m\u001b[0m\u001b[0;34m\u001b[0m\u001b[0m\n\u001b[1;32m      5\u001b[0m     \u001b[0;32mtry\u001b[0m\u001b[0;34m:\u001b[0m\u001b[0;34m\u001b[0m\u001b[0;34m\u001b[0m\u001b[0m\n\u001b[0;32m----> 6\u001b[0;31m         \u001b[0muser_input\u001b[0m \u001b[0;34m=\u001b[0m \u001b[0minput\u001b[0m\u001b[0;34m(\u001b[0m\u001b[0;34m\"Enter a calculation (number op number): \"\u001b[0m\u001b[0;34m)\u001b[0m\u001b[0;34m\u001b[0m\u001b[0;34m\u001b[0m\u001b[0m\n\u001b[0m\u001b[1;32m      7\u001b[0m         \u001b[0;32mif\u001b[0m \u001b[0;32mnot\u001b[0m \u001b[0muser_input\u001b[0m\u001b[0;34m:\u001b[0m\u001b[0;34m\u001b[0m\u001b[0;34m\u001b[0m\u001b[0m\n\u001b[1;32m      8\u001b[0m             \u001b[0;32mbreak\u001b[0m\u001b[0;34m\u001b[0m\u001b[0;34m\u001b[0m\u001b[0m\n",
            "\u001b[0;32m/usr/local/lib/python3.10/dist-packages/ipykernel/kernelbase.py\u001b[0m in \u001b[0;36mraw_input\u001b[0;34m(self, prompt)\u001b[0m\n\u001b[1;32m    849\u001b[0m                 \u001b[0;34m\"raw_input was called, but this frontend does not support input requests.\"\u001b[0m\u001b[0;34m\u001b[0m\u001b[0;34m\u001b[0m\u001b[0m\n\u001b[1;32m    850\u001b[0m             )\n\u001b[0;32m--> 851\u001b[0;31m         return self._input_request(str(prompt),\n\u001b[0m\u001b[1;32m    852\u001b[0m             \u001b[0mself\u001b[0m\u001b[0;34m.\u001b[0m\u001b[0m_parent_ident\u001b[0m\u001b[0;34m,\u001b[0m\u001b[0;34m\u001b[0m\u001b[0;34m\u001b[0m\u001b[0m\n\u001b[1;32m    853\u001b[0m             \u001b[0mself\u001b[0m\u001b[0;34m.\u001b[0m\u001b[0m_parent_header\u001b[0m\u001b[0;34m,\u001b[0m\u001b[0;34m\u001b[0m\u001b[0;34m\u001b[0m\u001b[0m\n",
            "\u001b[0;32m/usr/local/lib/python3.10/dist-packages/ipykernel/kernelbase.py\u001b[0m in \u001b[0;36m_input_request\u001b[0;34m(self, prompt, ident, parent, password)\u001b[0m\n\u001b[1;32m    893\u001b[0m             \u001b[0;32mexcept\u001b[0m \u001b[0mKeyboardInterrupt\u001b[0m\u001b[0;34m:\u001b[0m\u001b[0;34m\u001b[0m\u001b[0;34m\u001b[0m\u001b[0m\n\u001b[1;32m    894\u001b[0m                 \u001b[0;31m# re-raise KeyboardInterrupt, to truncate traceback\u001b[0m\u001b[0;34m\u001b[0m\u001b[0;34m\u001b[0m\u001b[0m\n\u001b[0;32m--> 895\u001b[0;31m                 \u001b[0;32mraise\u001b[0m \u001b[0mKeyboardInterrupt\u001b[0m\u001b[0;34m(\u001b[0m\u001b[0;34m\"Interrupted by user\"\u001b[0m\u001b[0;34m)\u001b[0m \u001b[0;32mfrom\u001b[0m \u001b[0;32mNone\u001b[0m\u001b[0;34m\u001b[0m\u001b[0;34m\u001b[0m\u001b[0m\n\u001b[0m\u001b[1;32m    896\u001b[0m             \u001b[0;32mexcept\u001b[0m \u001b[0mException\u001b[0m \u001b[0;32mas\u001b[0m \u001b[0me\u001b[0m\u001b[0;34m:\u001b[0m\u001b[0;34m\u001b[0m\u001b[0;34m\u001b[0m\u001b[0m\n\u001b[1;32m    897\u001b[0m                 \u001b[0mself\u001b[0m\u001b[0;34m.\u001b[0m\u001b[0mlog\u001b[0m\u001b[0;34m.\u001b[0m\u001b[0mwarning\u001b[0m\u001b[0;34m(\u001b[0m\u001b[0;34m\"Invalid Message:\"\u001b[0m\u001b[0;34m,\u001b[0m \u001b[0mexc_info\u001b[0m\u001b[0;34m=\u001b[0m\u001b[0;32mTrue\u001b[0m\u001b[0;34m)\u001b[0m\u001b[0;34m\u001b[0m\u001b[0;34m\u001b[0m\u001b[0m\n",
            "\u001b[0;31mKeyboardInterrupt\u001b[0m: Interrupted by user"
          ]
        }
      ]
    },
    {
      "cell_type": "code",
      "source": [
        "#2\n",
        "def read_and_process_garbled_files():\n",
        "    corrected_records = []\n",
        "\n",
        "    for file_number in range(1, 4):\n",
        "        file_name = f\"as_received{file_number}.txt\"\n",
        "\n",
        "        try:\n",
        "            with open(file_name, 'r') as garbled_file:\n",
        "                garbled_lines = garbled_file.readlines()\n",
        "\n",
        "            for line in garbled_lines:\n",
        "                line = line.strip()  # Remove whitespaces\n",
        "\n",
        "                # Undo simulated transmission errors\n",
        "                line = line.replace('nnn', 'nn')\n",
        "                line = line.replace('++', '+')\n",
        "                line = line.replace('0O', '00')\n",
        "                line = line.replace('_dot_com', '.com')\n",
        "                line = line.replace('swiming', 'swimming')  # Corrected spelling\n",
        "                line = line.replace('platsburgh', 'plattsburgh')  # Corrected misspelling\n",
        "                line = line.replace('plattsburg', 'plattsburgh')  # Corrected misspelling\n",
        "                line = line.replace('platsburg', 'plattsburgh')  # Corrected misspelling\n",
        "                line = line.replace('plattsberg', 'plattsburgh')  # Corrected misspelling\n",
        "                line = line.replace('_', ' ', 7)  # Replace the first 7 occurrences of '_' with ' '\n",
        "\n",
        "                corrected_records.append(line)\n",
        "\n",
        "        except FileNotFoundError:\n",
        "            print(f\"Error: File {file_name} not found.\")\n",
        "        except Exception as e:\n",
        "            print(f\"Error processing {file_name}: {str(e)}\")\n",
        "\n",
        "    # Remove duplicates and sort the records\n",
        "    corrected_records = sorted(set(corrected_records))\n",
        "\n",
        "    try:\n",
        "        # Write corrected records to corrected.txt\n",
        "        with open('corrected.txt', 'w') as corrected_file:\n",
        "            for record in corrected_records:\n",
        "                corrected_file.write(record + '\\n')\n",
        "\n",
        "        print(\"Correction completed. Corrected records written to corrected.txt.\")\n",
        "    except Exception as e:\n",
        "        print(f\"Error writing to corrected.txt: {str(e)}\")\n",
        "\n",
        "# Compare corrected.txt to source.txt and verify they are identical\n",
        "def compare_files():\n",
        "    try:\n",
        "        with open('source.txt', 'r') as source_file:\n",
        "            source_lines = source_file.readlines()\n",
        "\n",
        "        with open('corrected.txt', 'r') as corrected_file:\n",
        "            corrected_lines = corrected_file.readlines()\n",
        "\n",
        "        if source_lines == corrected_lines:\n",
        "            print(\"Verification: source.txt and corrected.txt are identical.\")\n",
        "        else:\n",
        "            print(\"Verification: source.txt and corrected.txt differ.\")\n",
        "\n",
        "    except FileNotFoundError:\n",
        "        print(\"Error: File not found.\")\n",
        "    except Exception as e:\n",
        "        print(f\"Error comparing files: {str(e)}\")\n",
        "\n",
        "# Run the functions\n",
        "read_and_process_garbled_files()\n",
        "compare_files()\n"
      ],
      "metadata": {
        "colab": {
          "base_uri": "https://localhost:8080/"
        },
        "id": "heJBwLLMSZGq",
        "outputId": "2d4fa3a3-8248-474a-9322-7b307f80a86d"
      },
      "execution_count": null,
      "outputs": [
        {
          "output_type": "stream",
          "name": "stdout",
          "text": [
            "File not found: example.txt\n",
            "An error occurred: name 'processed_data' is not defined\n"
          ]
        }
      ]
    }
  ]
}