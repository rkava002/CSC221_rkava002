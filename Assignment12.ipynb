{
  "nbformat": 4,
  "nbformat_minor": 0,
  "metadata": {
    "colab": {
      "provenance": [],
      "authorship_tag": "ABX9TyMfl93Y33i/Fa6kB0YeJ7sH",
      "include_colab_link": true
    },
    "kernelspec": {
      "name": "python3",
      "display_name": "Python 3"
    },
    "language_info": {
      "name": "python"
    }
  },
  "cells": [
    {
      "cell_type": "markdown",
      "metadata": {
        "id": "view-in-github",
        "colab_type": "text"
      },
      "source": [
        "<a href=\"https://colab.research.google.com/github/rkava002/CSC221_rkava002/blob/main/Assignment12.ipynb\" target=\"_parent\"><img src=\"https://colab.research.google.com/assets/colab-badge.svg\" alt=\"Open In Colab\"/></a>"
      ]
    },
    {
      "cell_type": "code",
      "source": [
        "#ASSIGNMENT12\n",
        "#RYANKAVANAUGH"
      ],
      "metadata": {
        "id": "EGP8O2-OizGV"
      },
      "execution_count": null,
      "outputs": []
    },
    {
      "cell_type": "code",
      "source": [
        "class Money:\n",
        "    def __init__(self, value):\n",
        "        self.value = value\n",
        "\n",
        "    def __str__(self):\n",
        "        return f\"${self.value:.2f}\"\n",
        "\n",
        "class Bills(Money):\n",
        "    pass\n",
        "\n",
        "class One(Bills):\n",
        "    def __init__(self):\n",
        "        super().__init__(1)\n",
        "\n",
        "class Five(Bills):\n",
        "    def __init__(self):\n",
        "        super().__init__(5)\n",
        "\n",
        "class Ten(Bills):\n",
        "    def __init__(self):\n",
        "        super().__init__(10)\n",
        "\n",
        "class Twenty(Bills):\n",
        "    def __init__(self):\n",
        "        super().__init__(20)\n",
        "\n",
        "class Coins(Money):\n",
        "    pass\n",
        "\n",
        "class Penny(Coins):\n",
        "    def __init__(self):\n",
        "        super().__init__(0.01)\n",
        "\n",
        "class Nickel(Coins):\n",
        "    def __init__(self):\n",
        "        super().__init__(0.05)\n",
        "\n",
        "class Dime(Coins):\n",
        "    def __init__(self):\n",
        "        super().__init__(0.10)\n",
        "\n",
        "class Quarter(Coins):\n",
        "    def __init__(self):\n",
        "        super().__init__(0.25)\n",
        "\n",
        "def calculate_total(money_list):\n",
        "    total = 0\n",
        "    for money in money_list:\n",
        "        total += money.value\n",
        "    return total\n",
        "\n",
        "# Test cases\n",
        "wallet1 = [One(), Five(), Quarter(), Dime(), Dime()]\n",
        "wallet2 = [Ten(), Ten(), Nickel(), Penny(), Penny()]\n",
        "\n",
        "total_wallet1 = calculate_total(wallet1)\n",
        "total_wallet2 = calculate_total(wallet2)\n",
        "\n",
        "print(\"Wallet 1 Contents:\")\n",
        "for money in wallet1:\n",
        "    print(money)\n",
        "\n",
        "print(\"\\nTotal in Wallet 1:\", total_wallet1)\n",
        "\n",
        "print(\"\\nWallet 2 Contents:\")\n",
        "for money in wallet2:\n",
        "    print(money)\n",
        "\n",
        "print(\"\\nTotal in Wallet 2:\", total_wallet2)"
      ],
      "metadata": {
        "colab": {
          "base_uri": "https://localhost:8080/"
        },
        "id": "kHfL8EElh_pl",
        "outputId": "16b8267f-f12e-439f-dcda-547f80b2acfd"
      },
      "execution_count": 1,
      "outputs": [
        {
          "output_type": "stream",
          "name": "stdout",
          "text": [
            "Wallet 1 Contents:\n",
            "$1.00\n",
            "$5.00\n",
            "$0.25\n",
            "$0.10\n",
            "$0.10\n",
            "\n",
            "Total in Wallet 1: 6.449999999999999\n",
            "\n",
            "Wallet 2 Contents:\n",
            "$10.00\n",
            "$10.00\n",
            "$0.05\n",
            "$0.01\n",
            "$0.01\n",
            "\n",
            "Total in Wallet 2: 20.070000000000004\n"
          ]
        }
      ]
    },
    {
      "cell_type": "code",
      "source": [
        "class Vehicle:\n",
        "    def __init__(self, manufacturer, model):\n",
        "        self.manufacturer = manufacturer\n",
        "        self.model = model\n",
        "\n",
        "    def display_info(self):\n",
        "        print(f\"{self.manufacturer} {self.model}\")\n",
        "\n",
        "class Car(Vehicle):\n",
        "    def __init__(self, manufacturer, model, num_doors):\n",
        "        super().__init__(manufacturer, model)\n",
        "        self.num_doors = num_doors\n",
        "\n",
        "    def display_info(self):\n",
        "        super().display_info()\n",
        "        print(f\"Type: Car, Number of Doors: {self.num_doors}\")\n",
        "\n",
        "class Motorcycle(Vehicle):\n",
        "    def __init__(self, manufacturer, model, num_wheels):\n",
        "        super().__init__(manufacturer, model)\n",
        "        self.num_wheels = num_wheels\n",
        "\n",
        "    def display_info(self):\n",
        "        super().display_info()\n",
        "        print(f\"Type: Motorcycle, Number of Wheels: {self.num_wheels}\")\n",
        "\n",
        "# Test cases\n",
        "vehicle1 = Car(\"Toyota\", \"Camry\", 4)\n",
        "vehicle2 = Motorcycle(\"Harley-Davidson\", \"Sportster\", 2)\n",
        "\n",
        "vehicle1.display_info()\n",
        "print()\n",
        "\n",
        "vehicle2.display_info()\n"
      ],
      "metadata": {
        "colab": {
          "base_uri": "https://localhost:8080/"
        },
        "id": "adQbZp5Mi0Ms",
        "outputId": "d04eb037-4a5a-4377-fa90-db67279441b9"
      },
      "execution_count": 2,
      "outputs": [
        {
          "output_type": "stream",
          "name": "stdout",
          "text": [
            "Toyota Camry\n",
            "Type: Car, Number of Doors: 4\n",
            "\n",
            "Harley-Davidson Sportster\n",
            "Type: Motorcycle, Number of Wheels: 2\n"
          ]
        }
      ]
    }
  ]
}