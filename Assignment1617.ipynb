{
  "nbformat": 4,
  "nbformat_minor": 0,
  "metadata": {
    "colab": {
      "provenance": [],
      "include_colab_link": true
    },
    "kernelspec": {
      "name": "python3",
      "display_name": "Python 3"
    },
    "language_info": {
      "name": "python"
    }
  },
  "cells": [
    {
      "cell_type": "markdown",
      "metadata": {
        "id": "view-in-github",
        "colab_type": "text"
      },
      "source": [
        "<a href=\"https://colab.research.google.com/github/rkava002/CSC221_rkava002/blob/main/Assignment1617.ipynb\" target=\"_parent\"><img src=\"https://colab.research.google.com/assets/colab-badge.svg\" alt=\"Open In Colab\"/></a>"
      ]
    },
    {
      "cell_type": "code",
      "execution_count": null,
      "metadata": {
        "id": "R5dt1eOlMBr1"
      },
      "outputs": [],
      "source": [
        "# Section 1.1: Introduction\n",
        "# Python is a popular programming language known for its simplicity and readability.\n",
        "\n",
        "print(\"Hello, Python Distilled!\")"
      ]
    },
    {
      "cell_type": "code",
      "source": [
        "# Section 1.2: Running Python Code\n",
        "# Python code can be executed interactively in the Python shell or by running Python scripts.\n",
        "# You can use the print() function to display output.\n",
        "\n",
        "result = 5 + 3\n",
        "print(result)"
      ],
      "metadata": {
        "id": "obTJJB8OMa0N"
      },
      "execution_count": null,
      "outputs": []
    },
    {
      "cell_type": "code",
      "source": [
        "# Section 1.3: Variables and Assignments\n",
        "# In Python, variables are used to store data. Assignments are done using the '=' operator.\n",
        "# Variables can hold various data types, like numbers, strings, and more.\n",
        "\n",
        "name = \"John\"\n",
        "age = 30\n",
        "print(name)\n",
        "print(age)"
      ],
      "metadata": {
        "id": "Kg_fR_z5Ma2x"
      },
      "execution_count": null,
      "outputs": []
    },
    {
      "cell_type": "code",
      "source": [
        "# Section 1.4: Data Types\n",
        "# Python supports different data types like int, float, str, and bool.\n",
        "# You can check the data type using the type() function.\n",
        "\n",
        "number = 42\n",
        "print(type(number))  # Output: <class 'int'>"
      ],
      "metadata": {
        "id": "F_Im7CJRMa5O"
      },
      "execution_count": null,
      "outputs": []
    },
    {
      "cell_type": "code",
      "source": [
        "# Section 1.5: Mathematical Operations\n",
        "# Python supports various mathematical operations like +, -, *, /, and %.\n",
        "\n",
        "result = 10 + 5\n",
        "print(result)\n"
      ],
      "metadata": {
        "id": "PB8TadCeMa7e"
      },
      "execution_count": null,
      "outputs": []
    },
    {
      "cell_type": "code",
      "source": [
        "# Section 1.6: String Operations\n",
        "# Strings in Python are enclosed in single or double quotes.\n",
        "# You can perform various operations on strings, like concatenation.\n",
        "\n",
        "greeting = \"Hello\"\n",
        "name = \"Alice\"\n",
        "message = greeting + \", \" + name\n",
        "print(message)"
      ],
      "metadata": {
        "id": "FjTVkBIpMa9o"
      },
      "execution_count": null,
      "outputs": []
    },
    {
      "cell_type": "code",
      "source": [
        "# Section 1.7: User Input\n",
        "# You can get user input using the input() function. The input is treated as a string.\n",
        "\n",
        "user_input = input(\"Enter your name: \")\n",
        "print(\"Hello, \" + user_input)"
      ],
      "metadata": {
        "id": "SrUktSJgMa_u"
      },
      "execution_count": null,
      "outputs": []
    },
    {
      "cell_type": "code",
      "source": [
        "# Section 1.8: Comments\n",
        "# Comments are used to add explanations to your code. They are ignored by the Python interpreter.\n",
        "# Use the '#' symbol for single-line comments.\n",
        "\n",
        "\n",
        "# This is an example of a comment\n",
        "print(\"Hello, Python!\")"
      ],
      "metadata": {
        "id": "rR_XIlPkMbBs"
      },
      "execution_count": null,
      "outputs": []
    },
    {
      "cell_type": "code",
      "source": [
        "# Section 1.9: Indentation\n",
        "# Python uses indentation to define code blocks, like loops and functions.\n",
        "# Proper indentation is essential for code readability and correctness.\n",
        "\n",
        "if True:\n",
        "    print(\"Indented code block\")"
      ],
      "metadata": {
        "id": "TpEizYNtM42K"
      },
      "execution_count": null,
      "outputs": []
    },
    {
      "cell_type": "code",
      "source": [
        "# Section 1.10: Errors and Exceptions\n",
        "# Python can raise errors (exceptions) if there's an issue in the code.\n",
        "# You can handle exceptions using try and except blocks.\n",
        "\n",
        "\n",
        "try:\n",
        "    result = 10 / 0\n",
        "except ZeroDivisionError:\n",
        "    print(\"Error: Division by zero\")"
      ],
      "metadata": {
        "id": "w_tE4mzdM44w"
      },
      "execution_count": null,
      "outputs": []
    },
    {
      "cell_type": "code",
      "source": [
        "# Section 1.11: Functions\n",
        "# Functions are reusable blocks of code. They can accept arguments and return values.\n",
        "# Functions are defined using the 'def' keyword.\n",
        "\n",
        "def add_numbers(a, b):\n",
        "    return a + b\n",
        "\n",
        "result = add_numbers(5, 7)\n",
        "print(result)"
      ],
      "metadata": {
        "id": "3-J2xg0eM48J"
      },
      "execution_count": null,
      "outputs": []
    },
    {
      "cell_type": "code",
      "source": [
        "# Section 1.12: Modules and Imports\n",
        "# Python has a rich standard library. Modules are used to organize code.\n",
        "# You can import modules and use their functions and classes.\n",
        "\n",
        "import math\n",
        "\n",
        "result = math.sqrt(16)\n",
        "print(result)"
      ],
      "metadata": {
        "id": "StR1euk4M4-r",
        "colab": {
          "base_uri": "https://localhost:8080/"
        },
        "outputId": "6837e5b5-0c49-4fc0-ccbd-22b0d635b1f9"
      },
      "execution_count": null,
      "outputs": [
        {
          "output_type": "stream",
          "name": "stdout",
          "text": [
            "4.0\n"
          ]
        }
      ]
    },
    {
      "cell_type": "code",
      "source": [
        "# Section 1.13: Loops\n",
        "# Loops, like 'for' and 'while', are used to repeat code blocks.\n",
        "# You can use loops for iterations and processing data.\n",
        "\n",
        "for i in range(5):\n",
        "    print(\"Iteration:\", i)"
      ],
      "metadata": {
        "id": "g8q5TqziM5BO",
        "colab": {
          "base_uri": "https://localhost:8080/"
        },
        "outputId": "8a5e7010-a283-47bd-dc3d-7eeeed8b1747"
      },
      "execution_count": null,
      "outputs": [
        {
          "output_type": "stream",
          "name": "stdout",
          "text": [
            "Iteration: 0\n",
            "Iteration: 1\n",
            "Iteration: 2\n",
            "Iteration: 3\n",
            "Iteration: 4\n"
          ]
        }
      ]
    },
    {
      "cell_type": "code",
      "source": [
        "# Section 1.14: Conditional Statements\n",
        "# Conditional statements, like 'if', 'else', and 'elif', are used for decision-making.\n",
        "# They help you execute code based on conditions.\n",
        "\n",
        "age = 25\n",
        "if age >= 18:\n",
        "    print(\"You are an adult.\")\n",
        "else:\n",
        "    print(\"You are a minor.\")"
      ],
      "metadata": {
        "id": "J87Eqr6NM5De",
        "colab": {
          "base_uri": "https://localhost:8080/"
        },
        "outputId": "d06eeaa9-b009-4dba-a4d6-0a071e77ee7f"
      },
      "execution_count": null,
      "outputs": [
        {
          "output_type": "stream",
          "name": "stdout",
          "text": [
            "You are an adult.\n"
          ]
        }
      ]
    },
    {
      "cell_type": "code",
      "source": [
        "# Section 1.15: Lists\n",
        "# Lists are used to store multiple values. They are ordered and mutable.\n",
        "# You can access list elements using their indices.\n",
        "\n",
        "fruits = [\"apple\", \"banana\", \"cherry\"]\n",
        "print(fruits[1])"
      ],
      "metadata": {
        "id": "2P4aQG-fM5Fs",
        "colab": {
          "base_uri": "https://localhost:8080/"
        },
        "outputId": "a16c832c-208a-4708-f48d-814b16369aca"
      },
      "execution_count": null,
      "outputs": [
        {
          "output_type": "stream",
          "name": "stdout",
          "text": [
            "banana\n"
          ]
        }
      ]
    },
    {
      "cell_type": "code",
      "source": [
        "# Section 1.16: Dictionaries\n",
        "# Dictionaries store data in key-value pairs. They are unordered and mutable.\n",
        "# You can access dictionary values using their keys.\n",
        "\n",
        "\n",
        "person = {\"name\": \"John\", \"age\": 30}\n",
        "print(person[\"name\"])  # Output: John"
      ],
      "metadata": {
        "id": "MbLSD2W0M5H3"
      },
      "execution_count": null,
      "outputs": []
    },
    {
      "cell_type": "code",
      "source": [
        "# Section 1.17: Sets\n",
        "# Sets store unique values. They are unordered and mutable.\n",
        "# Sets are useful for storing collections of items without duplicates.\n",
        "\n",
        "colors = {\"red\", \"green\", \"blue\", \"red\"}\n",
        "print(colors)"
      ],
      "metadata": {
        "id": "P_Ml7yNvM5KJ"
      },
      "execution_count": null,
      "outputs": []
    },
    {
      "cell_type": "code",
      "source": [
        "# Section 1.18: Tuples\n",
        "# Tuples are similar to lists but are immutable. They can store a collection of values.\n",
        "\n",
        "coordinates = (2, 4)\n",
        "print(coordinates)"
      ],
      "metadata": {
        "id": "k-rr5LrHM5Ma"
      },
      "execution_count": null,
      "outputs": []
    },
    {
      "cell_type": "code",
      "source": [
        "# Section 1.19: Boolean Expressions\n",
        "# Boolean expressions are used to evaluate conditions. They result in True or False.\n",
        "\n",
        "x = 5\n",
        "y = 10\n",
        "result = x < y\n",
        "print(result)"
      ],
      "metadata": {
        "id": "9AGlqY-dM5O8"
      },
      "execution_count": null,
      "outputs": []
    },
    {
      "cell_type": "code",
      "source": [
        "# Section 1.20: Operators\n",
        "# Python supports various operators, including arithmetic, comparison, and logical operators.\n",
        "\n",
        "a = 5\n",
        "b = 2\n",
        "result = a ** b\n",
        "print(result)  # Output: 25"
      ],
      "metadata": {
        "id": "eKtZTdBFM5RP"
      },
      "execution_count": null,
      "outputs": []
    },
    {
      "cell_type": "code",
      "source": [
        "# Section 1.21: Type Conversions\n",
        "# Type conversions allow you to change the data type of a value or variable.\n",
        "# You can convert between integers, floats, and strings.\n",
        "\n",
        "# Converting a string to an integer\n",
        "str_num = \"42\"\n",
        "int_num = int(str_num)\n",
        "print(int_num)\n",
        "\n",
        "# Converting an integer to a float\n",
        "int_value = 10\n",
        "float_value = float(int_value)\n",
        "print(float_value)\n",
        "\n",
        "# Converting a number to a string\n",
        "number = 123\n",
        "str_number = str(number)\n",
        "print(str_number)"
      ],
      "metadata": {
        "id": "8E7O4x4-M5TV"
      },
      "execution_count": null,
      "outputs": []
    }
  ]
}