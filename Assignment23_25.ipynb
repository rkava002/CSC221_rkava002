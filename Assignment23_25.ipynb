{
  "nbformat": 4,
  "nbformat_minor": 0,
  "metadata": {
    "colab": {
      "provenance": [],
      "authorship_tag": "ABX9TyP3aOsNQhHXSO2x7IGx7/wT",
      "include_colab_link": true
    },
    "kernelspec": {
      "name": "python3",
      "display_name": "Python 3"
    },
    "language_info": {
      "name": "python"
    }
  },
  "cells": [
    {
      "cell_type": "markdown",
      "metadata": {
        "id": "view-in-github",
        "colab_type": "text"
      },
      "source": [
        "<a href=\"https://colab.research.google.com/github/rkava002/CSC221_rkava002/blob/main/Assignment23_25.ipynb\" target=\"_parent\"><img src=\"https://colab.research.google.com/assets/colab-badge.svg\" alt=\"Open In Colab\"/></a>"
      ]
    },
    {
      "cell_type": "code",
      "execution_count": null,
      "metadata": {
        "id": "C0MfUlIZDC_u"
      },
      "outputs": [],
      "source": [
        "#RYAN KAVANAUGH\n",
        "#ASSIGNMENT 23,24,25"
      ]
    },
    {
      "cell_type": "code",
      "source": [
        "#1\n",
        "def func(a, b):\n",
        "    return a + b\n",
        "\n",
        "result = func(3, 5)\n",
        "print(result)"
      ],
      "metadata": {
        "colab": {
          "base_uri": "https://localhost:8080/"
        },
        "id": "SAuphkmkDPVj",
        "outputId": "a33d1f5c-c98b-4a7e-893b-e7df6bab05e6"
      },
      "execution_count": 15,
      "outputs": [
        {
          "output_type": "stream",
          "name": "stdout",
          "text": [
            "8\n"
          ]
        }
      ]
    },
    {
      "cell_type": "code",
      "source": [
        "#2\n",
        "def func(*args):\n",
        "    return sum(args)\n",
        "\n",
        "result = func(1, 2, 3, 4, 5)\n",
        "print(result)"
      ],
      "metadata": {
        "colab": {
          "base_uri": "https://localhost:8080/"
        },
        "id": "GhOjiLTlDPbb",
        "outputId": "8fc7794e-987b-4316-c617-6092acd6c519"
      },
      "execution_count": 16,
      "outputs": [
        {
          "output_type": "stream",
          "name": "stdout",
          "text": [
            "15\n"
          ]
        }
      ]
    },
    {
      "cell_type": "code",
      "source": [
        "#3\n",
        "def func(**kwargs):\n",
        "    return kwargs\n",
        "\n",
        "result = func(a=1, b=2, c=3)\n",
        "print(result)"
      ],
      "metadata": {
        "colab": {
          "base_uri": "https://localhost:8080/"
        },
        "id": "FzcUZ65_DPhy",
        "outputId": "3dae19f8-c06b-46b0-b62d-aa2775cf0172"
      },
      "execution_count": 17,
      "outputs": [
        {
          "output_type": "stream",
          "name": "stdout",
          "text": [
            "{'a': 1, 'b': 2, 'c': 3}\n"
          ]
        }
      ]
    },
    {
      "cell_type": "code",
      "source": [
        "#4\n",
        "def func(*args, **kwargs):\n",
        "    operator = kwargs.get('operator', '+')\n",
        "    if operator == '+':\n",
        "        return sum(args)\n",
        "    elif operator == '-':\n",
        "        return args[0] - sum(args[1:])\n",
        "    else:\n",
        "        return \"Invalid operator\"\n",
        "\n",
        "result1 = func(1, 2, 3, operator='+')\n",
        "print(result1)\n",
        "result2 = func(1, 2, 3, operator='-')\n",
        "print(result2)"
      ],
      "metadata": {
        "colab": {
          "base_uri": "https://localhost:8080/"
        },
        "id": "SxU16ebeDPpM",
        "outputId": "b2ed9761-4cfa-49e9-afc1-c9781e84d092"
      },
      "execution_count": 18,
      "outputs": [
        {
          "output_type": "stream",
          "name": "stdout",
          "text": [
            "6\n",
            "-4\n"
          ]
        }
      ]
    },
    {
      "cell_type": "code",
      "source": [
        "#5\n",
        "global_variable = 10\n",
        "\n",
        "def change_global_value(new_value):\n",
        "    global global_variable\n",
        "    global_variable = new_value\n",
        "\n",
        "print(global_variable)\n",
        "change_global_value(20)\n",
        "print(global_variable)"
      ],
      "metadata": {
        "colab": {
          "base_uri": "https://localhost:8080/"
        },
        "id": "Nbar9Ln-DPv9",
        "outputId": "906b3d05-a422-4aee-a394-d125aad44181"
      },
      "execution_count": 19,
      "outputs": [
        {
          "output_type": "stream",
          "name": "stdout",
          "text": [
            "10\n",
            "20\n"
          ]
        }
      ]
    },
    {
      "cell_type": "code",
      "source": [
        "#6\n",
        "vowel_count = lambda word: sum(1 for char in word if char.lower() in 'aeiou')\n",
        "\n",
        "words = [\"soccer\", \"basketball\", \"football\", \"golf\", \"water polo\"]\n",
        "sorted_words = sorted(words, key=vowel_count)\n",
        "print(sorted_words)"
      ],
      "metadata": {
        "colab": {
          "base_uri": "https://localhost:8080/"
        },
        "id": "NH9fkwcwDP13",
        "outputId": "727b18c0-174e-4436-8138-67186c02f42c"
      },
      "execution_count": 20,
      "outputs": [
        {
          "output_type": "stream",
          "name": "stdout",
          "text": [
            "['golf', 'soccer', 'basketball', 'football', 'water polo']\n"
          ]
        }
      ]
    },
    {
      "cell_type": "code",
      "source": [
        "#7\n",
        "def logger(func):\n",
        "    def wrapper(*args, **kwargs):\n",
        "        result = func(*args, **kwargs)\n",
        "        with open('log.txt', 'a') as log_file:\n",
        "            log_file.write(f\"{func.__name__} - Args: {args}, Kwargs: {kwargs}, Result: {result}\\n\")\n",
        "        return result\n",
        "    return wrapper\n",
        "\n",
        "@logger\n",
        "def example_function(a, b):\n",
        "    return a + b\n",
        "\n",
        "example_function(3, 5)"
      ],
      "metadata": {
        "colab": {
          "base_uri": "https://localhost:8080/"
        },
        "id": "pl1eMzN2DP7C",
        "outputId": "f0b498fd-3266-4b4f-d149-2adeab2e2b7b"
      },
      "execution_count": 21,
      "outputs": [
        {
          "output_type": "execute_result",
          "data": {
            "text/plain": [
              "8"
            ]
          },
          "metadata": {},
          "execution_count": 21
        }
      ]
    },
    {
      "cell_type": "code",
      "source": [
        "#8\n",
        "# Map\n",
        "numbers = [1, 2, 3, 4, 5]\n",
        "squared_numbers = list(map(lambda x: x**2, numbers))\n",
        "print(squared_numbers)\n",
        "\n",
        "# Filter\n",
        "even_numbers = list(filter(lambda x: x % 2 == 0, numbers))\n",
        "print(even_numbers)\n",
        "\n",
        "# Reduce\n",
        "from functools import reduce\n",
        "product = reduce(lambda x, y: x * y, numbers)\n",
        "print(product)"
      ],
      "metadata": {
        "colab": {
          "base_uri": "https://localhost:8080/"
        },
        "id": "F9K830j0DP_2",
        "outputId": "78fcb4dd-4d76-4576-f0f5-9b2dee264be7"
      },
      "execution_count": 22,
      "outputs": [
        {
          "output_type": "stream",
          "name": "stdout",
          "text": [
            "[1, 4, 9, 16, 25]\n",
            "[2, 4]\n",
            "120\n"
          ]
        }
      ]
    },
    {
      "cell_type": "code",
      "source": [
        "#9\n",
        "while True:\n",
        "    expression = input(\"Enter a Python expression (or 'exit' to quit): \")\n",
        "    if expression.lower() == 'exit':\n",
        "        break\n",
        "    try:\n",
        "        result = eval(expression)\n",
        "        print(\"Result:\", result)\n",
        "    except Exception as e:\n",
        "        print(\"Error:\", e)"
      ],
      "metadata": {
        "colab": {
          "base_uri": "https://localhost:8080/"
        },
        "id": "STfvmVooDQE9",
        "outputId": "d34607be-17e6-4069-ae42-543802453a72"
      },
      "execution_count": 23,
      "outputs": [
        {
          "name": "stdout",
          "output_type": "stream",
          "text": [
            "Enter a Python expression (or 'exit' to quit): 25*4-66/17\n",
            "Result: 96.11764705882354\n",
            "Enter a Python expression (or 'exit' to quit): 25*4-45\n",
            "Result: 55\n",
            "Enter a Python expression (or 'exit' to quit): 25/5**3\n",
            "Result: 0.2\n",
            "Enter a Python expression (or 'exit' to quit): 5**3/5\n",
            "Result: 25.0\n",
            "Enter a Python expression (or 'exit' to quit): quit\n",
            "Result: <IPython.core.autocall.ZMQExitAutocall object at 0x7a4b13302f50>\n",
            "Enter a Python expression (or 'exit' to quit): exit\n"
          ]
        }
      ]
    }
  ]
}