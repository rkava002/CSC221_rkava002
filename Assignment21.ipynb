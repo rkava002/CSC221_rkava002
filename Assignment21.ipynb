{
  "nbformat": 4,
  "nbformat_minor": 0,
  "metadata": {
    "colab": {
      "provenance": [],
      "include_colab_link": true
    },
    "kernelspec": {
      "name": "python3",
      "display_name": "Python 3"
    },
    "language_info": {
      "name": "python"
    }
  },
  "cells": [
    {
      "cell_type": "markdown",
      "metadata": {
        "id": "view-in-github",
        "colab_type": "text"
      },
      "source": [
        "<a href=\"https://colab.research.google.com/github/rkava002/CSC221_rkava002/blob/main/Assignment21.ipynb\" target=\"_parent\"><img src=\"https://colab.research.google.com/assets/colab-badge.svg\" alt=\"Open In Colab\"/></a>"
      ]
    },
    {
      "cell_type": "markdown",
      "source": [
        "# Assignment 21\n",
        "## CSC 221\n",
        "- PLEASE INSERT YOUR NAME HERE!\n",
        "\n",
        "### Instructions:\n",
        "Fill in each code cell below the question. We are following along in Chapter 4 of Python Distilled."
      ],
      "metadata": {
        "id": "IAOUzGWE1eDx"
      }
    },
    {
      "cell_type": "code",
      "execution_count": 2,
      "metadata": {
        "id": "Gnj3su7i5-lx",
        "colab": {
          "base_uri": "https://localhost:8080/"
        },
        "outputId": "24a82e77-93bc-484b-da6d-449b59f1273d"
      },
      "outputs": [
        {
          "output_type": "stream",
          "name": "stdout",
          "text": [
            "35\n",
            "Hello, World!\n",
            "Hello, 123\n"
          ]
        }
      ],
      "source": [
        "# 4.2 Object Identity and Type\n",
        "\n",
        "# Make a function that performs differently depending on the types of its inputs\n",
        "# cat(a, b) below will work if you pass in two numbers or two strings\n",
        "# Use isinstance to detect when you are getting a string and an int and\n",
        "# automatically convert the int to a string and return the string!\n",
        "\n",
        "#def cat(a, b):\n",
        "#    return a + b\n",
        "\n",
        "#print(cat(3, 5))\n",
        "#print(cat(\"Hello, \", \"World!\"))\n",
        "#print(cat(\"Hello, \", 123))  # FAILS: Should return 'Hello, 123'\n",
        "\n",
        "# INSERT YOUR CODE HERE\n",
        "def cat(a, b):\n",
        "    if isinstance(a, int) and isinstance(b, int):\n",
        "        b = str(b)\n",
        "    return str(a) + str(b)\n",
        "\n",
        "print(cat(3, 5))               # Output: '35'\n",
        "print(cat(\"Hello, \", \"World!\")) # Output: 'Hello, World!'\n",
        "print(cat(\"Hello, \", 123))      # Output: 'Hello, 123'\n",
        "\n"
      ]
    },
    {
      "cell_type": "code",
      "source": [
        "# Explain the output of the following code\n",
        "import sys\n",
        "\n",
        "class EmptyClass:\n",
        "    def __init__(self):\n",
        "        print('init')\n",
        "    def __del__(self):\n",
        "        print('del')\n",
        "\n",
        "def print_refcount(x):\n",
        "    print(sys.getrefcount(x))\n",
        "\n",
        "f1 = EmptyClass()\n",
        "print_refcount(f1)\n",
        "f2 = f1\n",
        "print_refcount(f1)\n",
        "f3 = f1\n",
        "print_refcount(f1)\n",
        "\n",
        "del f1\n",
        "print_refcount(f3)\n",
        "del f2\n",
        "print_refcount(f3)\n",
        "del f3\n",
        "\n",
        "# INSERT YOUR EXPLANATION HERE\n",
        "#An instance of EmptyClass is created and assigned to f1. The __init__ method is called, printing 'init'.\n",
        "#The reference count of the object is printed (4) because both f1 and f2 reference the same object.\n",
        "#f2 = f1 creates another reference to the same object, increasing the reference count to 5.\n",
        "#f3 = f1 creates yet another reference, making the reference count 6.\n",
        "#del f1 removes one reference, so the reference count becomes 5.\n",
        "#del f2 removes another reference, reducing the count to 4.\n",
        "#del f3 removes the last reference, so the object's __del__ method is called, printing 'del'. The object is then de\n"
      ],
      "metadata": {
        "colab": {
          "base_uri": "https://localhost:8080/"
        },
        "id": "DKFgqiK-jlZg",
        "outputId": "cd05da4a-be3a-4c86-fd02-868b2bb66154"
      },
      "execution_count": 3,
      "outputs": [
        {
          "output_type": "stream",
          "name": "stdout",
          "text": [
            "init\n",
            "4\n",
            "5\n",
            "6\n",
            "5\n",
            "4\n",
            "del\n"
          ]
        }
      ]
    },
    {
      "cell_type": "code",
      "source": [
        "# Section 4.4, Part 1\n",
        "# Explain this output. Why does it seem odd?\n",
        "a = [1, 2, 3]\n",
        "b = a\n",
        "b[1] = 99\n",
        "print(a)\n",
        "print(b)\n",
        "\n",
        "# INSERT YOUR EXPLANATION HERE\n",
        "#a = [1, 2, 3]: Creates a list with elements 1, 2, and 3 and assigns it to the variable a.\n",
        "#b = a: Makes b refer to the same list as a.\n",
        "#b[1] = 99: Changes the second element of the list to 99 through either a or b because they both point to the same list.\n",
        "#print(a): Shows the content of list a (now [1, 99, 3]).\n",
        "#print(b): Shows the content of list b (also [1, 99, 3]) because b and a refer to the same list\n",
        "\n",
        "#It may seem odd if you expect b to be an independent copy of a. However, in this case, both variables point to the same list, so changes made through one variable affect the other.\n",
        "\n",
        "\n",
        "\n",
        "\n",
        "\n"
      ],
      "metadata": {
        "colab": {
          "base_uri": "https://localhost:8080/"
        },
        "id": "-pBk9F45ke-W",
        "outputId": "f4bad81e-6c8a-4039-b904-703eef679d7a"
      },
      "execution_count": null,
      "outputs": [
        {
          "output_type": "stream",
          "name": "stdout",
          "text": [
            "[1, 99, 3]\n",
            "[1, 99, 3]\n"
          ]
        }
      ]
    },
    {
      "cell_type": "code",
      "source": [
        "# Section 4.4, Part 2\n",
        "# Explain this output. Why is it from Part 1?\n",
        "a = [1, 2, 3]\n",
        "b = a[:]\n",
        "b[1] = 99\n",
        "print(a)\n",
        "print(b)\n",
        "\n",
        "# INSERT YOUR EXPLANATION HERE\n",
        "#a = [1, 2, 3]: Initializes a list a with elements 1, 2, and 3.\n",
        "#b = a[:]: Creates a shallow copy of list a and assigns it to b. This means that b initially has the same elements as a but is a separate list in memory.\n",
        "#b[1] = 99: Modifies the second element of list b to 99. This modification only affects the content of list b because it is a separate copy from a.\n",
        "#print(a): Prints the content of list a. The output is [1, 2, 3] because the modification made to b did not affect the original list a.\n",
        "#print(b): Prints the content of list b. The output is [1, 99, 3] because you modified the second element of b in the previous step.\n",
        "\n",
        "#This output is different from the example in Part 1 because, in Part 2, a shallow copy of list a is created for b.\n",
        "#This ensures that modifications to b do not affect the original list a.\n",
        "#It also demonstrates the use of slicing (a[:]) to create a new list with the same elements as a without sharing the same memory reference.\n",
        "\n",
        "\n",
        "\n",
        "\n",
        "\n"
      ],
      "metadata": {
        "colab": {
          "base_uri": "https://localhost:8080/"
        },
        "id": "PFG-FWuUnmM6",
        "outputId": "f4ccf08c-e2ba-4bac-d5e4-e91c1d431899"
      },
      "execution_count": null,
      "outputs": [
        {
          "output_type": "stream",
          "name": "stdout",
          "text": [
            "[1, 2, 3]\n",
            "[1, 99, 3]\n"
          ]
        }
      ]
    },
    {
      "cell_type": "code",
      "source": [
        "# Section 4.4, Part 3\n",
        "# Explain this output. Why is it from Part 1?\n",
        "a = [1, 2, 3]\n",
        "b = list(a)\n",
        "b[1] = 99\n",
        "print(a)\n",
        "print(b)\n",
        "\n",
        "# INSERT YOUR EXPLANATION HERE\n",
        "#a = [1, 2, 3]: Creates a list a with elements 1, 2, and 3.\n",
        "#b = list(a): Makes a new list b with the same elements as a. This ensures that changes to b don't affect a.\n",
        "#b[1] = 99: Changes the second element of b to 99. This change only affects b and not the original list a.\n",
        "#print(a): Shows the content of list a, which remains [1, 2, 3].\n",
        "#print(b): Shows the content of list b, which is [1, 99, 3] because of the modification made to b.\n",
        "\n",
        "#the code makes a new list b based on the content of a, and changes to b don't impact a."
      ],
      "metadata": {
        "colab": {
          "base_uri": "https://localhost:8080/"
        },
        "id": "gYLWsIv0n1uR",
        "outputId": "d5c53778-404e-486d-e19f-76896eb639ce"
      },
      "execution_count": null,
      "outputs": [
        {
          "output_type": "stream",
          "name": "stdout",
          "text": [
            "[1, 2, 3]\n",
            "[1, 99, 3]\n"
          ]
        }
      ]
    },
    {
      "cell_type": "code",
      "source": [
        "# Section 4.4, Part 4\n",
        "# Now we understand copy vs. reference. What about shallow vs. deep copy?\n",
        "# Here's a shoolow copy. Why are a and b the same?\n",
        "a = [1, [100, 101], 3]\n",
        "b = list(a)\n",
        "b[1][1] = 900\n",
        "print(a)\n",
        "print(b)\n",
        "\n",
        "# INSERT YOUR EXPLANATION HERE\n",
        "#a = [1, [100, 101], 3]: Creates a list a with elements 1, another list [100, 101], and 3.\n",
        "#b = list(a): Makes a new list b with the same elements as a. However, the inner list [100, 101] is shared between a and b.\n",
        "#b[1][1] = 900: Changes the second element of the inner list of b to 900. Since the inner list is shared, this change is seen in both a and b.\n",
        "##print(a): Shows the content of list a, which is updated to [1, [100, 900], 3].\n",
        "#print(b): Shows the content of list b, which is also [1, [100, 900], 3] because b shares the same inner list as a.\n",
        "\n",
        "#a and b are the same because when you make a shallow copy, changes to the inner lists are reflected in both the original and copied lists because they share the same references to the inner objects.\n",
        "\n",
        "\n",
        "\n",
        "\n",
        "\n"
      ],
      "metadata": {
        "colab": {
          "base_uri": "https://localhost:8080/"
        },
        "id": "8qAscig2oA7D",
        "outputId": "e9e4e832-9aa6-477f-dda6-61a6403e883c"
      },
      "execution_count": null,
      "outputs": [
        {
          "output_type": "stream",
          "name": "stdout",
          "text": [
            "[1, [100, 900], 3]\n",
            "[1, [100, 900], 3]\n"
          ]
        }
      ]
    },
    {
      "cell_type": "code",
      "source": [
        "# Section 4.4, Part 5\n",
        "# Modify the code from the cell above (repeated here) to perform a deepcopy of a\n",
        "# Explain how that is different.\n",
        "a = [1, [100, 101], 3]\n",
        "b = a # Must be modified to do a deepcopy of a! (See text).\n",
        "b[1][1] = 900\n",
        "print(a)\n",
        "print(b)\n",
        "\n",
        "import copy\n",
        "\n",
        "a = [1, [100, 101], 3]\n",
        "b = copy.deepcopy(a)  # Use deepcopy to create a deep copy of a\n",
        "b[1][1] = 900\n",
        "print(a)\n",
        "print(b)\n",
        "# INSERT YOUR EXPLANATION HERE\n",
        "#import copy: Imports the copy module.\n",
        "#a = [1, [100, 101], 3]: Creates a list a with elements 1, another list [100, 101], and 3.\n",
        "#b = copy.deepcopy(a): Use deepcopy to make a complete copy of a, ensuring changes to b won't affect a.\n",
        "#b[1][1] = 900: Modifies the second element of the inner list in b. This change only affects b.\n",
        "#print(a): Shows the content of list a, which remains [1, [100, 101], 3] due to the deep copy.\n",
        "#print(b): Shows the content of list b, which is [1, [100, 900], 3] because of the modification made to b.\n",
        "\n",
        "#Using copy.deepcopy creates a completely independent copy of the original list and all its nested elements, so changes to the copy don't affect the original.\n",
        "\n",
        "\n",
        "\n",
        "\n",
        "\n",
        "\n"
      ],
      "metadata": {
        "colab": {
          "base_uri": "https://localhost:8080/"
        },
        "id": "Mc2xAGC-oU3C",
        "outputId": "f1830e1e-c08e-4308-956d-952f0d1ac43b"
      },
      "execution_count": 4,
      "outputs": [
        {
          "output_type": "stream",
          "name": "stdout",
          "text": [
            "[1, [100, 900], 3]\n",
            "[1, [100, 900], 3]\n",
            "[1, [100, 101], 3]\n",
            "[1, [100, 900], 3]\n"
          ]
        }
      ]
    }
  ]
}