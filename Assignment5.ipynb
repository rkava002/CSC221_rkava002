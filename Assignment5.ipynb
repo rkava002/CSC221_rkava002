{
  "nbformat": 4,
  "nbformat_minor": 0,
  "metadata": {
    "colab": {
      "provenance": [],
      "authorship_tag": "ABX9TyPtHJi6XMgJigi79pT5BIoe",
      "include_colab_link": true
    },
    "kernelspec": {
      "name": "python3",
      "display_name": "Python 3"
    },
    "language_info": {
      "name": "python"
    }
  },
  "cells": [
    {
      "cell_type": "markdown",
      "metadata": {
        "id": "view-in-github",
        "colab_type": "text"
      },
      "source": [
        "<a href=\"https://colab.research.google.com/github/rkava002/CSC221_rkava002/blob/main/Assignment5.ipynb\" target=\"_parent\"><img src=\"https://colab.research.google.com/assets/colab-badge.svg\" alt=\"Open In Colab\"/></a>"
      ]
    },
    {
      "cell_type": "code",
      "execution_count": null,
      "metadata": {
        "colab": {
          "base_uri": "https://localhost:8080/"
        },
        "id": "s3ZARmzunGa9",
        "outputId": "6c4965af-90c6-4dee-980a-b35e16a33836"
      },
      "outputs": [
        {
          "output_type": "stream",
          "name": "stdout",
          "text": [
            "I love Cheese pizza!\n",
            "I love Pepperoni pizza!\n",
            "I love Meatlovers pizza!\n",
            "I really love pizza!\n"
          ]
        }
      ],
      "source": [
        "pizzas = ['cheese','pepperoni','meatlovers']\n",
        "for pizza in pizzas:\n",
        "  print(f\"I love {pizza.title()} pizza!\")\n",
        "print (\"I really love pizza!\")"
      ]
    },
    {
      "cell_type": "code",
      "source": [
        "animals = ['fish', 'cow', 'pig']\n",
        "for animal in animals:\n",
        "    print(f\"A {animal.title()} would make a great pet\")\n",
        "print (\"Any of these animals would make a great pet!\")"
      ],
      "metadata": {
        "colab": {
          "base_uri": "https://localhost:8080/"
        },
        "id": "1u21MJP-wKg4",
        "outputId": "40a9777d-edf0-49ae-88bb-0796f3460b2a"
      },
      "execution_count": null,
      "outputs": [
        {
          "output_type": "stream",
          "name": "stdout",
          "text": [
            "A Fish would make a great pet\n",
            "A Cow would make a great pet\n",
            "A Pig would make a great pet\n",
            "Any of these animals would make a great pet!\n"
          ]
        }
      ]
    },
    {
      "cell_type": "code",
      "source": [
        "numbers = list(range(1,11))\n",
        "print (numbers)"
      ],
      "metadata": {
        "colab": {
          "base_uri": "https://localhost:8080/"
        },
        "id": "EWzRcLkPwKli",
        "outputId": "7402341b-bb64-491b-fd44-d50e39a3608f"
      },
      "execution_count": null,
      "outputs": [
        {
          "output_type": "stream",
          "name": "stdout",
          "text": [
            "[1, 2, 3, 4, 5, 6, 7, 8, 9, 10]\n"
          ]
        }
      ]
    },
    {
      "cell_type": "code",
      "source": [
        "numbers = list(range(1,1000001))\n",
        "print (numbers)"
      ],
      "metadata": {
        "colab": {
          "base_uri": "https://localhost:8080/"
        },
        "id": "aZh0rC_HwKy3",
        "outputId": "3f324e7a-a58e-4694-8834-f8b155fb55bc"
      },
      "execution_count": null,
      "outputs": [
        {
          "output_type": "stream",
          "name": "stderr",
          "text": [
            "IOPub data rate exceeded.\n",
            "The notebook server will temporarily stop sending output\n",
            "to the client in order to avoid crashing it.\n",
            "To change this limit, set the config variable\n",
            "`--NotebookApp.iopub_data_rate_limit`.\n",
            "\n",
            "Current values:\n",
            "NotebookApp.iopub_data_rate_limit=1000000.0 (bytes/sec)\n",
            "NotebookApp.rate_limit_window=3.0 (secs)\n",
            "\n"
          ]
        }
      ]
    },
    {
      "cell_type": "code",
      "source": [
        "numbers = list(range(1,1000001))\n",
        "min(numbers)\n",
        "max(numbers)\n",
        "sum(numbers)"
      ],
      "metadata": {
        "colab": {
          "base_uri": "https://localhost:8080/"
        },
        "id": "_wLzxOsbwK7G",
        "outputId": "90c958dc-8620-4059-f8df-92dcc6804bef"
      },
      "execution_count": null,
      "outputs": [
        {
          "output_type": "execute_result",
          "data": {
            "text/plain": [
              "500000500000"
            ]
          },
          "metadata": {},
          "execution_count": 34
        }
      ]
    },
    {
      "cell_type": "code",
      "source": [
        "odd_numbers = list(range(2,21,2))\n",
        "print (numbers)"
      ],
      "metadata": {
        "colab": {
          "base_uri": "https://localhost:8080/"
        },
        "id": "gCkmdr0OwLCV",
        "outputId": "ab543252-0944-45be-8436-3122381027c6"
      },
      "execution_count": 39,
      "outputs": [
        {
          "output_type": "stream",
          "name": "stderr",
          "text": [
            "IOPub data rate exceeded.\n",
            "The notebook server will temporarily stop sending output\n",
            "to the client in order to avoid crashing it.\n",
            "To change this limit, set the config variable\n",
            "`--NotebookApp.iopub_data_rate_limit`.\n",
            "\n",
            "Current values:\n",
            "NotebookApp.iopub_data_rate_limit=1000000.0 (bytes/sec)\n",
            "NotebookApp.rate_limit_window=3.0 (secs)\n",
            "\n"
          ]
        }
      ]
    },
    {
      "cell_type": "code",
      "source": [
        "three_numbers = list(range(3,31,3))\n",
        "print (three_numbers)"
      ],
      "metadata": {
        "id": "YAzCLtLpwLJ3"
      },
      "execution_count": null,
      "outputs": []
    },
    {
      "cell_type": "code",
      "source": [
        "cubes = []\n",
        "for value in range (1,11):\n",
        "  cube = value**3\n",
        "  cubes.append(cube)\n",
        "print (cubes)"
      ],
      "metadata": {
        "id": "cPbaCMJ2wLR_",
        "colab": {
          "base_uri": "https://localhost:8080/"
        },
        "outputId": "213495fd-ec7e-4189-dba5-b02b52fc14d2"
      },
      "execution_count": 42,
      "outputs": [
        {
          "output_type": "stream",
          "name": "stdout",
          "text": [
            "[1, 8, 27, 64, 125, 216, 343, 512, 729, 1000]\n"
          ]
        }
      ]
    },
    {
      "cell_type": "code",
      "source": [
        "cubes = [value**3 for value in range(1,11)]\n",
        "print(cubes)"
      ],
      "metadata": {
        "id": "h8Z3BgnowLaj",
        "colab": {
          "base_uri": "https://localhost:8080/"
        },
        "outputId": "d539490b-286e-4228-929c-9e4c4cc7ccdd"
      },
      "execution_count": 43,
      "outputs": [
        {
          "output_type": "stream",
          "name": "stdout",
          "text": [
            "[1, 8, 27, 64, 125, 216, 343, 512, 729, 1000]\n"
          ]
        }
      ]
    },
    {
      "cell_type": "code",
      "source": [
        "pizzas = ['cheese','pepperoni','meatlovers']\n",
        "for pizza in pizzas:\n",
        "  print(f\"I love {pizza.title()} pizza!\")\n",
        "print (\"I really love pizza!\")\n",
        "print(\"The first three items in the list are:\")\n",
        "for pizza in pizzas[0:]:\n",
        "  print(pizza)"
      ],
      "metadata": {
        "colab": {
          "base_uri": "https://localhost:8080/"
        },
        "id": "gzvwv_zV9aGA",
        "outputId": "a5061240-caec-4f29-8f2a-7365e213c337"
      },
      "execution_count": 49,
      "outputs": [
        {
          "output_type": "stream",
          "name": "stdout",
          "text": [
            "I love Cheese pizza!\n",
            "I love Pepperoni pizza!\n",
            "I love Meatlovers pizza!\n",
            "I really love pizza!\n",
            "The first three items in the list are:\n",
            "cheese\n",
            "pepperoni\n",
            "meatlovers\n"
          ]
        }
      ]
    },
    {
      "cell_type": "code",
      "source": [
        "pizzas = ['cheese','pepperoni','meatlovers']\n",
        "for pizza in pizzas:\n",
        "  print(f\"I love {pizza.title()} pizza!\")\n",
        "print (\"I really love pizza!\")\n",
        "print(\"The three items in the middle of the list are:\")\n",
        "for pizza in pizzas[0:3]:\n",
        "  print(pizza)"
      ],
      "metadata": {
        "id": "Kz7yuj2U--A_"
      },
      "execution_count": null,
      "outputs": []
    },
    {
      "cell_type": "code",
      "source": [
        "pizzas = ['cheese','pepperoni','meatlovers']\n",
        "for pizza in pizzas:\n",
        "  print(f\"I love {pizza.title()} pizza!\")\n",
        "print (\"I really love pizza!\")\n",
        "print(\"The last three items in the list are:\")\n",
        "for pizza in pizzas[:3]:\n",
        "  print(pizza)"
      ],
      "metadata": {
        "colab": {
          "base_uri": "https://localhost:8080/"
        },
        "id": "IIiogFOt_JCr",
        "outputId": "7a4814bb-1bb3-44e4-caad-dc8752b07261"
      },
      "execution_count": 50,
      "outputs": [
        {
          "output_type": "stream",
          "name": "stdout",
          "text": [
            "I love Cheese pizza!\n",
            "I love Pepperoni pizza!\n",
            "I love Meatlovers pizza!\n",
            "I really love pizza!\n",
            "The last three items in the list are:\n",
            "cheese\n",
            "pepperoni\n",
            "meatlovers\n"
          ]
        }
      ]
    },
    {
      "cell_type": "code",
      "source": [
        "pizzas = ['cheese','pepperoni','meatlovers']\n",
        "for pizza in pizzas:\n",
        "  print(f\"I love {pizza.title()} pizza!\")\n",
        "print (\"I really love pizza!\")\n",
        "friends_pizzas = pizzas[:]\n",
        "pizzas.append(\"ChickenBaconRanch\")\n",
        "friends_pizzas.append(\"Buffalo\")\n",
        "print(\"my favorite pizzas are:\")\n",
        "for pizza in pizzas:\n",
        "  print(pizza)\n",
        "print(\"my friends favorite pizzas are:\")\n",
        "for pizza in friends_pizzas:\n",
        "  print(pizza)"
      ],
      "metadata": {
        "colab": {
          "base_uri": "https://localhost:8080/"
        },
        "id": "7QsdqCK3_UH6",
        "outputId": "858d6705-f60e-44f2-8a85-377e0e72e3b7"
      },
      "execution_count": 53,
      "outputs": [
        {
          "output_type": "stream",
          "name": "stdout",
          "text": [
            "I love Cheese pizza!\n",
            "I love Pepperoni pizza!\n",
            "I love Meatlovers pizza!\n",
            "I really love pizza!\n",
            "my favorite pizzas are:\n",
            "cheese\n",
            "pepperoni\n",
            "meatlovers\n",
            "ChickenBaconRanch\n",
            "my friends favorite pizzas are:\n",
            "cheese\n",
            "pepperoni\n",
            "meatlovers\n",
            "Buffalo\n"
          ]
        }
      ]
    },
    {
      "cell_type": "code",
      "source": [
        "pizzas = ['cheese','pepperoni','meatlovers']\n",
        "for pizza in pizzas:\n",
        "  print(f\"I love {pizza.title()} pizza!\")\n",
        "print (\"I really love pizza!\")\n",
        "friends_pizzas = pizzas[:]\n",
        "pizzas.append(\"ChickenBaconRanch\")\n",
        "friends_pizzas.append(\"Buffalo\")\n",
        "print(\"my favorite pizzas are:\")\n",
        "for pizza in pizzas:\n",
        "  print(pizza)\n",
        "print(\"my friends favorite pizzas are:\")\n",
        "for pizza in friends_pizzas:\n",
        "  print(pizza)"
      ],
      "metadata": {
        "id": "RVtZVCeeAqFW"
      },
      "execution_count": null,
      "outputs": []
    },
    {
      "cell_type": "code",
      "source": [
        "foods = (\"steak\", \"chicken\", \"burger\", \"wings\", \"fries\")\n",
        "for food in foods:\n",
        "  print(food)\n",
        "\n",
        "foods = (\"Tacos\", \"Burrito\", \"burger\", \"wings\", \"fries\")\n",
        "for food in foods:\n",
        "  print(food)"
      ],
      "metadata": {
        "colab": {
          "base_uri": "https://localhost:8080/"
        },
        "id": "qwbENVmfA7Hi",
        "outputId": "26dd2956-01e8-4b85-ac33-5fc2cc76b7d1"
      },
      "execution_count": 56,
      "outputs": [
        {
          "output_type": "stream",
          "name": "stdout",
          "text": [
            "steak\n",
            "chicken\n",
            "burger\n",
            "wings\n",
            "fries\n",
            "Tacos\n",
            "Burrito\n",
            "burger\n",
            "wings\n",
            "fries\n"
          ]
        }
      ]
    },
    {
      "cell_type": "code",
      "source": [
        "for i in range (2, n+1):\n",
        "  carry = 0\n",
        "  for j in range(len(result)):\n",
        "    product = result[j]* + carry\n",
        "    result[j]= product % 10\n",
        "    carry = product // 10\n",
        "  while carry != 0:\n",
        "    result.appened(carry % 10)\n",
        "    carry //= 10\n",
        "\n",
        "  result.reverse()\n",
        "  return (int(\".join(map(str, result))\"))"
      ],
      "metadata": {
        "colab": {
          "base_uri": "https://localhost:8080/",
          "height": 143
        },
        "id": "yFMzSDNxwLjX",
        "outputId": "a7798d8a-a248-42d9-9f3b-9c417620d679"
      },
      "execution_count": null,
      "outputs": [
        {
          "output_type": "error",
          "ename": "SyntaxError",
          "evalue": "ignored",
          "traceback": [
            "\u001b[0;36m  File \u001b[0;32m\"<ipython-input-23-1954db365380>\"\u001b[0;36m, line \u001b[0;32m12\u001b[0m\n\u001b[0;31m    return (int(\".join(map(str, result))\"))\u001b[0m\n\u001b[0m    ^\u001b[0m\n\u001b[0;31mSyntaxError\u001b[0m\u001b[0;31m:\u001b[0m 'return' outside function\n"
          ]
        }
      ]
    },
    {
      "cell_type": "code",
      "source": [
        "def factorial(n):\n",
        "  if n < 0:\n",
        "    raise ValueError\n",
        "  if n == 0 or n == 1:\n",
        "    return 1\n",
        "my_list = []\n",
        "def my_list(x):\n",
        "  return list(1, n+1)\n",
        "\n",
        "\n",
        "product = [1]\n",
        "for x in my_list:\n",
        "  product *= x\n",
        "\n",
        "\n",
        "\n",
        "  print(factorial(5))\n",
        "  print(factorial(10))"
      ],
      "metadata": {
        "colab": {
          "base_uri": "https://localhost:8080/",
          "height": 250
        },
        "id": "ePxNg7AiwLt4",
        "outputId": "28579241-6d0f-43ec-df90-22b94f587a46"
      },
      "execution_count": 57,
      "outputs": [
        {
          "output_type": "error",
          "ename": "TypeError",
          "evalue": "ignored",
          "traceback": [
            "\u001b[0;31m---------------------------------------------------------------------------\u001b[0m",
            "\u001b[0;31mTypeError\u001b[0m                                 Traceback (most recent call last)",
            "\u001b[0;32m<ipython-input-57-76f4349007f6>\u001b[0m in \u001b[0;36m<cell line: 12>\u001b[0;34m()\u001b[0m\n\u001b[1;32m     10\u001b[0m \u001b[0;34m\u001b[0m\u001b[0m\n\u001b[1;32m     11\u001b[0m \u001b[0mproduct\u001b[0m \u001b[0;34m=\u001b[0m \u001b[0;34m[\u001b[0m\u001b[0;36m1\u001b[0m\u001b[0;34m]\u001b[0m\u001b[0;34m\u001b[0m\u001b[0;34m\u001b[0m\u001b[0m\n\u001b[0;32m---> 12\u001b[0;31m \u001b[0;32mfor\u001b[0m \u001b[0mx\u001b[0m \u001b[0;32min\u001b[0m \u001b[0mmy_list\u001b[0m\u001b[0;34m:\u001b[0m\u001b[0;34m\u001b[0m\u001b[0;34m\u001b[0m\u001b[0m\n\u001b[0m\u001b[1;32m     13\u001b[0m   \u001b[0mproduct\u001b[0m \u001b[0;34m*=\u001b[0m \u001b[0mx\u001b[0m\u001b[0;34m\u001b[0m\u001b[0;34m\u001b[0m\u001b[0m\n\u001b[1;32m     14\u001b[0m \u001b[0;34m\u001b[0m\u001b[0m\n",
            "\u001b[0;31mTypeError\u001b[0m: 'function' object is not iterable"
          ]
        }
      ]
    },
    {
      "cell_type": "code",
      "source": [
        "def factorial(n):\n",
        "  if (n<1):\n",
        "    return 1\n",
        "  else:\n",
        "    product = 1\n",
        "    for i in range (1, n+1):\n",
        "      product *= i\n",
        "    return (product)\n",
        "\n",
        "def main():\n",
        "  n = int(input(\"Enter value for n:   \"))\n",
        "  factorial_list = []\n",
        "  for i in range(1,n):\n",
        "    factorial_list.append(fact(i))\n",
        "    printList (factorial_list)\n",
        "\n",
        "print (factorial(5))\n",
        "print (factorial(10))\n",
        "print (factorial(20))\n",
        "print (factorial(40))"
      ],
      "metadata": {
        "colab": {
          "base_uri": "https://localhost:8080/"
        },
        "id": "9JR89pumDt5m",
        "outputId": "96d42b67-2c86-46e9-d7b8-2476f3a3ba90"
      },
      "execution_count": 71,
      "outputs": [
        {
          "output_type": "stream",
          "name": "stdout",
          "text": [
            "120\n",
            "3628800\n",
            "2432902008176640000\n",
            "815915283247897734345611269596115894272000000000\n"
          ]
        }
      ]
    },
    {
      "cell_type": "code",
      "source": [
        "def specialfactorial(n):\n",
        "  if (n<1):\n",
        "    return 1\n",
        "  else:\n",
        "    product = 1\n",
        "    if n >= 4:\n",
        "      my_list.remove(4)\n",
        "    for i in range (1, n+1):\n",
        "      product *= i\n",
        "    return (product)\n",
        "\n",
        "def main():\n",
        "  n = int(input(\"Enter value for n:   \"))\n",
        "  factorial_list = []\n",
        "  for i in range(1,n):\n",
        "    factorial_list.append(fact(i))\n",
        "    printList (factorial_list)\n",
        "\n",
        "print (factorial(5))\n",
        "print (factorial(10))\n",
        "print (factorial(20))\n",
        "print (factorial(40))"
      ],
      "metadata": {
        "colab": {
          "base_uri": "https://localhost:8080/"
        },
        "id": "m8aP05y6FZNP",
        "outputId": "fd7fb071-5642-4f86-96a1-817cf3b1c278"
      },
      "execution_count": 72,
      "outputs": [
        {
          "output_type": "stream",
          "name": "stdout",
          "text": [
            "120\n",
            "3628800\n",
            "2432902008176640000\n",
            "815915283247897734345611269596115894272000000000\n"
          ]
        }
      ]
    }
  ]
}