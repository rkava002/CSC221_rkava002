{
  "nbformat": 4,
  "nbformat_minor": 0,
  "metadata": {
    "colab": {
      "provenance": [],
      "authorship_tag": "ABX9TyMZSBSyEZZoWzDiig0NtrHf",
      "include_colab_link": true
    },
    "kernelspec": {
      "name": "python3",
      "display_name": "Python 3"
    },
    "language_info": {
      "name": "python"
    }
  },
  "cells": [
    {
      "cell_type": "markdown",
      "metadata": {
        "id": "view-in-github",
        "colab_type": "text"
      },
      "source": [
        "<a href=\"https://colab.research.google.com/github/rkava002/CSC221_rkava002/blob/main/Assignment15.ipynb\" target=\"_parent\"><img src=\"https://colab.research.google.com/assets/colab-badge.svg\" alt=\"Open In Colab\"/></a>"
      ]
    },
    {
      "cell_type": "code",
      "execution_count": null,
      "metadata": {
        "id": "2rHJx2MpfzMk"
      },
      "outputs": [],
      "source": [
        "#RYAN KAVANAUGH\n",
        "#Assignemnt 15"
      ]
    },
    {
      "cell_type": "code",
      "source": [
        "def get_formatted_name(first, last):\n",
        "  \"\"\"Generate a neatly formatted full name.\"\"\"\n",
        "  full_name = f\"{first} {last}\"\n",
        "  return full_name.title()"
      ],
      "metadata": {
        "id": "u75S6i25f7sg"
      },
      "execution_count": null,
      "outputs": []
    },
    {
      "cell_type": "code",
      "source": [
        "from name_function import get_formatted_name\n",
        "\n",
        "print(\"Enter 'q' at any time to quit.\")\n",
        "while True:\n",
        "  first = input(\"\\nPlease give me a first name: \")\n",
        "  if first == 'q':\n",
        "    break\n",
        "  last = input(\"Please give me a last name: \")\n",
        "  if last == 'q':\n",
        "    break\n",
        "  formatted_name = get_formatted_name(first, last)\n",
        "  print(f\"\\tNeatly formatted name: {formatted_name}.\")"
      ],
      "metadata": {
        "id": "iCgF1Afyg8Zc"
      },
      "execution_count": null,
      "outputs": []
    },
    {
      "cell_type": "code",
      "source": [
        "from name_function import get_formatted_name\n",
        "\n",
        "def test_first_last_name():\n",
        "  \"\"\"Do names like 'Janis Joplin' work?\"\"\"\n",
        "  formatted_name = get_formatted_name('janis', 'joplin')\n",
        "  assert formatted_name == 'Janis Joplin'"
      ],
      "metadata": {
        "id": "6jJ4Pl8yg8bl"
      },
      "execution_count": null,
      "outputs": []
    },
    {
      "cell_type": "code",
      "source": [
        "def get_formatted_name(first, middle, last):\n",
        "  \"\"\"Generate a neatly formatted full name.\"\"\"\n",
        "  full_name = f\"{first} {middle} {last}\"\n",
        "  return full_name.title()"
      ],
      "metadata": {
        "id": "j6YqCQkkg8do"
      },
      "execution_count": null,
      "outputs": []
    },
    {
      "cell_type": "code",
      "source": [
        "def get_formatted_name(first, last, middle=''):\n",
        "  \"\"\"Generate a neatly formatted full name.\"\"\"\n",
        "  if middle:\n",
        "    full_name = f\"{first} {middle} {last}\"\n",
        "  else:\n",
        "    full_name = f\"{first} {last}\"\n",
        "return full_name.title()"
      ],
      "metadata": {
        "id": "_I_Lt6lJg8fv"
      },
      "execution_count": null,
      "outputs": []
    },
    {
      "cell_type": "code",
      "source": [
        "from name_function import get_formatted_name\n",
        "\n",
        "def test_first_last_name():\n",
        " --snip--\n",
        "\n",
        "def test_first_last_middle_name():\n",
        "  \"\"\"Do names like 'Wolfgang Amadeus Mozart' work?\"\"\"\n",
        "  formatted_name = get_formatted_name(\n",
        "    'wolfgang', 'mozart', 'amadeus')\n",
        "    assert formatted_name == 'Wolfgang Amadeus Mozart'"
      ],
      "metadata": {
        "colab": {
          "base_uri": "https://localhost:8080/",
          "height": 143
        },
        "id": "6QYahZTCg8hp",
        "outputId": "3100b82f-f041-41a6-82a1-d6021c815fe8"
      },
      "execution_count": 1,
      "outputs": [
        {
          "output_type": "error",
          "ename": "SyntaxError",
          "evalue": "ignored",
          "traceback": [
            "\u001b[0;36m  File \u001b[0;32m\"<ipython-input-1-133bf3a508f1>\"\u001b[0;36m, line \u001b[0;32m4\u001b[0m\n\u001b[0;31m    --snip--\u001b[0m\n\u001b[0m            ^\u001b[0m\n\u001b[0;31mSyntaxError\u001b[0m\u001b[0;31m:\u001b[0m invalid syntax\n"
          ]
        }
      ]
    },
    {
      "cell_type": "code",
      "source": [
        "class AnonymousSurvey:\n",
        "  \"\"\"Collect anonymous answers to a survey question.\"\"\"\n",
        "\n",
        "def __init__(self, question):\n",
        "  \"\"\"Store a question, and prepare to store responses.\"\"\"\n",
        "  self.question = question\n",
        "  self.responses = []\n",
        "\n",
        "def show_question(self):\n",
        "  \"\"\"Show the survey question.\"\"\"\n",
        "  print(self.question)\n",
        "\n",
        "def store_response(self, new_response):\n",
        "  \"\"\"Store a single response to the survey.\"\"\"\n",
        "  self.responses.append(new_response)\n",
        "\n",
        "def show_results(self):\n",
        "  \"\"\"Show all the responses that have been given.\"\"\"\n",
        "  print(\"Survey results:\")\n",
        "  for response in self.responses:\n",
        "    print(f\"- {response}\")"
      ],
      "metadata": {
        "id": "bW8TwVlsg8jp"
      },
      "execution_count": null,
      "outputs": []
    },
    {
      "cell_type": "code",
      "source": [
        "from survey import AnonymousSurvey\n",
        "\n",
        "# Define a question, and make a survey.\n",
        "question = \"What language did you first learn to speak?\"\n",
        "language_survey = AnonymousSurvey(question)\n",
        "\n",
        "# Show the question, and store responses to the question.\n",
        "language_survey.show_question()\n",
        "print(\"Enter 'q' at any time to quit.\\n\")\n",
        "while True:\n",
        "  response = input(\"Language: \")\n",
        "  if response == 'q':\n",
        "    break\n",
        "  language_survey.store_response(response)\n",
        "\n",
        "# Show the survey results.\n",
        "print(\"\\nThank you to everyone who participated in the survey!\")\n",
        "language_survey.show_results()"
      ],
      "metadata": {
        "id": "cEXpKXUkg8l1"
      },
      "execution_count": null,
      "outputs": []
    },
    {
      "cell_type": "code",
      "source": [
        "from survey import AnonymousSurvey\n",
        "\n",
        "def test_store_single_response():\n",
        "  \"\"\"Test that a single response is stored properly.\"\"\"\n",
        "  question = \"What language did you first learn to speak?\"\n",
        "  language_survey = AnonymousSurvey(question)\n",
        "  language_survey.store_response('English')\n",
        "  assert 'English' in language_survey.responses"
      ],
      "metadata": {
        "id": "N_948my5g8n8"
      },
      "execution_count": null,
      "outputs": []
    },
    {
      "cell_type": "code",
      "source": [
        "def test_store_three_responses():\n",
        "  \"\"\"Test that three individual responses are stored properly.\"\"\"\n",
        "  question = \"What language did you first learn to speak?\"\n",
        "  language_survey = AnonymousSurvey(question)\n",
        "  responses = ['English', 'Spanish', 'Mandarin']\n",
        "  for response in responses:\n",
        "    language_survey.store_response(response)\n",
        "  for response in responses:\n",
        "    assert response in language_survey.responses"
      ],
      "metadata": {
        "id": "So3f83mqg8p4"
      },
      "execution_count": null,
      "outputs": []
    },
    {
      "cell_type": "code",
      "source": [
        "import pytest\n",
        "from survey import AnonymousSurvey\n",
        "\n",
        "@pytest.fixture\n",
        "def language_survey():\n",
        "  \"\"\"A survey that will be available to all test functions.\"\"\"\n",
        "  question = \"What language did you first learn to speak?\"\n",
        "  language_survey = AnonymousSurvey(question)\n",
        "  return language_survey\n",
        "\n",
        "def test_store_single_response(language_survey):\n",
        "  \"\"\"Test that a single response is stored properly.\"\"\"\n",
        "  language_survey.store_response('English')\n",
        "  assert 'English' in language_survey.responses\n",
        "\n",
        "def test_store_three_responses(language_survey):\n",
        "  \"\"\"Test that three individual responses are stored properly.\"\"\"\n",
        "  responses = ['English', 'Spanish', 'Mandarin']\n",
        "  for response in responses:\n",
        "    language_survey.store_response(response)\n",
        "\n",
        "  for response in responses:\n",
        "    assert response in language_survey.responses"
      ],
      "metadata": {
        "id": "MVnK4FUUg8r-"
      },
      "execution_count": null,
      "outputs": []
    }
  ]
}