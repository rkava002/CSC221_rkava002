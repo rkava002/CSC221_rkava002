{
  "nbformat": 4,
  "nbformat_minor": 0,
  "metadata": {
    "colab": {
      "provenance": [],
      "authorship_tag": "ABX9TyMUomFrMr4KWkwiC85XXJVu",
      "include_colab_link": true
    },
    "kernelspec": {
      "name": "python3",
      "display_name": "Python 3"
    },
    "language_info": {
      "name": "python"
    }
  },
  "cells": [
    {
      "cell_type": "markdown",
      "metadata": {
        "id": "view-in-github",
        "colab_type": "text"
      },
      "source": [
        "<a href=\"https://colab.research.google.com/github/rkava002/CSC221_rkava002/blob/main/Assignment6.ipynb\" target=\"_parent\"><img src=\"https://colab.research.google.com/assets/colab-badge.svg\" alt=\"Open In Colab\"/></a>"
      ]
    },
    {
      "cell_type": "code",
      "execution_count": 3,
      "metadata": {
        "colab": {
          "base_uri": "https://localhost:8080/"
        },
        "id": "jhJF7fIE-2dp",
        "outputId": "935c65e9-0b5b-46e7-a595-cb1adeb62f2c"
      },
      "outputs": [
        {
          "output_type": "stream",
          "name": "stdout",
          "text": [
            "Is sport == 'soccer'? I predict True.\n",
            "True\n",
            "\n",
            "Is sport == 'basketball'? I predict False.\n",
            "False\n",
            "Is drink == 'water'? I predict True.\n",
            "True\n",
            "\n",
            "Is drink == 'soda'? I predict False.\n",
            "False\n",
            "Is food == 'pizza'? I predict True.\n",
            "True\n",
            "\n",
            "Is food == 'burger'? I predict False.\n",
            "False\n",
            "Is color == 'pink'? I predict True.\n",
            "True\n",
            "\n",
            "Is color == 'blue'? I predict False.\n",
            "False\n",
            "Is name == 'Ryan'? I predict True.\n",
            "True\n",
            "\n",
            "Is name == 'Tanner'? I predict False.\n",
            "False\n"
          ]
        }
      ],
      "source": [
        "sport = 'soccer'\n",
        "print(\"Is sport == 'soccer'? I predict True.\")\n",
        "print(sport == 'soccer')\n",
        "\n",
        "print(\"\\nIs sport == 'basketball'? I predict False.\")\n",
        "print(sport == 'basketball')\n",
        "\n",
        "drink = 'water'\n",
        "print(\"Is drink == 'water'? I predict True.\")\n",
        "print(drink == 'water')\n",
        "\n",
        "print(\"\\nIs drink == 'soda'? I predict False.\")\n",
        "print(drink == 'soda')\n",
        "\n",
        "food = 'pizza'\n",
        "print(\"Is food == 'pizza'? I predict True.\")\n",
        "print(food == 'pizza')\n",
        "\n",
        "\n",
        "print(\"\\nIs food == 'burger'? I predict False.\")\n",
        "print(food == 'burger')\n",
        "\n",
        "color = 'pink'\n",
        "print(\"Is color == 'pink'? I predict True.\")\n",
        "print(color == 'pink')\n",
        "\n",
        "print(\"\\nIs color == 'blue'? I predict False.\")\n",
        "print(color == 'blue')\n",
        "\n",
        "name = 'Ryan'\n",
        "print(\"Is name == 'Ryan'? I predict True.\")\n",
        "print(name == 'Ryan')\n",
        "\n",
        "print(\"\\nIs name == 'Tanner'? I predict False.\")\n",
        "print(name == 'Tanner')\n",
        "\n",
        "\n",
        "\n",
        "\n",
        "\n",
        "\n",
        "\n"
      ]
    },
    {
      "cell_type": "code",
      "source": [
        "car = 'Audi'\n",
        "print(car == 'Audi')\n",
        "\n",
        "truck = \"Chevy\"\n",
        "print(truck == \"Ford\")\n",
        "\n",
        "name = 'Ryan'\n",
        "print(name.lower() == 'ryan')\n",
        "\n",
        "name = 'Tanner'\n",
        "print(name == 'tanner')\n",
        "\n",
        "age = 22\n",
        "print(age <= 23)\n",
        "print(age >= 23)\n",
        "\n",
        "age_0 = 25\n",
        "age_1 = 18\n",
        "print(age_0 >= 19 and age_1 <= 19)\n",
        "print(age_0 >= 30 and age_1 <= 17)\n",
        "\n",
        "print(age_0 >= 19 or age_1 <= 25)\n",
        "print(age_0 >= 30 or age_1 <= 17)\n",
        "\n",
        "pizza_toppings = ['pepperoni','pineapple','mushrooms']\n",
        "print('mushrooms' in pizza_toppings)\n",
        "print('bacon' in pizza_toppings)\n",
        "\n",
        "banned_users = ['ryan','tanner','mikey']\n",
        "user = 'riley'\n",
        "if user not in banned_users:\n",
        "  print(f\"{user.title()}, you can post here if you wish\")\n",
        "\n",
        "\n",
        "\n"
      ],
      "metadata": {
        "colab": {
          "base_uri": "https://localhost:8080/"
        },
        "id": "ovbluSquGOcI",
        "outputId": "ac0dceec-5cf0-4f41-e4d1-95744836da71"
      },
      "execution_count": 20,
      "outputs": [
        {
          "output_type": "stream",
          "name": "stdout",
          "text": [
            "True\n",
            "False\n",
            "True\n",
            "False\n",
            "True\n",
            "False\n",
            "True\n",
            "False\n",
            "True\n",
            "False\n",
            "True\n",
            "False\n",
            "Riley, you can post here if you wish\n"
          ]
        }
      ]
    },
    {
      "cell_type": "code",
      "source": [
        "alien_color ='red'\n",
        "if alien_color == 'green':\n",
        "  print (\"You just gained 5 points!\")\n",
        "else:\n",
        "  print (\"You got it wrong\")\n",
        "\n",
        "alien_color ='green'\n",
        "if alien_color == 'green':\n",
        "  print (\"You just gained 5 points!\")\n",
        "else:\n",
        "  print (\"You got it wrong\")"
      ],
      "metadata": {
        "colab": {
          "base_uri": "https://localhost:8080/"
        },
        "id": "S2Wr390JLKDj",
        "outputId": "6cc3e434-eff4-4020-e52a-b64abcb7f811"
      },
      "execution_count": 22,
      "outputs": [
        {
          "output_type": "stream",
          "name": "stdout",
          "text": [
            "You got it wrong\n",
            "You just gained 5 points!\n"
          ]
        }
      ]
    },
    {
      "cell_type": "code",
      "source": [
        "age = 66\n",
        "if age < 2:\n",
        "  print(\"This person is a baby\")\n",
        "elif age < 4:\n",
        "  print(\"This person is a toddler\")\n",
        "elif age < 13:\n",
        "  print(\"This person is a kid\")\n",
        "elif age < 20:\n",
        "  print (\"This person is a teenager\")\n",
        "elif age < 65:\n",
        "  print (\"This person is an adult\")\n",
        "else:\n",
        "  print (\"This person is an elder\")"
      ],
      "metadata": {
        "colab": {
          "base_uri": "https://localhost:8080/"
        },
        "id": "urzXjJByNJAm",
        "outputId": "c4d4c4bf-4f6c-4641-8ab3-ffc2306c4a33"
      },
      "execution_count": 24,
      "outputs": [
        {
          "output_type": "stream",
          "name": "stdout",
          "text": [
            "This person is an elder\n"
          ]
        }
      ]
    },
    {
      "cell_type": "code",
      "source": [
        "#Customer requesting tacos made specifically to their liking, I will write code to be able to interpret what the customer wants and state whether or not we have the option\n",
        "\n",
        "avaiable_toppings = ['beef','chicken','pork','cheese', 'beans', 'rice', 'lettuce', 'onions', 'tomatoes']\n",
        "\n",
        "requested_toppings = ['chicken','cheese','beans', 'rice', 'lettuce', \"salsa\"]\n",
        "\n",
        "for requested_topping in requested_toppings:\n",
        "  if requested_topping in avaiable_toppings:\n",
        "    print (f\"Adding {requested_topping}.\")\n",
        "  else: print(f\"Sorry, we do not have {requested_topping}.\")\n",
        "\n",
        "print(\"\\nWe are finsihed making your tacos!\")"
      ],
      "metadata": {
        "colab": {
          "base_uri": "https://localhost:8080/"
        },
        "id": "KByJQIvaOBuj",
        "outputId": "fbd45e49-4552-414f-9de8-84fac9022651"
      },
      "execution_count": 25,
      "outputs": [
        {
          "output_type": "stream",
          "name": "stdout",
          "text": [
            "Adding chicken.\n",
            "Adding cheese.\n",
            "Adding beans.\n",
            "Adding rice.\n",
            "Adding lettuce.\n",
            "Sorry, we do not have salsa.\n",
            "\n",
            "We are finsihed making your tacos!\n"
          ]
        }
      ]
    }
  ]
}