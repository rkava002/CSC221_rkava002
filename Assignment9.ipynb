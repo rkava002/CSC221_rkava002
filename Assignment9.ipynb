{
  "nbformat": 4,
  "nbformat_minor": 0,
  "metadata": {
    "colab": {
      "provenance": [],
      "authorship_tag": "ABX9TyOZ0IG7Gzl1nk2ScUVK5zH4",
      "include_colab_link": true
    },
    "kernelspec": {
      "name": "python3",
      "display_name": "Python 3"
    },
    "language_info": {
      "name": "python"
    }
  },
  "cells": [
    {
      "cell_type": "markdown",
      "metadata": {
        "id": "view-in-github",
        "colab_type": "text"
      },
      "source": [
        "<a href=\"https://colab.research.google.com/github/rkava002/CSC221_rkava002/blob/main/Assignment9.ipynb\" target=\"_parent\"><img src=\"https://colab.research.google.com/assets/colab-badge.svg\" alt=\"Open In Colab\"/></a>"
      ]
    },
    {
      "cell_type": "code",
      "source": [
        "def greet_user():\n",
        "  \"\"\"Display a simple greeting.\"\"\"\n",
        "  print(\"Hello!\")\n",
        "\n",
        "greet_user()"
      ],
      "metadata": {
        "colab": {
          "base_uri": "https://localhost:8080/"
        },
        "id": "C8aPgpCitel8",
        "outputId": "b2bc3bd9-5a68-4b37-830f-fd369bf037fe"
      },
      "execution_count": null,
      "outputs": [
        {
          "output_type": "stream",
          "name": "stdout",
          "text": [
            "Hello!\n"
          ]
        }
      ]
    },
    {
      "cell_type": "code",
      "source": [
        "def greet_user(username):\n",
        "  \"\"\"Display a simple greeting.\"\"\"\n",
        "  print(f\"Hello, {username.title()}!\")\n",
        "\n",
        "greet_user('jesse')"
      ],
      "metadata": {
        "id": "HRhdpVo0teiQ",
        "colab": {
          "base_uri": "https://localhost:8080/"
        },
        "outputId": "c0eba9c6-36cf-4661-90cb-777b158658bb"
      },
      "execution_count": 1,
      "outputs": [
        {
          "output_type": "stream",
          "name": "stdout",
          "text": [
            "Hello, Jesse!\n"
          ]
        }
      ]
    },
    {
      "cell_type": "code",
      "source": [
        "#8.2\n",
        "def favorite_book(title):\n",
        "  print(f\"One of my favorite books is, {title.title()}!\")\n",
        "\n",
        "favorite_book('Alice in Wonderland')\n"
      ],
      "metadata": {
        "id": "emUAABBwtec8",
        "colab": {
          "base_uri": "https://localhost:8080/"
        },
        "outputId": "320e73a7-1e83-434e-c0da-0d05f8bf0b21"
      },
      "execution_count": 4,
      "outputs": [
        {
          "output_type": "stream",
          "name": "stdout",
          "text": [
            "One of my favorite books is, Alice In Wonderland!\n"
          ]
        }
      ]
    },
    {
      "cell_type": "code",
      "source": [
        "def describe_pet (animal_type, pet_name):\n",
        "  print(f\"\\nI have a {animal_type}.\")\n",
        "  print(f\"My {animal_type}'s name is {pet_name.title()}.\")\n",
        "\n",
        "describe_pet('hamster', 'harry')"
      ],
      "metadata": {
        "id": "1bTHVWZNteMy",
        "colab": {
          "base_uri": "https://localhost:8080/"
        },
        "outputId": "80cb3d8e-b849-4c58-cb0c-34bf95d2b1b4"
      },
      "execution_count": 7,
      "outputs": [
        {
          "output_type": "stream",
          "name": "stdout",
          "text": [
            "\n",
            "I have a hamster.\n",
            "My hamster's name is Harry.\n"
          ]
        }
      ]
    },
    {
      "cell_type": "code",
      "source": [
        "def describe_pet (animal_type, pet_name):\n",
        "  print(f\"\\nI have a {animal_type}.\")\n",
        "  print(f\"My {animal_type}'s name is {pet_name.title()}.\")\n",
        "\n",
        "describe_pet('hamster', 'harry')\n",
        "describe_pet('dog','willie')"
      ],
      "metadata": {
        "id": "GeT2v5q4td8F",
        "colab": {
          "base_uri": "https://localhost:8080/"
        },
        "outputId": "e9f3c72e-1943-4084-8c52-75a2942d23b7"
      },
      "execution_count": 8,
      "outputs": [
        {
          "output_type": "stream",
          "name": "stdout",
          "text": [
            "\n",
            "I have a hamster.\n",
            "My hamster's name is Harry.\n",
            "\n",
            "I have a dog.\n",
            "My dog's name is Willie.\n"
          ]
        }
      ]
    },
    {
      "cell_type": "code",
      "source": [
        "def describe_pet (animal_type, pet_name):\n",
        "  print(f\"\\nI have a {animal_type}.\")\n",
        "  print(f\"My {animal_type}'s name is {pet_name.title()}.\")\n",
        "\n",
        "describe_pet('harry', 'hamster')"
      ],
      "metadata": {
        "colab": {
          "base_uri": "https://localhost:8080/"
        },
        "id": "aa66JC8A4PRV",
        "outputId": "1c7c0f61-ed2d-4957-aa0e-ee362c1a7d7c"
      },
      "execution_count": 9,
      "outputs": [
        {
          "output_type": "stream",
          "name": "stdout",
          "text": [
            "\n",
            "I have a harry.\n",
            "My harry's name is Hamster.\n"
          ]
        }
      ]
    },
    {
      "cell_type": "code",
      "source": [
        "def describe_pet (animal_type, pet_name):\n",
        "  print(f\"\\nI have a {animal_type}.\")\n",
        "  print(f\"My {animal_type}'s name is {pet_name.title()}.\")\n",
        "\n",
        "describe_pet(animal_type = 'hamster', pet_name ='harry')"
      ],
      "metadata": {
        "colab": {
          "base_uri": "https://localhost:8080/"
        },
        "id": "VG_V0C1H4XWw",
        "outputId": "c77ed472-b5f5-4d5c-b431-34a80e2990aa"
      },
      "execution_count": 10,
      "outputs": [
        {
          "output_type": "stream",
          "name": "stdout",
          "text": [
            "\n",
            "I have a hamster.\n",
            "My hamster's name is Harry.\n"
          ]
        }
      ]
    },
    {
      "cell_type": "code",
      "source": [
        "def describe_pet (pet_name, animal_type='dog'):\n",
        "  print(f\"\\nI have a {animal_type}.\")\n",
        "  print(f\"My {animal_type}'s name is {pet_name.title()}.\")\n",
        "\n",
        "describe_pet(pet_name='willie')\n",
        "describe_pet('willie')\n",
        "describe_pet(pet_name='harry', animal_type='hamster')"
      ],
      "metadata": {
        "colab": {
          "base_uri": "https://localhost:8080/"
        },
        "id": "jr5AqseG4vhm",
        "outputId": "1388c651-8014-455b-b85a-686f4485d135"
      },
      "execution_count": 12,
      "outputs": [
        {
          "output_type": "stream",
          "name": "stdout",
          "text": [
            "\n",
            "I have a dog.\n",
            "My dog's name is Willie.\n",
            "\n",
            "I have a dog.\n",
            "My dog's name is Willie.\n",
            "\n",
            "I have a hamster.\n",
            "My hamster's name is Harry.\n"
          ]
        }
      ]
    },
    {
      "cell_type": "code",
      "source": [
        "def describe_pet (animal_type, pet_name):\n",
        "  print(f\"\\nI have a {animal_type}.\")\n",
        "  print(f\"My {animal_type}'s name is {pet_name.title()}.\")\n",
        "\n",
        "describe_pet()"
      ],
      "metadata": {
        "colab": {
          "base_uri": "https://localhost:8080/",
          "height": 214
        },
        "id": "QyIhkSgF5XDI",
        "outputId": "ebbdf9c3-2a72-4f19-b471-5b47fdfe72a4"
      },
      "execution_count": 13,
      "outputs": [
        {
          "output_type": "error",
          "ename": "TypeError",
          "evalue": "ignored",
          "traceback": [
            "\u001b[0;31m---------------------------------------------------------------------------\u001b[0m",
            "\u001b[0;31mTypeError\u001b[0m                                 Traceback (most recent call last)",
            "\u001b[0;32m<ipython-input-13-afe2ce98a1f7>\u001b[0m in \u001b[0;36m<cell line: 5>\u001b[0;34m()\u001b[0m\n\u001b[1;32m      3\u001b[0m   \u001b[0mprint\u001b[0m\u001b[0;34m(\u001b[0m\u001b[0;34mf\"My {animal_type}'s name is {pet_name.title()}.\"\u001b[0m\u001b[0;34m)\u001b[0m\u001b[0;34m\u001b[0m\u001b[0;34m\u001b[0m\u001b[0m\n\u001b[1;32m      4\u001b[0m \u001b[0;34m\u001b[0m\u001b[0m\n\u001b[0;32m----> 5\u001b[0;31m \u001b[0mdescribe_pet\u001b[0m\u001b[0;34m(\u001b[0m\u001b[0;34m)\u001b[0m\u001b[0;34m\u001b[0m\u001b[0;34m\u001b[0m\u001b[0m\n\u001b[0m",
            "\u001b[0;31mTypeError\u001b[0m: describe_pet() missing 2 required positional arguments: 'animal_type' and 'pet_name'"
          ]
        }
      ]
    },
    {
      "cell_type": "code",
      "source": [
        "#8.3\n",
        "def make_shirt (shirt_size, message):\n",
        "  print(f\"\\n The shirt you bought is a size {shirt_size} and has {message} printed on it.\")\n",
        "\n",
        "\n",
        "\n",
        "\n",
        "make_shirt('large', 'kavanaugh')\n",
        "make_shirt(shirt_size='large', message='kavanaugh')"
      ],
      "metadata": {
        "colab": {
          "base_uri": "https://localhost:8080/"
        },
        "id": "X8rmbcdP5oZg",
        "outputId": "89ceee9b-6f2b-48c4-d627-8bfe10485f80"
      },
      "execution_count": 14,
      "outputs": [
        {
          "output_type": "stream",
          "name": "stdout",
          "text": [
            "\n",
            " The shirt you bought is a size large and has kavanaugh printed on it.\n",
            "\n",
            " The shirt you bought is a size large and has kavanaugh printed on it.\n"
          ]
        }
      ]
    },
    {
      "cell_type": "code",
      "source": [
        "#8.4\n",
        "def make_shirt (message, shirt_size= 'large'):\n",
        "  print(f\"\\n The shirt you bought is a size {shirt_size} and has {message} printed on it.\")\n",
        "\n",
        "\n",
        "\n",
        "\n",
        "make_shirt('I love python')\n",
        "make_shirt(shirt_size='medium',message='I love python')\n",
        "make_shirt(shirt_size='small', message='kavanaugh')"
      ],
      "metadata": {
        "colab": {
          "base_uri": "https://localhost:8080/"
        },
        "id": "JdRzMo9h6XNX",
        "outputId": "644584b2-b43f-459d-be22-c18099b6b873"
      },
      "execution_count": 18,
      "outputs": [
        {
          "output_type": "stream",
          "name": "stdout",
          "text": [
            "\n",
            " The shirt you bought is a size large and has I love python printed on it.\n",
            "\n",
            " The shirt you bought is a size medium and has I love python printed on it.\n",
            "\n",
            " The shirt you bought is a size small and has kavanaugh printed on it.\n"
          ]
        }
      ]
    },
    {
      "cell_type": "code",
      "source": [
        "def get_formatted_name(first_name, last_name):\n",
        "  full_name = f\"{first_name} {last_name}\"\n",
        "  return full_name.title()\n",
        "\n",
        "musician = get_formatted_name('jimi', 'hendrix')\n",
        "print(musician)"
      ],
      "metadata": {
        "colab": {
          "base_uri": "https://localhost:8080/"
        },
        "id": "JZG3rugw7TG5",
        "outputId": "298eaf3b-30ad-450a-fcd5-9b65060b0637"
      },
      "execution_count": 20,
      "outputs": [
        {
          "output_type": "stream",
          "name": "stdout",
          "text": [
            "Jimi Hendrix\n"
          ]
        }
      ]
    },
    {
      "cell_type": "code",
      "source": [
        "def get_formatted_name(first_name, middle_name, last_name):\n",
        "  full_name = f\"{first_name} {middle_name} {last_name}\"\n",
        "  return full_name.title()\n",
        "\n",
        "musician = get_formatted_name('john', 'lee', 'hooker')\n",
        "print(musician)"
      ],
      "metadata": {
        "colab": {
          "base_uri": "https://localhost:8080/"
        },
        "id": "NlfqgOnH8aFo",
        "outputId": "1ba761d6-4f15-4a09-8898-627172bf3a81"
      },
      "execution_count": 21,
      "outputs": [
        {
          "output_type": "stream",
          "name": "stdout",
          "text": [
            "John Lee Hooker\n"
          ]
        }
      ]
    },
    {
      "cell_type": "code",
      "source": [
        "def get_formatted_name(first_name, last_name, middle_name=''):\n",
        "  if middle_name:\n",
        "    full_name = f\"{first_name} {middle_name} {last_name}\"\n",
        "  else:\n",
        "    full_name = f\"{first_name} {last_name}\"\n",
        "\n",
        "  return full_name.title()\n",
        "\n",
        "musician = get_formatted_name('jimi', 'hendrix')\n",
        "print(musician)\n",
        "\n",
        "musician = get_formatted_name('john', 'lee', 'hooker')\n",
        "print(musician)"
      ],
      "metadata": {
        "colab": {
          "base_uri": "https://localhost:8080/"
        },
        "id": "IHtZMLRr8qQI",
        "outputId": "9b12ad18-ce10-4e2b-dfd7-5733c2d4344d"
      },
      "execution_count": 23,
      "outputs": [
        {
          "output_type": "stream",
          "name": "stdout",
          "text": [
            "Jimi Hendrix\n",
            "John Hooker Lee\n"
          ]
        }
      ]
    },
    {
      "cell_type": "code",
      "source": [
        "def build_person(first_name, last_name):\n",
        "  person=  {'first': first_name, 'last': last_name}\n",
        "  return person\n",
        "\n",
        "musician = build_person('jimi', 'hendrix')\n",
        "print(musician)"
      ],
      "metadata": {
        "colab": {
          "base_uri": "https://localhost:8080/"
        },
        "id": "wQwcpCyM9Msc",
        "outputId": "9e147b52-a3ef-4716-ea27-d40174e78298"
      },
      "execution_count": 25,
      "outputs": [
        {
          "output_type": "stream",
          "name": "stdout",
          "text": [
            "{'first': 'jimi', 'last': 'hendrix'}\n"
          ]
        }
      ]
    },
    {
      "cell_type": "code",
      "source": [
        "def build_person(first_name, last_name, age=None):\n",
        "  person=  {'first': first_name, 'last': last_name}\n",
        "  if age:\n",
        "    person['age'] = age\n",
        "  return person\n",
        "\n",
        "musician = build_person('jimi', 'hendrix', age=27)\n",
        "print(musician)"
      ],
      "metadata": {
        "colab": {
          "base_uri": "https://localhost:8080/"
        },
        "id": "81iqL6ZH9tEa",
        "outputId": "0702b45f-9d6e-4804-ec21-18d58e5de24e"
      },
      "execution_count": 28,
      "outputs": [
        {
          "output_type": "stream",
          "name": "stdout",
          "text": [
            "{'first': 'jimi', 'last': 'hendrix', 'age': 27}\n"
          ]
        }
      ]
    },
    {
      "cell_type": "code",
      "source": [
        "def get_formatted_name(first_name, last_name):\n",
        "  full_name = f\"{first_name} {last_name}\"\n",
        "  return full_name.title()\n",
        "\n",
        "while True:\n",
        "  print(\"\\nPlease tell me your name:\")\n",
        "  f_name = input(\"First name: \")\n",
        "  l_name = input(\"Last name: \")\n",
        "\n",
        "  formatted_name = get_formatted_name(f_name, l_name)\n",
        "  print(f\"Hello, {formatted_name}!\")"
      ],
      "metadata": {
        "colab": {
          "base_uri": "https://localhost:8080/",
          "height": 524
        },
        "id": "Hp-01Tmt-Oo3",
        "outputId": "3d05afeb-04f0-4d0c-981a-12fa18577c9d"
      },
      "execution_count": 29,
      "outputs": [
        {
          "output_type": "stream",
          "name": "stdout",
          "text": [
            "\n",
            "Please tell me your name:\n",
            "First name: Ryan\n",
            "Last name: Kavanaugh\n",
            "Hello, Ryan Kavanaugh!\n",
            "\n",
            "Please tell me your name:\n"
          ]
        },
        {
          "output_type": "error",
          "ename": "KeyboardInterrupt",
          "evalue": "ignored",
          "traceback": [
            "\u001b[0;31m---------------------------------------------------------------------------\u001b[0m",
            "\u001b[0;31mKeyboardInterrupt\u001b[0m                         Traceback (most recent call last)",
            "\u001b[0;32m<ipython-input-29-3b573bfacd50>\u001b[0m in \u001b[0;36m<cell line: 5>\u001b[0;34m()\u001b[0m\n\u001b[1;32m      5\u001b[0m \u001b[0;32mwhile\u001b[0m \u001b[0;32mTrue\u001b[0m\u001b[0;34m:\u001b[0m\u001b[0;34m\u001b[0m\u001b[0;34m\u001b[0m\u001b[0m\n\u001b[1;32m      6\u001b[0m   \u001b[0mprint\u001b[0m\u001b[0;34m(\u001b[0m\u001b[0;34m\"\\nPlease tell me your name:\"\u001b[0m\u001b[0;34m)\u001b[0m\u001b[0;34m\u001b[0m\u001b[0;34m\u001b[0m\u001b[0m\n\u001b[0;32m----> 7\u001b[0;31m   \u001b[0mf_name\u001b[0m \u001b[0;34m=\u001b[0m \u001b[0minput\u001b[0m\u001b[0;34m(\u001b[0m\u001b[0;34m\"First name: \"\u001b[0m\u001b[0;34m)\u001b[0m\u001b[0;34m\u001b[0m\u001b[0;34m\u001b[0m\u001b[0m\n\u001b[0m\u001b[1;32m      8\u001b[0m   \u001b[0ml_name\u001b[0m \u001b[0;34m=\u001b[0m \u001b[0minput\u001b[0m\u001b[0;34m(\u001b[0m\u001b[0;34m\"Last name: \"\u001b[0m\u001b[0;34m)\u001b[0m\u001b[0;34m\u001b[0m\u001b[0;34m\u001b[0m\u001b[0m\n\u001b[1;32m      9\u001b[0m \u001b[0;34m\u001b[0m\u001b[0m\n",
            "\u001b[0;32m/usr/local/lib/python3.10/dist-packages/ipykernel/kernelbase.py\u001b[0m in \u001b[0;36mraw_input\u001b[0;34m(self, prompt)\u001b[0m\n\u001b[1;32m    849\u001b[0m                 \u001b[0;34m\"raw_input was called, but this frontend does not support input requests.\"\u001b[0m\u001b[0;34m\u001b[0m\u001b[0;34m\u001b[0m\u001b[0m\n\u001b[1;32m    850\u001b[0m             )\n\u001b[0;32m--> 851\u001b[0;31m         return self._input_request(str(prompt),\n\u001b[0m\u001b[1;32m    852\u001b[0m             \u001b[0mself\u001b[0m\u001b[0;34m.\u001b[0m\u001b[0m_parent_ident\u001b[0m\u001b[0;34m,\u001b[0m\u001b[0;34m\u001b[0m\u001b[0;34m\u001b[0m\u001b[0m\n\u001b[1;32m    853\u001b[0m             \u001b[0mself\u001b[0m\u001b[0;34m.\u001b[0m\u001b[0m_parent_header\u001b[0m\u001b[0;34m,\u001b[0m\u001b[0;34m\u001b[0m\u001b[0;34m\u001b[0m\u001b[0m\n",
            "\u001b[0;32m/usr/local/lib/python3.10/dist-packages/ipykernel/kernelbase.py\u001b[0m in \u001b[0;36m_input_request\u001b[0;34m(self, prompt, ident, parent, password)\u001b[0m\n\u001b[1;32m    893\u001b[0m             \u001b[0;32mexcept\u001b[0m \u001b[0mKeyboardInterrupt\u001b[0m\u001b[0;34m:\u001b[0m\u001b[0;34m\u001b[0m\u001b[0;34m\u001b[0m\u001b[0m\n\u001b[1;32m    894\u001b[0m                 \u001b[0;31m# re-raise KeyboardInterrupt, to truncate traceback\u001b[0m\u001b[0;34m\u001b[0m\u001b[0;34m\u001b[0m\u001b[0m\n\u001b[0;32m--> 895\u001b[0;31m                 \u001b[0;32mraise\u001b[0m \u001b[0mKeyboardInterrupt\u001b[0m\u001b[0;34m(\u001b[0m\u001b[0;34m\"Interrupted by user\"\u001b[0m\u001b[0;34m)\u001b[0m \u001b[0;32mfrom\u001b[0m \u001b[0;32mNone\u001b[0m\u001b[0;34m\u001b[0m\u001b[0;34m\u001b[0m\u001b[0m\n\u001b[0m\u001b[1;32m    896\u001b[0m             \u001b[0;32mexcept\u001b[0m \u001b[0mException\u001b[0m \u001b[0;32mas\u001b[0m \u001b[0me\u001b[0m\u001b[0;34m:\u001b[0m\u001b[0;34m\u001b[0m\u001b[0;34m\u001b[0m\u001b[0m\n\u001b[1;32m    897\u001b[0m                 \u001b[0mself\u001b[0m\u001b[0;34m.\u001b[0m\u001b[0mlog\u001b[0m\u001b[0;34m.\u001b[0m\u001b[0mwarning\u001b[0m\u001b[0;34m(\u001b[0m\u001b[0;34m\"Invalid Message:\"\u001b[0m\u001b[0;34m,\u001b[0m \u001b[0mexc_info\u001b[0m\u001b[0;34m=\u001b[0m\u001b[0;32mTrue\u001b[0m\u001b[0;34m)\u001b[0m\u001b[0;34m\u001b[0m\u001b[0;34m\u001b[0m\u001b[0m\n",
            "\u001b[0;31mKeyboardInterrupt\u001b[0m: Interrupted by user"
          ]
        }
      ]
    },
    {
      "cell_type": "code",
      "source": [
        "def get_formatted_name(first_name, last_name):\n",
        "  full_name = f\"{first_name} {last_name}\"\n",
        "  return full_name.title()\n",
        "\n",
        "while True:\n",
        "  print(\"\\nPlease tell me your name:\")\n",
        "  print (\"(enter 'q' at any time to quit)\")\n",
        "\n",
        "  f_name = input(\"First name: \")\n",
        "  if f_name == 'q':\n",
        "    break\n",
        "  l_name = input(\"Last name: \")\n",
        "  if l_name == 'q':\n",
        "    break\n",
        "\n",
        "  formatted_name = get_formatted_name(f_name, l_name)\n",
        "  print(f\"Hello, {formatted_name}!\")"
      ],
      "metadata": {
        "colab": {
          "base_uri": "https://localhost:8080/"
        },
        "id": "ISTOZydK_GYt",
        "outputId": "e73d1290-725b-49e4-ecd2-14e8af9b4778"
      },
      "execution_count": 31,
      "outputs": [
        {
          "name": "stdout",
          "output_type": "stream",
          "text": [
            "\n",
            "Please tell me your name:\n",
            "(enter 'q' at any time to quit)\n",
            "First name: Ryan\n",
            "Last name: q\n"
          ]
        }
      ]
    },
    {
      "cell_type": "code",
      "source": [
        "def greet_users(names):\n",
        "  for name in names:\n",
        "    msg = f\"Hello, {name.title()}!\"\n",
        "    print(msg)\n",
        "\n",
        "usernames = ['hannah', 'ty', 'margot']\n",
        "greet_users(usernames)"
      ],
      "metadata": {
        "colab": {
          "base_uri": "https://localhost:8080/"
        },
        "id": "BG9o5B71_bqZ",
        "outputId": "b1a11780-a8b4-4dce-fe66-7153ebe23c03"
      },
      "execution_count": 33,
      "outputs": [
        {
          "output_type": "stream",
          "name": "stdout",
          "text": [
            "Hello, Hannah!\n",
            "Hello, Ty!\n",
            "Hello, Margot!\n"
          ]
        }
      ]
    },
    {
      "cell_type": "code",
      "source": [
        "unprinted_designs = ['phone case', 'robot pendant', 'dodecahedron']\n",
        "completed_models = []\n",
        "\n",
        "while unprinted_designs:\n",
        "  current_design = unprinted_designs.pop()\n",
        "  print(f\"Priniting model: {current_design}\")\n",
        "  completed_models.append(current_design)\n",
        "\n",
        "print(\"\\nThe following models have been printed:\")\n",
        "for completed_model in completed_models:\n",
        "  print(completed_model)"
      ],
      "metadata": {
        "colab": {
          "base_uri": "https://localhost:8080/"
        },
        "id": "m16WjnhCAVpX",
        "outputId": "60b9e598-440e-436e-a30e-b1f373e1e911"
      },
      "execution_count": 34,
      "outputs": [
        {
          "output_type": "stream",
          "name": "stdout",
          "text": [
            "Priniting model: dodecahedron\n",
            "Priniting model: robot pendant\n",
            "Priniting model: phone case\n",
            "\n",
            "The following models have been printed:\n",
            "dodecahedron\n",
            "robot pendant\n",
            "phone case\n"
          ]
        }
      ]
    },
    {
      "cell_type": "code",
      "source": [
        "def print_models(unprinted_designs, completed_models):\n",
        "  while unprinted_designs:\n",
        "    current_design = unprinted_designs.pop()\n",
        "    print(f\"Priniting model: {current_design}\")\n",
        "    completed_models.append(current_design)\n",
        "\n",
        "def show_completed_models(completed_models):\n",
        "  print(\"\\nThe following models have been printed:\")\n",
        "  for completed_model in completed_models:\n",
        "    print(completed_model)\n",
        "\n",
        "unprinted_designs = ['phone case', 'robot pendant', 'dodecahedron']\n",
        "completed_models = []\n",
        "\n",
        "print_models(unprinted_designs, completed_models)\n",
        "show_completed_models(completed_models)\n",
        "\n"
      ],
      "metadata": {
        "colab": {
          "base_uri": "https://localhost:8080/"
        },
        "id": "q5SFhmbNBYx9",
        "outputId": "903d6378-ff8b-4b4a-b06c-6fe033cb0318"
      },
      "execution_count": 35,
      "outputs": [
        {
          "output_type": "stream",
          "name": "stdout",
          "text": [
            "Priniting model: dodecahedron\n",
            "Priniting model: robot pendant\n",
            "Priniting model: phone case\n",
            "\n",
            "The following models have been printed:\n",
            "dodecahedron\n",
            "robot pendant\n",
            "phone case\n"
          ]
        }
      ]
    },
    {
      "cell_type": "code",
      "source": [
        "functiomn_name(list_name[:])"
      ],
      "metadata": {
        "id": "hcafjGgBCYW5"
      },
      "execution_count": null,
      "outputs": []
    },
    {
      "cell_type": "code",
      "source": [
        "print_models(unprinted_designs[:], completed_models)"
      ],
      "metadata": {
        "id": "FzkEp4-WCmRD"
      },
      "execution_count": null,
      "outputs": []
    },
    {
      "cell_type": "code",
      "source": [
        "def make_pizza(*toppings):\n",
        "  print(toppings)\n",
        "\n",
        "make_pizza('pepperoni')\n",
        "make_pizza('mushrooms', 'green peppers', 'extra cheese')"
      ],
      "metadata": {
        "colab": {
          "base_uri": "https://localhost:8080/"
        },
        "id": "DYcTf0LCCxAv",
        "outputId": "ad9982ae-fb7c-46db-9d30-dee5b47e69ff"
      },
      "execution_count": 36,
      "outputs": [
        {
          "output_type": "stream",
          "name": "stdout",
          "text": [
            "('pepperoni',)\n",
            "('mushrooms', 'green peppers', 'extra cheese')\n"
          ]
        }
      ]
    },
    {
      "cell_type": "code",
      "source": [
        "def make_pizza(*toppings):\n",
        "  print(\"\\nMaking a pizza with the following toppings:\")\n",
        "  for topping in toppings:\n",
        "    print(f\"- {topping}\")\n",
        "\n",
        "make_pizza('pepperoni')\n",
        "make_pizza('mushrooms', 'green peppers', 'extra cheese')"
      ],
      "metadata": {
        "colab": {
          "base_uri": "https://localhost:8080/"
        },
        "id": "oW7x_NWJDX8A",
        "outputId": "4aabd4bd-b4d5-40cf-adf9-2aab77cc9c0b"
      },
      "execution_count": 37,
      "outputs": [
        {
          "output_type": "stream",
          "name": "stdout",
          "text": [
            "\n",
            "Making a pizza with the following toppings:\n",
            "- pepperoni\n",
            "\n",
            "Making a pizza with the following toppings:\n",
            "- mushrooms\n",
            "- green peppers\n",
            "- extra cheese\n"
          ]
        }
      ]
    },
    {
      "cell_type": "code",
      "source": [
        "def make_pizza(size, *toppings):\n",
        "  print(f\"\\nMaking a {size}-inch pizza with the following toppings:\")\n",
        "  for topping in toppings:\n",
        "    print(f\"- {topping}\")\n",
        "\n",
        "make_pizza(16,'pepperoni')\n",
        "make_pizza(12, 'mushrooms', 'green peppers', 'extra cheese')"
      ],
      "metadata": {
        "colab": {
          "base_uri": "https://localhost:8080/"
        },
        "id": "rOLRXN2TDsj8",
        "outputId": "f2d5f9f9-3bb6-4903-ea4b-f01b27a7dd9c"
      },
      "execution_count": 38,
      "outputs": [
        {
          "output_type": "stream",
          "name": "stdout",
          "text": [
            "\n",
            "Making a 16-inch pizza with the following toppings:\n",
            "- pepperoni\n",
            "\n",
            "Making a 12-inch pizza with the following toppings:\n",
            "- mushrooms\n",
            "- green peppers\n",
            "- extra cheese\n"
          ]
        }
      ]
    },
    {
      "cell_type": "code",
      "source": [
        "#8.14\n",
        "def make_car(manu, model_name, **car_info):\n",
        "  car_info['manufacturer'] = manu\n",
        "  car_info['model name'] = model_name\n",
        "  return car_info\n",
        "\n",
        "car = make_car('subaru', 'outback', color='blue', tow_package=True)\n",
        "print(car)"
      ],
      "metadata": {
        "colab": {
          "base_uri": "https://localhost:8080/"
        },
        "id": "4gPU9OLrEFpK",
        "outputId": "6599ea39-0862-4664-c6fe-07a8605684f7"
      },
      "execution_count": 39,
      "outputs": [
        {
          "output_type": "stream",
          "name": "stdout",
          "text": [
            "{'color': 'blue', 'tow_package': True, 'manufacturer': 'subaru', 'model name': 'outback'}\n"
          ]
        }
      ]
    },
    {
      "cell_type": "code",
      "source": [],
      "metadata": {
        "id": "F2I5kMYaFTfy"
      },
      "execution_count": null,
      "outputs": []
    },
    {
      "cell_type": "code",
      "execution_count": null,
      "metadata": {
        "colab": {
          "base_uri": "https://localhost:8080/"
        },
        "id": "tCEK9YCow4nO",
        "outputId": "f33dd16d-a0a3-4847-d5ba-165e3ee81093"
      },
      "outputs": [
        {
          "output_type": "stream",
          "name": "stdout",
          "text": [
            "(23, [8, 15])\n",
            "(23.141592653589793, [3.141592653589793, 20])\n"
          ]
        }
      ],
      "source": [
        "import math\n",
        "\n",
        "def sum_and_sorted(num1, num2= math.pi):\n",
        "  num_list = [num1, num2]\n",
        "  sorted_list = sorted(num_list)\n",
        "  total_sum = num1 + num2\n",
        "  return total_sum, sorted_list\n",
        "\n",
        "result1 = sum_and_sorted(15,8)\n",
        "print(result1)\n",
        "\n",
        "result2 = sum_and_sorted(20)\n",
        "print(result2)"
      ]
    },
    {
      "cell_type": "code",
      "source": [
        "#TEST CASE 1: Both numbers provided\n",
        "result1 = sum_and_sorted(4,2)\n",
        "# Expected Output: (6, [2,4])\n",
        "print(result1) #Output (6, [2,4])\n",
        "\n",
        "#TEST CASE 2: One number provided\n",
        "result2 = sum_and_sorted (2)\n",
        "# Expected Output: (5.141592653589793, [2, 3.14592653589793])\n",
        "print(result2) #Output: (5.141592653589793, [2, 3.14592653589793])\n",
        "\n",
        "#TEST CASE 3: Very large numbers\n",
        "result3 = sum_and_sorted(100000,99999)\n",
        "# Expected Output: (199999, [99999, 100000])\n",
        "print(result3) #Output: (199999, [99999, 100000])"
      ],
      "metadata": {
        "colab": {
          "base_uri": "https://localhost:8080/"
        },
        "id": "bdqkEwNSf8o_",
        "outputId": "d75ee1fc-faab-482a-da35-7e0a03b29ae0"
      },
      "execution_count": null,
      "outputs": [
        {
          "output_type": "stream",
          "name": "stdout",
          "text": [
            "(6, [2, 4])\n",
            "(5.141592653589793, [2, 3.141592653589793])\n",
            "(199999, [99999, 100000])\n"
          ]
        }
      ]
    },
    {
      "cell_type": "code",
      "source": [
        "import math\n",
        "\n",
        "def sum_and_sorted(num1, num2 = math.pi, verbose = False):\n",
        "  num_list = [num1, num2]\n",
        "  sorted_list = sorted(num_list)\n",
        "  total_sum = num1 + num2\n",
        "  if verbose:\n",
        "    print(\"Parameters:\")\n",
        "    print(f\"num1:{num1}\")\n",
        "    print(f\"num2:{num2}\")\n",
        "    print(f\"verbose:{verbose}\")\n",
        "    print(\"Results:\")\n",
        "    print(f\"Sum: {total_sum}\")\n",
        "    print(f\"Sorted List: {sorted_list}\")\n",
        "  return total_sum, sorted_list\n",
        "\n",
        "result1 = sum_and_sorted(15,8, verbose = True)\n",
        "print(result1)\n",
        "\n",
        "result2 = sum_and_sorted(20, verbose = False)\n",
        "print(result2)"
      ],
      "metadata": {
        "colab": {
          "base_uri": "https://localhost:8080/"
        },
        "id": "2KOxtrnzeL-q",
        "outputId": "35e16b98-fed8-4bf5-c2a8-0accba889aac"
      },
      "execution_count": null,
      "outputs": [
        {
          "output_type": "stream",
          "name": "stdout",
          "text": [
            "Parameters:\n",
            "num1:15\n",
            "num2:8\n",
            "verbose:True\n",
            "Results:\n",
            "Sum: 23\n",
            "Sorted List: [8, 15]\n",
            "(23, [8, 15])\n",
            "(23.141592653589793, [3.141592653589793, 20])\n"
          ]
        }
      ]
    }
  ]
}