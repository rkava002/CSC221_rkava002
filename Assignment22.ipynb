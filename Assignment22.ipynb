{
  "nbformat": 4,
  "nbformat_minor": 0,
  "metadata": {
    "colab": {
      "provenance": [],
      "authorship_tag": "ABX9TyMfUXWfCBvYYzFRRpMlKSny",
      "include_colab_link": true
    },
    "kernelspec": {
      "name": "python3",
      "display_name": "Python 3"
    },
    "language_info": {
      "name": "python"
    }
  },
  "cells": [
    {
      "cell_type": "markdown",
      "metadata": {
        "id": "view-in-github",
        "colab_type": "text"
      },
      "source": [
        "<a href=\"https://colab.research.google.com/github/rkava002/CSC221_rkava002/blob/main/Assignment22.ipynb\" target=\"_parent\"><img src=\"https://colab.research.google.com/assets/colab-badge.svg\" alt=\"Open In Colab\"/></a>"
      ]
    },
    {
      "cell_type": "code",
      "execution_count": null,
      "metadata": {
        "id": "Pa_tZjbhIeIp"
      },
      "outputs": [],
      "source": [
        "#RYAN KAVANAUGH\n",
        "#ASSIGNMENT22"
      ]
    },
    {
      "cell_type": "code",
      "source": [
        "#1\n",
        "class Vector2D:\n",
        "    def __init__(self, x, y):\n",
        "        self.x = x\n",
        "        self.y = y\n",
        "\n",
        "    def __repr__(self):\n",
        "        return f\"Vector2D({self.x}, {self.y})\"\n",
        "\n",
        "    def __lt__(self, other):\n",
        "        return (self.x ** 2 + self.y ** 2) < (other.x ** 2 + other.y ** 2)\n",
        "\n",
        "\n",
        "vectors = [Vector2D(3, 4), Vector2D(1, 2), Vector2D(0, 0)]\n",
        "sorted_vectors = sorted(vectors)\n",
        "print(sorted_vectors)\n"
      ],
      "metadata": {
        "colab": {
          "base_uri": "https://localhost:8080/"
        },
        "id": "83DUO3lsIk2g",
        "outputId": "ee9a1473-3171-41a0-f211-6eb8d61e83c1"
      },
      "execution_count": 1,
      "outputs": [
        {
          "output_type": "stream",
          "name": "stdout",
          "text": [
            "[Vector2D(0, 0), Vector2D(1, 2), Vector2D(3, 4)]\n"
          ]
        }
      ]
    },
    {
      "cell_type": "code",
      "source": [
        "#2\n",
        "class Vector2D:\n",
        "    def __init__(self, x, y):\n",
        "        self.x = x\n",
        "        self.y = y\n",
        "\n",
        "    def __repr__(self):\n",
        "        return f\"Vector2D({self.x}, {self.y})\"\n",
        "\n",
        "    def __lt__(self, other):\n",
        "        return (self.x + self.y) < (other.x + other.y)\n",
        "\n",
        "\n",
        "vectors = [Vector2D(3, 4), Vector2D(1, 2), Vector2D(0, 0)]\n",
        "sorted_vectors = sorted(vectors)\n",
        "print(sorted_vectors)\n"
      ],
      "metadata": {
        "colab": {
          "base_uri": "https://localhost:8080/"
        },
        "id": "nlJFfQKAIk5x",
        "outputId": "d12948c3-469a-4897-ed56-83d01fb45bec"
      },
      "execution_count": 2,
      "outputs": [
        {
          "output_type": "stream",
          "name": "stdout",
          "text": [
            "[Vector2D(0, 0), Vector2D(1, 2), Vector2D(3, 4)]\n"
          ]
        }
      ]
    },
    {
      "cell_type": "code",
      "source": [
        "#3\n",
        "class Special:\n",
        "    def __getitem__(self, key):\n",
        "        if isinstance(key, str):\n",
        "            # Assuming the key is a string\n",
        "            # Count the alphanumeric characters in the key\n",
        "            return sum(char.isalnum() for char in key)\n",
        "        else:\n",
        "            raise TypeError(\"Keys must be strings\")\n",
        "\n",
        "# Test the Special class\n",
        "s1 = Special()\n",
        "print(s1['ned'])        # Output: 3\n",
        "print(s1['ned2'])       # Output: 4\n",
        "print(s1['ned2' * 5])   # Output: 20\n",
        "\n",
        "\n"
      ],
      "metadata": {
        "colab": {
          "base_uri": "https://localhost:8080/"
        },
        "id": "0yjBhPOaIk90",
        "outputId": "1a3ed784-e449-46be-dbff-b8b4b652cf2a"
      },
      "execution_count": 7,
      "outputs": [
        {
          "output_type": "stream",
          "name": "stdout",
          "text": [
            "3\n",
            "4\n",
            "20\n"
          ]
        }
      ]
    }
  ]
}