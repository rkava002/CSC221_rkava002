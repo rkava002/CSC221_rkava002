{
  "nbformat": 4,
  "nbformat_minor": 0,
  "metadata": {
    "colab": {
      "provenance": [],
      "authorship_tag": "ABX9TyOncf4WiV20Bdg5cFdcSGJn",
      "include_colab_link": true
    },
    "kernelspec": {
      "name": "python3",
      "display_name": "Python 3"
    },
    "language_info": {
      "name": "python"
    }
  },
  "cells": [
    {
      "cell_type": "markdown",
      "metadata": {
        "id": "view-in-github",
        "colab_type": "text"
      },
      "source": [
        "<a href=\"https://colab.research.google.com/github/rkava002/CSC221_rkava002/blob/main/Assignment4.ipynb\" target=\"_parent\"><img src=\"https://colab.research.google.com/assets/colab-badge.svg\" alt=\"Open In Colab\"/></a>"
      ]
    },
    {
      "cell_type": "code",
      "execution_count": null,
      "metadata": {
        "id": "ua9VAzx0Pve7"
      },
      "outputs": [],
      "source": []
    },
    {
      "cell_type": "code",
      "source": [],
      "metadata": {
        "id": "0vVTSvVHP36F"
      },
      "execution_count": null,
      "outputs": []
    },
    {
      "cell_type": "code",
      "source": [],
      "metadata": {
        "id": "0Jk2DqbUP4Cp"
      },
      "execution_count": null,
      "outputs": []
    },
    {
      "cell_type": "code",
      "source": [],
      "metadata": {
        "id": "qmht8y-TP4RR"
      },
      "execution_count": null,
      "outputs": []
    },
    {
      "cell_type": "code",
      "source": [],
      "metadata": {
        "id": "kr1AnNyXP4b2"
      },
      "execution_count": null,
      "outputs": []
    },
    {
      "cell_type": "code",
      "source": [],
      "metadata": {
        "id": "s_8y2VriP4k1"
      },
      "execution_count": null,
      "outputs": []
    },
    {
      "cell_type": "code",
      "source": [],
      "metadata": {
        "id": "5xBtnfiMP4vx"
      },
      "execution_count": null,
      "outputs": []
    },
    {
      "cell_type": "code",
      "source": [],
      "metadata": {
        "id": "DOv07O4zP47M"
      },
      "execution_count": null,
      "outputs": []
    },
    {
      "cell_type": "code",
      "source": [],
      "metadata": {
        "id": "A5PevbXdP5Et"
      },
      "execution_count": null,
      "outputs": []
    },
    {
      "cell_type": "code",
      "source": [
        "names = ['ryan', 'tanner', 'riley']\n",
        "print(names[0])\n",
        "print(names[1])\n",
        "print(names[2])"
      ],
      "metadata": {
        "id": "aprD0geoP5Yp",
        "colab": {
          "base_uri": "https://localhost:8080/"
        },
        "outputId": "1497c9ea-9b28-46a8-bc35-0162c7327a78"
      },
      "execution_count": 2,
      "outputs": [
        {
          "output_type": "stream",
          "name": "stdout",
          "text": [
            "ryan\n",
            "tanner\n",
            "riley\n"
          ]
        }
      ]
    },
    {
      "cell_type": "code",
      "source": [
        "message = f\"My first friend I met was {names[0]}\"\n",
        "print (message)\n",
        "message = f\"My first friend I met was {names[1]}\"\n",
        "print(message)\n",
        "message = f\"My first friend I met was {names[2]}\"\n",
        "print(message)"
      ],
      "metadata": {
        "colab": {
          "base_uri": "https://localhost:8080/"
        },
        "id": "j2DQumaaahwF",
        "outputId": "54360242-baf7-4873-8f6c-978a0fb4c5e6"
      },
      "execution_count": 4,
      "outputs": [
        {
          "output_type": "stream",
          "name": "stdout",
          "text": [
            "My first friend I met was ryan\n",
            "My first friend I met was tanner\n",
            "My first friend I met was riley\n"
          ]
        }
      ]
    },
    {
      "cell_type": "code",
      "source": [
        "cars = ['lambo', 'jeep','van' ]\n",
        "message = f\"I would like to own a {cars[0]}\"\n",
        "print(message)\n",
        "message = f\"I would love to own a {cars[1]}\"\n",
        "print(message)\n",
        "message = f\"I would really like to own a {cars[2]}\"\n",
        "print(message)\n"
      ],
      "metadata": {
        "colab": {
          "base_uri": "https://localhost:8080/"
        },
        "id": "nP2vfiPEaiGC",
        "outputId": "94dc0b47-6d33-4f11-8871-c65a35d8e57c"
      },
      "execution_count": 14,
      "outputs": [
        {
          "output_type": "stream",
          "name": "stdout",
          "text": [
            "I would like to own a lambo\n",
            "I would love to own a jeep\n",
            "I would really like to own a van\n"
          ]
        }
      ]
    },
    {
      "cell_type": "code",
      "source": [
        "people= ['Ronaldo','Messi','Tom Brady']\n",
        "message = f\"Hi {people[0]}, I would like to invite you to dinner.\"\n",
        "print(message)\n",
        "message = f\"Hi {people[1]}, I would like to invite you to dinner.\"\n",
        "print(message)\n",
        "message = f\"Hi {people[2]}, I would like to invite you to dinner.\"\n",
        "print(message)"
      ],
      "metadata": {
        "colab": {
          "base_uri": "https://localhost:8080/"
        },
        "id": "u1ks92v_dE4r",
        "outputId": "711c49f7-7e21-40b0-b36a-b71fd3a67ef1"
      },
      "execution_count": 16,
      "outputs": [
        {
          "output_type": "stream",
          "name": "stdout",
          "text": [
            "Hi Ronaldo, I would like to invite you to dinner.\n",
            "Hi Messi, I would like to invite you to dinner.\n",
            "Hi Tom Brady, I would like to invite you to dinner.\n"
          ]
        }
      ]
    },
    {
      "cell_type": "code",
      "source": [
        "people= ['Ronaldo','Messi','Tom Brady']\n",
        "del people[2]\n",
        "people.insert(0,'Josh Allen')\n",
        "print(people)\n",
        "message = f\"Hi {people[0]}, I would like to invite you to dinner.\"\n",
        "print(message)\n",
        "message = f\"Hi {people[1]}, I would like to invite you to dinner.\"\n",
        "print(message)\n",
        "message = f\"Hi {people[2]}, I would like to invite you to dinner.\"\n",
        "print(message)"
      ],
      "metadata": {
        "colab": {
          "base_uri": "https://localhost:8080/"
        },
        "id": "XrFRsTmgegbJ",
        "outputId": "13405806-98a0-4ca6-ede4-f059ad853c4e"
      },
      "execution_count": 20,
      "outputs": [
        {
          "output_type": "stream",
          "name": "stdout",
          "text": [
            "['Josh Allen', 'Ronaldo', 'Messi']\n",
            "Hi Josh Allen, I would like to invite you to dinner.\n",
            "Hi Ronaldo, I would like to invite you to dinner.\n",
            "Hi Messi, I would like to invite you to dinner.\n"
          ]
        }
      ]
    },
    {
      "cell_type": "code",
      "source": [
        "people= ['Ronaldo','Messi','Tom Brady']\n",
        "del people[2]\n",
        "people.insert(0,'Josh Allen')\n",
        "print(people)\n",
        "message = f\"Hi {people[0]}, I would like to invite you to dinner.\"\n",
        "print(message)\n",
        "message = f\"Hi {people[1]}, I would like to invite you to dinner.\"\n",
        "print(message)\n",
        "message = f\"Hi {people[2]}, I would like to invite you to dinner.\"\n",
        "print(message)\n",
        "print(\"I found a bigger dinner table\")\n",
        "people.insert (0,'Joe Burrow')\n",
        "people.insert (2,'Lamar Jackson')\n",
        "people.append ('Jordan Love')\n",
        "print (people)\n",
        "message = f\"Hi {people[0]}, I would like to invite you to dinner.\"\n",
        "print(message)\n",
        "message = f\"Hi {people[1]}, I would like to invite you to dinner.\"\n",
        "print(message)\n",
        "message = f\"Hi {people[2]}, I would like to invite you to dinner.\"\n",
        "print(message)\n",
        "message = f\"Hi {people[3]}, I would like to invite you to dinner.\"\n",
        "print(message)\n",
        "message = f\"Hi {people[4]}, I would like to invite you to dinner.\"\n",
        "print(message)\n",
        "message = f\"Hi {people[5]}, I would like to invite you to dinner.\"\n",
        "print(message)\n"
      ],
      "metadata": {
        "colab": {
          "base_uri": "https://localhost:8080/"
        },
        "id": "VmWVrbM3foBz",
        "outputId": "a529ded8-242b-4f13-a146-dffeb4fc9aeb"
      },
      "execution_count": 21,
      "outputs": [
        {
          "output_type": "stream",
          "name": "stdout",
          "text": [
            "['Josh Allen', 'Ronaldo', 'Messi']\n",
            "Hi Josh Allen, I would like to invite you to dinner.\n",
            "Hi Ronaldo, I would like to invite you to dinner.\n",
            "Hi Messi, I would like to invite you to dinner.\n",
            "I found a bigger dinner table\n",
            "['Joe Burrow', 'Josh Allen', 'Lamar Jackson', 'Ronaldo', 'Messi', 'Jordan Love']\n",
            "Hi Joe Burrow, I would like to invite you to dinner.\n",
            "Hi Josh Allen, I would like to invite you to dinner.\n",
            "Hi Lamar Jackson, I would like to invite you to dinner.\n",
            "Hi Ronaldo, I would like to invite you to dinner.\n",
            "Hi Messi, I would like to invite you to dinner.\n",
            "Hi Jordan Love, I would like to invite you to dinner.\n"
          ]
        }
      ]
    },
    {
      "cell_type": "code",
      "source": [
        "people= ['Ronaldo','Messi','Tom Brady']\n",
        "del people[2]\n",
        "people.insert(0,'Josh Allen')\n",
        "print(people)\n",
        "message = f\"Hi {people[0]}, I would like to invite you to dinner.\"\n",
        "print(message)\n",
        "message = f\"Hi {people[1]}, I would like to invite you to dinner.\"\n",
        "print(message)\n",
        "message = f\"Hi {people[2]}, I would like to invite you to dinner.\"\n",
        "print(message)\n",
        "print(\"I found a bigger dinner table\")\n",
        "people.insert (0,'Joe Burrow')\n",
        "people.insert (2,'Lamar Jackson')\n",
        "people.append ('Jordan Love')\n",
        "print (people)\n",
        "message = f\"Hi {people[0]}, I would like to invite you to dinner.\"\n",
        "print(message)\n",
        "message = f\"Hi {people[1]}, I would like to invite you to dinner.\"\n",
        "print(message)\n",
        "message = f\"Hi {people[2]}, I would like to invite you to dinner.\"\n",
        "print(message)\n",
        "message = f\"Hi {people[3]}, I would like to invite you to dinner.\"\n",
        "print(message)\n",
        "message = f\"Hi {people[4]}, I would like to invite you to dinner.\"\n",
        "print(message)\n",
        "message = f\"Hi {people[5]}, I would like to invite you to dinner.\"\n",
        "print(message)\n",
        "print(\"I can only invite two people to dinner\")\n",
        "unvited_guests = people.pop(0)\n",
        "print (\"Sorry I couldnt invite you to dinner\")\n",
        "unvited_guests = people.pop(1)\n",
        "print (\"Sorry I couldnt invite you to dinner\")\n",
        "unvited_guests = people.pop(2)\n",
        "print (\"Sorry I couldnt invite you to dinner\")\n",
        "unvited_guests = people.pop(0)\n",
        "print (\"Sorry I couldnt invite you to dinner\")\n",
        "print (people)\n",
        "print (\"Youre still invited\")\n",
        "print (\"Youre still invited\")\n",
        "del people[0]\n",
        "del people[0]\n",
        "print (people)\n",
        "\n",
        "\n"
      ],
      "metadata": {
        "colab": {
          "base_uri": "https://localhost:8080/"
        },
        "id": "frDBGNabgdPi",
        "outputId": "9a8290ba-d9e6-4a93-98fe-7c972fe05df2"
      },
      "execution_count": 25,
      "outputs": [
        {
          "output_type": "stream",
          "name": "stdout",
          "text": [
            "['Josh Allen', 'Ronaldo', 'Messi']\n",
            "Hi Josh Allen, I would like to invite you to dinner.\n",
            "Hi Ronaldo, I would like to invite you to dinner.\n",
            "Hi Messi, I would like to invite you to dinner.\n",
            "I found a bigger dinner table\n",
            "['Joe Burrow', 'Josh Allen', 'Lamar Jackson', 'Ronaldo', 'Messi', 'Jordan Love']\n",
            "Hi Joe Burrow, I would like to invite you to dinner.\n",
            "Hi Josh Allen, I would like to invite you to dinner.\n",
            "Hi Lamar Jackson, I would like to invite you to dinner.\n",
            "Hi Ronaldo, I would like to invite you to dinner.\n",
            "Hi Messi, I would like to invite you to dinner.\n",
            "Hi Jordan Love, I would like to invite you to dinner.\n",
            "I can only invite two people to dinner\n",
            "Sorry I couldnt invite you to dinner\n",
            "Sorry I couldnt invite you to dinner\n",
            "Sorry I couldnt invite you to dinner\n",
            "Sorry I couldnt invite you to dinner\n",
            "['Ronaldo', 'Jordan Love']\n",
            "Youre still invited\n",
            "Youre still invited\n",
            "[]\n"
          ]
        }
      ]
    },
    {
      "cell_type": "code",
      "source": [
        "from IPython.utils.tempdir import TemporaryDirectory\n",
        "places= ['England', 'Mexico', 'Brazil', 'France', 'Spain']\n",
        "print (places)\n",
        "print(sorted(places))\n",
        "print(places)\n",
        "places.sort(reverse=True)\n",
        "print (places)\n",
        "places.reverse()\n",
        "print (places)\n",
        "places.reverse()\n",
        "print (places)\n",
        "places.sort()\n",
        "print (places)\n",
        "places.sort(reverse=True)\n",
        "print (places)"
      ],
      "metadata": {
        "colab": {
          "base_uri": "https://localhost:8080/"
        },
        "id": "UWaGlNERhwbX",
        "outputId": "18573b42-8690-4c48-9172-c674f1cc92c9"
      },
      "execution_count": 31,
      "outputs": [
        {
          "output_type": "stream",
          "name": "stdout",
          "text": [
            "['England', 'Mexico', 'Brazil', 'France', 'Spain']\n",
            "['Brazil', 'England', 'France', 'Mexico', 'Spain']\n",
            "['England', 'Mexico', 'Brazil', 'France', 'Spain']\n",
            "['Spain', 'Mexico', 'France', 'England', 'Brazil']\n",
            "['Brazil', 'England', 'France', 'Mexico', 'Spain']\n",
            "['Spain', 'Mexico', 'France', 'England', 'Brazil']\n",
            "['Brazil', 'England', 'France', 'Mexico', 'Spain']\n",
            "['Spain', 'Mexico', 'France', 'England', 'Brazil']\n"
          ]
        }
      ]
    },
    {
      "cell_type": "code",
      "source": [
        "len(people)\n"
      ],
      "metadata": {
        "colab": {
          "base_uri": "https://localhost:8080/"
        },
        "id": "jGy_rjQ9jpLD",
        "outputId": "8258587c-b7c1-4902-cfc4-c098a6a0fcd2"
      },
      "execution_count": 32,
      "outputs": [
        {
          "output_type": "execute_result",
          "data": {
            "text/plain": [
              "0"
            ]
          },
          "metadata": {},
          "execution_count": 32
        }
      ]
    },
    {
      "cell_type": "code",
      "source": [
        "things=['USA','Mexico','Spain','France','Germany','England']\n",
        "things.sort()\n",
        "print (things)\n",
        "places.reverse()\n",
        "print (things)\n",
        "things.insert(2,\"China\")\n",
        "print(things)\n",
        "things.append(\"Brazil\")\n",
        "print(things)\n"
      ],
      "metadata": {
        "colab": {
          "base_uri": "https://localhost:8080/"
        },
        "id": "1t05RJR8jvr-",
        "outputId": "fd4d02f2-ec92-421e-dac2-6046541c7583"
      },
      "execution_count": 34,
      "outputs": [
        {
          "output_type": "stream",
          "name": "stdout",
          "text": [
            "['England', 'France', 'Germany', 'Mexico', 'Spain', 'USA']\n",
            "['England', 'France', 'Germany', 'Mexico', 'Spain', 'USA']\n",
            "['England', 'France', 'China', 'Germany', 'Mexico', 'Spain', 'USA']\n",
            "['England', 'France', 'China', 'Germany', 'Mexico', 'Spain', 'USA', 'Brazil']\n"
          ]
        }
      ]
    },
    {
      "cell_type": "code",
      "source": [
        "del people[0]"
      ],
      "metadata": {
        "colab": {
          "base_uri": "https://localhost:8080/",
          "height": 179
        },
        "id": "ApDh0DCRkuA8",
        "outputId": "284194c0-1f1a-44c0-dca0-d09c12b07d9b"
      },
      "execution_count": 35,
      "outputs": [
        {
          "output_type": "error",
          "ename": "IndexError",
          "evalue": "ignored",
          "traceback": [
            "\u001b[0;31m---------------------------------------------------------------------------\u001b[0m",
            "\u001b[0;31mIndexError\u001b[0m                                Traceback (most recent call last)",
            "\u001b[0;32m<ipython-input-35-325ca422b2bc>\u001b[0m in \u001b[0;36m<cell line: 1>\u001b[0;34m()\u001b[0m\n\u001b[0;32m----> 1\u001b[0;31m \u001b[0;32mdel\u001b[0m \u001b[0mpeople\u001b[0m\u001b[0;34m[\u001b[0m\u001b[0;36m0\u001b[0m\u001b[0;34m]\u001b[0m\u001b[0;34m\u001b[0m\u001b[0;34m\u001b[0m\u001b[0m\n\u001b[0m",
            "\u001b[0;31mIndexError\u001b[0m: list assignment index out of range"
          ]
        }
      ]
    },
    {
      "cell_type": "code",
      "source": [
        "for num in range (60,85):\n",
        "  if num %7 ==0:\n",
        "    cube =num**3\n",
        "    print (cube)"
      ],
      "metadata": {
        "colab": {
          "base_uri": "https://localhost:8080/"
        },
        "id": "4J_UKzUPlAJ7",
        "outputId": "605b6f0d-e476-43ba-c03a-bd8391485e5a"
      },
      "execution_count": 41,
      "outputs": [
        {
          "output_type": "stream",
          "name": "stdout",
          "text": [
            "250047\n",
            "343000\n",
            "456533\n",
            "592704\n"
          ]
        }
      ]
    },
    {
      "cell_type": "code",
      "source": [
        "values=[40,50,120,-8,6]\n",
        "for x in values:\n",
        "  y = 7.4*x+51\n",
        "  print (f\"For x= {x}, y={y}\")"
      ],
      "metadata": {
        "colab": {
          "base_uri": "https://localhost:8080/"
        },
        "id": "8Yi1dPjelASa",
        "outputId": "455f26ef-008c-4467-a42b-6831b910670e"
      },
      "execution_count": 45,
      "outputs": [
        {
          "output_type": "stream",
          "name": "stdout",
          "text": [
            "For x= 40, y=347.0\n",
            "For x= 50, y=421.0\n",
            "For x= 120, y=939.0\n",
            "For x= -8, y=-8.200000000000003\n",
            "For x= 6, y=95.4\n"
          ]
        }
      ]
    }
  ]
}